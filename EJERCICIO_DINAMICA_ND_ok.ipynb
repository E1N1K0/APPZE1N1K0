{
  "cells": [
    {
      "cell_type": "markdown",
      "metadata": {
        "id": "view-in-github",
        "colab_type": "text"
      },
      "source": [
        "<a href=\"https://colab.research.google.com/github/E1N1K0/APPZE1N1K0/blob/main/EJERCICIO_DINAMICA_ND_ok.ipynb\" target=\"_parent\"><img src=\"https://colab.research.google.com/assets/colab-badge.svg\" alt=\"Open In Colab\"/></a>"
      ]
    },
    {
      "cell_type": "markdown",
      "source": [
        "**TAREA SMGdl**\n",
        "\n",
        "---\n",
        "\n"
      ],
      "metadata": {
        "id": "zd03nuusWgV0"
      }
    },
    {
      "cell_type": "markdown",
      "source": [
        "**DATOS INICIALES**"
      ],
      "metadata": {
        "id": "PhZeZaIzWlQC"
      }
    },
    {
      "cell_type": "code",
      "execution_count": 1,
      "metadata": {
        "id": "6el54sv14mJ-"
      },
      "outputs": [],
      "source": [
        "# IMPORTAR LIBRERIAS\n",
        "from sympy import *\n",
        "import numpy as np"
      ]
    },
    {
      "cell_type": "code",
      "source": [
        "# DEFINICION DE SIMBOLOS\n",
        "init_printing()\n",
        "\n",
        "EI = symbols(\"EI\")              #EI: Rigidez a la flexión.\n",
        "L = symbols(\"L\")                #L: Longitud.\n",
        "rho = symbols(\"rho\")            #rho: Densidad.\n",
        "omega = symbols(\"omega\")        #omega: Frecuencia natural.\n",
        "lambd = symbols(\"lambda\")       #omega^2.\n",
        "u1,u2,u3 = symbols(\"u1,u2,u3\")  #u1, u2, u3: Desplazamientos.\n",
        "psi = symbols(\"psi\")            #psi: Función de forma.\n",
        "t = symbols(\"t\")                #t: Tiempo."
      ],
      "metadata": {
        "id": "iI0f_UY-WNSF"
      },
      "execution_count": 2,
      "outputs": []
    },
    {
      "cell_type": "code",
      "source": [
        "# CIFRAS PERSONALIZADAS\n",
        "\"\"\"Para determinar los ejercicios a desarrollar\"\"\"\n",
        "C1 = 1\n",
        "C2 = 0.89\n",
        "C3 = 0.9\n",
        "C4 = 1.1\n",
        "\n",
        "estructuras = [f\"Se evaluará la estructura numero {num}.\" for num in [\n",
        "                1 if C1 % 2 == 0 else 2,\n",
        "                3 if C2 % 2 == 0 else 4,\n",
        "                5 if C3 % 2 == 0 else 6\n",
        "                                        ]]\n",
        "\n",
        "for estructura in estructuras:\n",
        "    print(estructura)"
      ],
      "metadata": {
        "colab": {
          "base_uri": "https://localhost:8080/"
        },
        "id": "y-9FOcVfXX47",
        "outputId": "1e4838bd-ae6d-4763-d64f-e9dc1d752c11"
      },
      "execution_count": 3,
      "outputs": [
        {
          "output_type": "stream",
          "name": "stdout",
          "text": [
            "Se evaluará la estructura numero 2.\n",
            "Se evaluará la estructura numero 4.\n",
            "Se evaluará la estructura numero 6.\n"
          ]
        }
      ]
    },
    {
      "cell_type": "markdown",
      "source": [
        "**SOLUCION DEL EJERCICIO**"
      ],
      "metadata": {
        "id": "0NtrzK2ZXml8"
      }
    },
    {
      "cell_type": "markdown",
      "source": [
        "**DATOS DE ENTRADA PARA RESOLVER EL EJERCICIO**"
      ],
      "metadata": {
        "id": "YFCNeCM_YzFG"
      }
    },
    {
      "cell_type": "code",
      "source": [
        "#Definir la matriz de masa sin condensar y rigidez sin condensar,\n",
        "#para el ejercicio que se desea resolver.\n",
        "\n",
        "Ej = \"1\"   #<==== Definir el ejercicio a desarrollar.\n",
        "\n",
        "if Ej == \"1\":\n",
        "    M=Matrix([[rho*L/2,0,0],[0,0,0],[0,0,0]])\n",
        "    K=Matrix([[12*EI/L**3, -6*EI/L**2, -6*EI/L**2],[-6*EI/L**2, 4*EI/L**1,2*EI/L**1],[-6*EI/L**2,2*EI/L**1, 12*EI/L**1]])\n",
        "\n",
        "elif Ej == \"2\":\n",
        "    M=Matrix([[rho*L/2,0,0],[0,0,0],[0,0,0]])\n",
        "    K=Matrix([[12*EI/L**3, -6*EI/L**2, 0],[-6*EI/L**2, 12*EI/L**1,4*EI/L**1],[0,4*EI/L**1, 8*EI/L**1]])\n",
        "\n",
        "elif Ej == \"3\":\n",
        "    M=Matrix([[rho*L/2,0,0,0],[0,rho*L,0,0],[0,0,0,0],[0,0,0,0]])\n",
        "    K=Matrix([[12*EI/(L**3), -12*EI/(L**3), -6*EI/(L**2), 0], [-12*EI/(L**3), 36*EI/(L**3), -6*EI/(L**2), -12*EI/(L**2)], [-6*EI/(L**2), -6*EI/(L**2), 12*EI/(L**1), 4*EI/(L**1)], [0, -12*EI/(L**2), 4*EI/(L**1), 8*EI/(L**1)]])\n",
        "\n",
        "elif Ej == \"4\":\n",
        "    M=Matrix([[rho*L/2,0,0,0],[0,rho*L/2,0,0],[0,0,0,0],[0,0,0,0]])\n",
        "    K=Matrix([[24*EI/(L**3), 0, -12*EI/(L**2), 0], [0, 12*EI/(L**3), 6*EI/(L**2), 6*EI/(L**2)], [-12*EI/(L**2), 6*EI/(L**2), 12*EI/(L**1), 2*EI/(L**1)], [0, 6*EI/(L**2), 2*EI/(L**1), 4*EI/(L**1)]])\n",
        "\n",
        "elif Ej == \"5\":\n",
        "    M=Matrix([[3*rho*L,0,0],[0,2*rho*L,0],[0,0,0],[0,0,0]])\n",
        "    K=Matrix([[96*EI/L**3, -24*EI/L**3, 18*EI/L**2],[-24*EI/L**3, 24*EI/L**3, 0],[18*EI/L**2,0, 12*EI/L**1]])\n",
        "\n",
        "elif Ej == \"6\":\n",
        "    M=Matrix([[5*rho*L/2,0,0],[0,rho*L/2,0],[0,0,0],[0,0,0]])\n",
        "    K=Matrix([[48*EI/L**3, -12*EI/L**3, 6*EI/L**2],[-12*EI/L**3, 12*EI/L**3, 0],[6*EI/L**2,0, 4*EI/L**1]])\n",
        "\n",
        "elif Ej == \"3x3\":\n",
        "    M = Matrix([[1, 2, 3], [4, 5, 6], [7, 8, 9]])\n",
        "    K = Matrix([[1, 2, 3], [4, 5, 6], [7, 8, 9]])\n",
        "\n",
        "elif Ej == \"4x4\":\n",
        "    M = Matrix([[1, 2, 3, 4], [5, 6, 7, 8], [9, 10, 11, 12], [13, 14, 15, 16]])\n",
        "    K = Matrix([[1, 2, 3, 4], [5, 6, 7, 8], [9, 10, 11, 12], [13, 14, 15, 16]])\n",
        "\n",
        "elif Ej == \"libro\":\n",
        "    M=Matrix([[rho*L/4,0,0,0],[0,rho*L/2,0,0],[0,0,0,0],[0,0,0,0]])\n",
        "    K = 4*EI/L**3*Matrix([[24, -24, -6*L, -6*L],[-24, 48, 6*L, 0],[-6*L, 6*L, 2*L**2, L**2],[-6*L, 0, L**2, 4*L**2]])\n",
        "\n",
        "else:\n",
        "    M = None\n",
        "    K = None"
      ],
      "metadata": {
        "id": "bbV0WInNXwNB"
      },
      "execution_count": 4,
      "outputs": []
    },
    {
      "cell_type": "code",
      "execution_count": 5,
      "metadata": {
        "colab": {
          "base_uri": "https://localhost:8080/",
          "height": 79
        },
        "id": "w9sf3BuZ4mKG",
        "outputId": "4bd7dfa8-1477-4c10-b2fa-efdaa5d4166c"
      },
      "outputs": [
        {
          "output_type": "execute_result",
          "data": {
            "text/plain": [
              "⎡L⋅ρ      ⎤\n",
              "⎢───  0  0⎥\n",
              "⎢ 2       ⎥\n",
              "⎢         ⎥\n",
              "⎢ 0   0  0⎥\n",
              "⎢         ⎥\n",
              "⎣ 0   0  0⎦"
            ],
            "text/latex": "$\\displaystyle \\left[\\begin{matrix}\\frac{L \\rho}{2} & 0 & 0\\\\0 & 0 & 0\\\\0 & 0 & 0\\end{matrix}\\right]$"
          },
          "metadata": {},
          "execution_count": 5
        }
      ],
      "source": [
        "#Matriz de masas sin condensar\n",
        "M"
      ]
    },
    {
      "cell_type": "code",
      "execution_count": 6,
      "metadata": {
        "colab": {
          "base_uri": "https://localhost:8080/",
          "height": 80
        },
        "id": "EdT5Gl7-4mKD",
        "outputId": "cffc89c1-e286-4a6f-cc05-2b148719980b"
      },
      "outputs": [
        {
          "output_type": "execute_result",
          "data": {
            "text/plain": [
              "⎡12⋅EI   -6⋅EI   -6⋅EI ⎤\n",
              "⎢─────   ──────  ──────⎥\n",
              "⎢   3       2       2  ⎥\n",
              "⎢  L       L       L   ⎥\n",
              "⎢                      ⎥\n",
              "⎢-6⋅EI    4⋅EI    2⋅EI ⎥\n",
              "⎢──────   ────    ──── ⎥\n",
              "⎢   2      L       L   ⎥\n",
              "⎢  L                   ⎥\n",
              "⎢                      ⎥\n",
              "⎢-6⋅EI    2⋅EI   12⋅EI ⎥\n",
              "⎢──────   ────   ───── ⎥\n",
              "⎢   2      L       L   ⎥\n",
              "⎣  L                   ⎦"
            ],
            "text/latex": "$\\displaystyle \\left[\\begin{matrix}\\frac{12 EI}{L^{3}} & - \\frac{6 EI}{L^{2}} & - \\frac{6 EI}{L^{2}}\\\\- \\frac{6 EI}{L^{2}} & \\frac{4 EI}{L} & \\frac{2 EI}{L}\\\\- \\frac{6 EI}{L^{2}} & \\frac{2 EI}{L} & \\frac{12 EI}{L}\\end{matrix}\\right]$"
          },
          "metadata": {},
          "execution_count": 6
        }
      ],
      "source": [
        "#Matriz de Rigidez sin condensar\n",
        "K"
      ]
    },
    {
      "cell_type": "markdown",
      "source": [
        "**DESARROLLO:**"
      ],
      "metadata": {
        "id": "LCwsW0c_Y-aa"
      }
    },
    {
      "cell_type": "code",
      "source": [
        "#Para automatizar el proceso, definir aceleraciones, u¨:\n",
        "#segun criterio: Si no tiene masa la aceleracion es 0.\n",
        "a = b = 1 if np.count_nonzero(M) == 1 else 2\n",
        "print(f'Se reducirá a una matriz de {a,b}')"
      ],
      "metadata": {
        "colab": {
          "base_uri": "https://localhost:8080/"
        },
        "id": "z6-79euQZE5q",
        "outputId": "a999f182-939a-49ea-812b-0e6b8432d817"
      },
      "execution_count": 7,
      "outputs": [
        {
          "output_type": "stream",
          "name": "stdout",
          "text": [
            "Se reducirá a una matriz de (1, 1)\n"
          ]
        }
      ]
    },
    {
      "cell_type": "code",
      "execution_count": 8,
      "metadata": {
        "colab": {
          "base_uri": "https://localhost:8080/",
          "height": 38
        },
        "id": "6jKpsWq14mKH",
        "outputId": "bfa9d338-394a-4fb5-f09d-02ce78f6534e"
      },
      "outputs": [
        {
          "output_type": "execute_result",
          "data": {
            "text/plain": [
              "⎡12⋅EI⎤\n",
              "⎢─────⎥\n",
              "⎢   3 ⎥\n",
              "⎣  L  ⎦"
            ],
            "text/latex": "$\\displaystyle \\left[\\begin{matrix}\\frac{12 EI}{L^{3}}\\end{matrix}\\right]$"
          },
          "metadata": {},
          "execution_count": 8
        }
      ],
      "source": [
        "#Submatriz de rigidez asociada a los gdl de desplazamiento\n",
        "#Acceder a la submatriz en la esquina superior izquierda\n",
        "Ktt= K[:a, :b]\n",
        "Ktt"
      ]
    },
    {
      "cell_type": "code",
      "execution_count": 9,
      "metadata": {
        "colab": {
          "base_uri": "https://localhost:8080/",
          "height": 59
        },
        "id": "55E_cNzJ4mKI",
        "outputId": "e7bfd6f9-191f-4eaf-bb2d-fbd4160cec6f"
      },
      "outputs": [
        {
          "output_type": "execute_result",
          "data": {
            "text/plain": [
              "⎡-6⋅EI ⎤\n",
              "⎢──────⎥\n",
              "⎢   2  ⎥\n",
              "⎢  L   ⎥\n",
              "⎢      ⎥\n",
              "⎢-6⋅EI ⎥\n",
              "⎢──────⎥\n",
              "⎢   2  ⎥\n",
              "⎣  L   ⎦"
            ],
            "text/latex": "$\\displaystyle \\left[\\begin{matrix}- \\frac{6 EI}{L^{2}}\\\\- \\frac{6 EI}{L^{2}}\\end{matrix}\\right]$"
          },
          "metadata": {},
          "execution_count": 9
        }
      ],
      "source": [
        "#Submatriz de rigidez asociada a los gdl de de desplazamiento y giro\n",
        "#Acceder a la submatriz en la esquina inferior izquierda\n",
        "Kot = K[a:, :b]\n",
        "Kot"
      ]
    },
    {
      "cell_type": "code",
      "execution_count": 10,
      "metadata": {
        "colab": {
          "base_uri": "https://localhost:8080/",
          "height": 59
        },
        "id": "ayRrUwHK4mKI",
        "outputId": "d0fed8a6-ab76-4f9d-e248-e7d404cd9b78"
      },
      "outputs": [
        {
          "output_type": "execute_result",
          "data": {
            "text/plain": [
              "⎡4⋅EI  2⋅EI ⎤\n",
              "⎢────  ──── ⎥\n",
              "⎢ L     L   ⎥\n",
              "⎢           ⎥\n",
              "⎢2⋅EI  12⋅EI⎥\n",
              "⎢────  ─────⎥\n",
              "⎣ L      L  ⎦"
            ],
            "text/latex": "$\\displaystyle \\left[\\begin{matrix}\\frac{4 EI}{L} & \\frac{2 EI}{L}\\\\\\frac{2 EI}{L} & \\frac{12 EI}{L}\\end{matrix}\\right]$"
          },
          "metadata": {},
          "execution_count": 10
        }
      ],
      "source": [
        "#Submatriz de rigidez asociada a los gdl de giro\n",
        "# Acceder a la submatriz en la esquina inferior derecha\n",
        "Koo = K[(a):, (b):]\n",
        "Koo"
      ]
    },
    {
      "cell_type": "code",
      "execution_count": 11,
      "metadata": {
        "colab": {
          "base_uri": "https://localhost:8080/",
          "height": 38
        },
        "id": "t92sC78R4mKJ",
        "outputId": "5d17cb04-21f5-440c-969f-92e0b2bc0125"
      },
      "outputs": [
        {
          "output_type": "execute_result",
          "data": {
            "text/plain": [
              "⎡24⋅EI⎤\n",
              "⎢─────⎥\n",
              "⎢    3⎥\n",
              "⎣11⋅L ⎦"
            ],
            "text/latex": "$\\displaystyle \\left[\\begin{matrix}\\frac{24 EI}{11 L^{3}}\\end{matrix}\\right]$"
          },
          "metadata": {},
          "execution_count": 11
        }
      ],
      "source": [
        "#Matriz de rigidez condensada\n",
        "Kcond = Ktt - Kot.transpose()*Koo.inv()*Kot\n",
        "Kcond"
      ]
    },
    {
      "cell_type": "code",
      "execution_count": 12,
      "metadata": {
        "colab": {
          "base_uri": "https://localhost:8080/",
          "height": 39
        },
        "id": "WhbAJlaq4mKK",
        "outputId": "2e2bb24d-0fa9-4c41-d620-ba9fc20fa1cd"
      },
      "outputs": [
        {
          "output_type": "execute_result",
          "data": {
            "text/plain": [
              "⎡L⋅ρ⎤\n",
              "⎢───⎥\n",
              "⎣ 2 ⎦"
            ],
            "text/latex": "$\\displaystyle \\left[\\begin{matrix}\\frac{L \\rho}{2}\\end{matrix}\\right]$"
          },
          "metadata": {},
          "execution_count": 12
        }
      ],
      "source": [
        "#Matriz de Masa condensada, Mcond=Mtt\n",
        "#Submatriz de masa asociada a los gdl de traslación\n",
        "#Acceder a la submatriz en la esquina superior izquierda\n",
        "Mcond = M[:a, :b]\n",
        "Mcond"
      ]
    },
    {
      "cell_type": "code",
      "execution_count": 13,
      "metadata": {
        "colab": {
          "base_uri": "https://localhost:8080/",
          "height": 58
        },
        "id": "90pUVAKl4mKL",
        "outputId": "008ef1ee-fb74-45cc-9e22-a2e6a85bc2a2"
      },
      "outputs": [
        {
          "output_type": "execute_result",
          "data": {
            "text/plain": [
              "⎡15⋅u₁⎤\n",
              "⎢─────⎥\n",
              "⎢ 11⋅L⎥\n",
              "⎢     ⎥\n",
              "⎢3⋅u₁ ⎥\n",
              "⎢──── ⎥\n",
              "⎣11⋅L ⎦"
            ],
            "text/latex": "$\\displaystyle \\left[\\begin{matrix}\\frac{15 u_{1}}{11 L}\\\\\\frac{3 u_{1}}{11 L}\\end{matrix}\\right]$"
          },
          "metadata": {},
          "execution_count": 13
        }
      ],
      "source": [
        "#Obtención de giros, en función de los desplazamientos\n",
        "#Definir un vector que contiene los desplazamientos\n",
        "#Segun el tamaño de la martiz M (a).\n",
        "if a == 1:  #Solo u1.\n",
        "    u = Matrix([[u1]])\n",
        "\n",
        "else:  #u1 y u2.\n",
        "    u = Matrix([[u1],[u2]])\n",
        "\n",
        "u3 = -Koo.inv()*Kot*u\n",
        "u3"
      ]
    },
    {
      "cell_type": "code",
      "execution_count": 14,
      "metadata": {
        "colab": {
          "base_uri": "https://localhost:8080/",
          "height": 52
        },
        "id": "_EjuZsnw4mKM",
        "outputId": "8e246135-ff0c-4f0e-b415-547b166543c8"
      },
      "outputs": [
        {
          "output_type": "execute_result",
          "data": {
            "text/plain": [
              "24⋅EI   L⋅λ⋅ρ\n",
              "───── - ─────\n",
              "    3     2  \n",
              "11⋅L         "
            ],
            "text/latex": "$\\displaystyle \\frac{24 EI}{11 L^{3}} - \\frac{L \\lambda \\rho}{2}$"
          },
          "metadata": {},
          "execution_count": 14
        }
      ],
      "source": [
        "#Polinomio característico de det[(Kcond-w^2*M)]=0\n",
        "Pol = det(Kcond-lambd*Mcond)\n",
        "simplify(Pol)  #Con N() se muestra el resultado con decimales."
      ]
    },
    {
      "cell_type": "code",
      "execution_count": 15,
      "metadata": {
        "colab": {
          "base_uri": "https://localhost:8080/",
          "height": 58
        },
        "id": "IbG1XsKb4mKM",
        "outputId": "6fd75a6a-ebc1-4385-9291-761faba2f10f"
      },
      "outputs": [
        {
          "output_type": "execute_result",
          "data": {
            "text/plain": [
              "⎡ 48⋅EI ⎤\n",
              "⎢───────⎥\n",
              "⎢    4  ⎥\n",
              "⎣11⋅L ⋅ρ⎦"
            ],
            "text/latex": "$\\displaystyle \\left[ \\frac{48 EI}{11 L^{4} \\rho}\\right]$"
          },
          "metadata": {},
          "execution_count": 15
        }
      ],
      "source": [
        "#Resolución del polinomio característico de det[(Kcond-w^2*M)]=0\n",
        "#La solución son las frecuencias al cuadrado w^2 (lambd)\n",
        "freqs=solve(Pol,lambd)\n",
        "freqs"
      ]
    },
    {
      "cell_type": "code",
      "execution_count": 16,
      "metadata": {
        "colab": {
          "base_uri": "https://localhost:8080/",
          "height": 55
        },
        "id": "0QZFKhP04mKM",
        "outputId": "09601012-1211-49c1-bf86-efe229e95a1d"
      },
      "outputs": [
        {
          "output_type": "execute_result",
          "data": {
            "text/plain": [
              " 48⋅EI \n",
              "───────\n",
              "    4  \n",
              "11⋅L ⋅ρ"
            ],
            "text/latex": "$\\displaystyle \\frac{48 EI}{11 L^{4} \\rho}$"
          },
          "metadata": {},
          "execution_count": 16
        }
      ],
      "source": [
        "#Primera frecuencia al cuadrado\n",
        "freq1=simplify(freqs[0])\n",
        "freq1"
      ]
    },
    {
      "cell_type": "code",
      "execution_count": 17,
      "metadata": {
        "id": "Mpxhj1ED4mKN",
        "colab": {
          "base_uri": "https://localhost:8080/",
          "height": 37
        },
        "outputId": "55a73e20-b98f-4b0f-cd27-475ca74f114e"
      },
      "outputs": [
        {
          "output_type": "execute_result",
          "data": {
            "text/plain": [
              "False"
            ],
            "text/latex": "$\\displaystyle \\text{False}$"
          },
          "metadata": {},
          "execution_count": 17
        }
      ],
      "source": [
        "#Segunda frecuencia al cuadrado\n",
        "if a != 1: #cuando se cumpla que a sea diferente de 1, se imprimirán los resultados\n",
        "    freq2=simplify(freqs[1])\n",
        "    freq2\n",
        "else:\n",
        "    freq2 = false\n",
        "simplify(freq2)"
      ]
    },
    {
      "cell_type": "code",
      "execution_count": 18,
      "metadata": {
        "colab": {
          "base_uri": "https://localhost:8080/",
          "height": 47
        },
        "id": "2H5m8T4F4mKN",
        "outputId": "2d979400-d383-45fd-8399-7981a105106e"
      },
      "outputs": [
        {
          "output_type": "execute_result",
          "data": {
            "text/plain": [
              "⎡ 48⋅EI ⎤\n",
              "⎢───────⎥\n",
              "⎢    4  ⎥\n",
              "⎣11⋅L ⋅ρ⎦"
            ],
            "text/latex": "$\\displaystyle \\left[\\begin{matrix}\\frac{48 EI}{11 L^{4} \\rho}\\end{matrix}\\right]$"
          },
          "metadata": {},
          "execution_count": 18
        }
      ],
      "source": [
        "#Método alternativo de sacar las frecuencias de los modos, resolver det[(Kcond*M^(-1)-w^2*I)]=0\n",
        "#Esta transformación permite calcular las frecuencias como un problema de valores propios.\n",
        "#Maux es la matriz (Kcond*M^(-1)-w^2*I)\n",
        "Maux = Mcond.inv()*Kcond\n",
        "Maux"
      ]
    },
    {
      "cell_type": "code",
      "execution_count": 19,
      "metadata": {
        "colab": {
          "base_uri": "https://localhost:8080/",
          "height": 58
        },
        "id": "KlS4jGly4mKN",
        "outputId": "0d9fa9b6-cb9a-45d1-cb72-e8e6bebd137a"
      },
      "outputs": [
        {
          "output_type": "execute_result",
          "data": {
            "text/plain": [
              "⎧ 48⋅EI    ⎫\n",
              "⎪───────: 1⎪\n",
              "⎨    4     ⎬\n",
              "⎪11⋅L ⋅ρ   ⎪\n",
              "⎩          ⎭"
            ],
            "text/latex": "$\\displaystyle \\left\\{ \\frac{48 EI}{11 L^{4} \\rho} : 1\\right\\}$"
          },
          "metadata": {},
          "execution_count": 19
        }
      ],
      "source": [
        "#De esta manera, el cálculo de fecuencias (valores propios), es más sencillo con el comando eigenvals()\n",
        "#El resultado es un vector, donde en cada componente el primer valor es la frecuencia al cuadrado.\n",
        "#El segundo (después de los :) es el número de veces que se repite\n",
        "freqss=Maux.eigenvals()\n",
        "freqss"
      ]
    },
    {
      "cell_type": "code",
      "execution_count": 20,
      "metadata": {
        "colab": {
          "base_uri": "https://localhost:8080/",
          "height": 58
        },
        "id": "ZPiT5FHs4mKN",
        "outputId": "6f7b3d9e-8a35-412b-8a97-4aed32dbe521"
      },
      "outputs": [
        {
          "output_type": "execute_result",
          "data": {
            "text/plain": [
              "⎡⎛ 48⋅EI           ⎞⎤\n",
              "⎢⎜───────, 1, [[1]]⎟⎥\n",
              "⎢⎜    4            ⎟⎥\n",
              "⎣⎝11⋅L ⋅ρ          ⎠⎦"
            ],
            "text/latex": "$\\displaystyle \\left[ \\left( \\frac{48 EI}{11 L^{4} \\rho}, \\  1, \\  \\left[ \\left[\\begin{matrix}1\\end{matrix}\\right]\\right]\\right)\\right]$"
          },
          "metadata": {},
          "execution_count": 20
        }
      ],
      "source": [
        "#De la mimsa manera, el cálculo de modos (valores propios), es más sencillo con el comando eigenvects()\n",
        "#El resultado es un vector, donde en cada componente el primer valor es la frecuencia al cuadrado.\n",
        "#El segundo es el número de veces que se repite\n",
        "#El tercero es el vector propio\n",
        "Modes = Maux.eigenvects()\n",
        "Modes"
      ]
    },
    {
      "cell_type": "code",
      "execution_count": 21,
      "metadata": {
        "colab": {
          "base_uri": "https://localhost:8080/",
          "height": 38
        },
        "id": "ranb_JZJ4mKO",
        "outputId": "61fdb16d-96f9-449b-e66b-a6f3e5ed4082"
      },
      "outputs": [
        {
          "output_type": "execute_result",
          "data": {
            "text/plain": [
              "[1]"
            ],
            "text/latex": "$\\displaystyle \\left[\\begin{matrix}1\\end{matrix}\\right]$"
          },
          "metadata": {},
          "execution_count": 21
        }
      ],
      "source": [
        "#Guardamos el primer vector propio (asociado a la primera frecuencia) en la variable V1\n",
        "V1 = Modes[0][2][0]\n",
        "V1"
      ]
    },
    {
      "cell_type": "code",
      "execution_count": 22,
      "metadata": {
        "colab": {
          "base_uri": "https://localhost:8080/",
          "height": 38
        },
        "id": "rkCDNRYA4mKO",
        "outputId": "77e429e1-7f9a-4f3a-86d4-07870358abc2"
      },
      "outputs": [
        {
          "output_type": "execute_result",
          "data": {
            "text/plain": [
              "[1]"
            ],
            "text/latex": "$\\displaystyle \\left[\\begin{matrix}1\\end{matrix}\\right]$"
          },
          "metadata": {},
          "execution_count": 22
        }
      ],
      "source": [
        "#Como V1 no está normalizado a la primera componente, multiplicamos V1 por la inversa de la primera componente\n",
        "V1 = V1*1.0/V1[0]\n",
        "simplify(V1)"
      ]
    },
    {
      "cell_type": "code",
      "execution_count": 23,
      "metadata": {
        "id": "ETLZ4kx44mKO",
        "colab": {
          "base_uri": "https://localhost:8080/",
          "height": 58
        },
        "outputId": "64cf7f0a-f949-4aeb-99de-10ae9105eecc"
      },
      "outputs": [
        {
          "output_type": "execute_result",
          "data": {
            "text/plain": [
              "⎡ 15 ⎤\n",
              "⎢────⎥\n",
              "⎢11⋅L⎥\n",
              "⎢    ⎥\n",
              "⎢ 3  ⎥\n",
              "⎢────⎥\n",
              "⎣11⋅L⎦"
            ],
            "text/latex": "$\\displaystyle \\left[\\begin{matrix}\\frac{15}{11 L}\\\\\\frac{3}{11 L}\\end{matrix}\\right]$"
          },
          "metadata": {},
          "execution_count": 23
        }
      ],
      "source": [
        "#Para obtener las componentes del vector de modos de vibración asociadas al giro,\n",
        "#se utiliza la expresión de los giros u3, donde insertamos los valores de la primera y segunda componetes del vector\n",
        "#Modo 1\n",
        "#Segun el tamaño de la martiz M (a).\n",
        "if a == 1:  #Solo u1.\n",
        "    s=u3.subs([(u1,V1[0])])\n",
        "else:  #u1 y u2.\n",
        "    s=u3.subs([(u1,V1[0]),(u2,V1[1])])\n",
        "simplify(s)"
      ]
    },
    {
      "cell_type": "code",
      "execution_count": 24,
      "metadata": {
        "id": "u_nhi5AJ4mKP",
        "colab": {
          "base_uri": "https://localhost:8080/",
          "height": 37
        },
        "outputId": "6529ff23-45e9-4566-e5b2-5385cef7ed5c"
      },
      "outputs": [
        {
          "output_type": "execute_result",
          "data": {
            "text/plain": [
              "False"
            ],
            "text/latex": "$\\displaystyle \\text{False}$"
          },
          "metadata": {},
          "execution_count": 24
        }
      ],
      "source": [
        "#Guardamos el segundo vector propio (asociado a la segunda frecuencia) en la variable V2 (sera falso si la matriz es de 1x1)\n",
        "if a != 1:  #Solo u1.\n",
        "    V2 = Modes[1][2][0]\n",
        "else:\n",
        "    V2 = false\n",
        "V2"
      ]
    },
    {
      "cell_type": "code",
      "execution_count": 25,
      "metadata": {
        "id": "lr3QJkdg4mKP",
        "colab": {
          "base_uri": "https://localhost:8080/",
          "height": 37
        },
        "outputId": "da970402-5cf6-451a-b582-c61bafa58196"
      },
      "outputs": [
        {
          "output_type": "execute_result",
          "data": {
            "text/plain": [
              "False"
            ],
            "text/latex": "$\\displaystyle \\text{False}$"
          },
          "metadata": {},
          "execution_count": 25
        }
      ],
      "source": [
        "#Como V2 no está normalizado a la primera componente, multiplicamos V2 por la inversa de la primera componente\n",
        "if a != 1:\n",
        "    V2 = V2*1.0/V2[0]\n",
        "else:\n",
        "    V2 = false\n",
        "simplify(V2)"
      ]
    },
    {
      "cell_type": "code",
      "execution_count": 26,
      "metadata": {
        "id": "hfqGDJwF4mKP",
        "colab": {
          "base_uri": "https://localhost:8080/",
          "height": 37
        },
        "outputId": "824b3c59-19dd-495c-8b5d-161929e2b8d2"
      },
      "outputs": [
        {
          "output_type": "execute_result",
          "data": {
            "text/plain": [
              "False"
            ],
            "text/latex": "$\\displaystyle \\text{False}$"
          },
          "metadata": {},
          "execution_count": 26
        }
      ],
      "source": [
        "#Para obtener las componentes del vector de modos de vibración asociadas al giro,\n",
        "#se utiliza la expresión de los giros u3, donde insertamos los valores de la primera y segunda componetes del vector\n",
        "#modo 2\n",
        "if a != 1:\n",
        "    mvg = simplify(u3.subs([(u1,V2[0]),(u2,V2[1])]))\n",
        "else:\n",
        "    mvg = false\n",
        "\n",
        "mvg"
      ]
    },
    {
      "cell_type": "code",
      "execution_count": 27,
      "metadata": {
        "id": "914roPt84mKP"
      },
      "outputs": [],
      "source": [
        "#Masa modal del modo 1\n",
        "M1 = V1.transpose()*Mcond*V1\n",
        "M1 = M1[0]"
      ]
    },
    {
      "cell_type": "code",
      "execution_count": 28,
      "metadata": {
        "colab": {
          "base_uri": "https://localhost:8080/",
          "height": 52
        },
        "id": "faEuYM2R4mKP",
        "outputId": "74eeb1cd-b8b1-4d63-fda0-462e1eac4d7b"
      },
      "outputs": [
        {
          "output_type": "execute_result",
          "data": {
            "text/plain": [
              "L⋅ρ\n",
              "───\n",
              " 2 "
            ],
            "text/latex": "$\\displaystyle \\frac{L \\rho}{2}$"
          },
          "metadata": {},
          "execution_count": 28
        }
      ],
      "source": [
        "simplify(M1)"
      ]
    },
    {
      "cell_type": "code",
      "execution_count": 29,
      "metadata": {
        "id": "WmADF2Bs4mKQ",
        "colab": {
          "base_uri": "https://localhost:8080/",
          "height": 37
        },
        "outputId": "1ba40b75-6c46-40c5-9a54-d0a3572e676b"
      },
      "outputs": [
        {
          "output_type": "execute_result",
          "data": {
            "text/plain": [
              "False"
            ],
            "text/latex": "$\\displaystyle \\text{False}$"
          },
          "metadata": {},
          "execution_count": 29
        }
      ],
      "source": [
        "#Masa modal del modo 2\n",
        "if a != 1:\n",
        "    M2 = V2.transpose()*Mcond*V2\n",
        "    M2 = M2[0]\n",
        "else:\n",
        "    M2 = false\n",
        "simplify(M2)"
      ]
    },
    {
      "cell_type": "code",
      "execution_count": 30,
      "metadata": {
        "id": "AvD4LupF4mKQ"
      },
      "outputs": [],
      "source": [
        "#Rigidez modal asociada al modo 1\n",
        "K1 = V1.transpose()*Kcond*V1\n",
        "K1 = K1[0]"
      ]
    },
    {
      "cell_type": "code",
      "execution_count": 31,
      "metadata": {
        "colab": {
          "base_uri": "https://localhost:8080/",
          "height": 52
        },
        "id": "N5hBn64R4mKQ",
        "outputId": "c8e6968e-1a23-4868-f285-e4726d76af8b"
      },
      "outputs": [
        {
          "output_type": "execute_result",
          "data": {
            "text/plain": [
              "24⋅EI\n",
              "─────\n",
              "    3\n",
              "11⋅L "
            ],
            "text/latex": "$\\displaystyle \\frac{24 EI}{11 L^{3}}$"
          },
          "metadata": {},
          "execution_count": 31
        }
      ],
      "source": [
        "simplify(K1)"
      ]
    },
    {
      "cell_type": "code",
      "execution_count": 32,
      "metadata": {
        "id": "EtmMOVLG4mKQ",
        "colab": {
          "base_uri": "https://localhost:8080/",
          "height": 37
        },
        "outputId": "344ae161-4e49-4b90-b99b-10612c72c997"
      },
      "outputs": [
        {
          "output_type": "execute_result",
          "data": {
            "text/plain": [
              "False"
            ],
            "text/latex": "$\\displaystyle \\text{False}$"
          },
          "metadata": {},
          "execution_count": 32
        }
      ],
      "source": [
        "#Rigidez modal asociada al modo 2\n",
        "if a != 1:\n",
        "    K2 = V2.transpose()*Kcond*V2\n",
        "    K2 = K2[0]\n",
        "else:\n",
        "    K2 = false\n",
        "simplify(K2)"
      ]
    },
    {
      "cell_type": "code",
      "execution_count": 33,
      "metadata": {
        "id": "6qAYDwVV4mKR"
      },
      "outputs": [],
      "source": [
        "#Comprobación de que los modos son ortogonales con respecto a la matriz de rigidez\n",
        "if a == 1:  #Solo u1.\n",
        "    pass\n",
        "else:\n",
        "    simplify(V1.transpose()*Kcond*V2)"
      ]
    },
    {
      "cell_type": "code",
      "execution_count": 34,
      "metadata": {
        "id": "K12adHBu4mKR"
      },
      "outputs": [],
      "source": [
        "#Comprobación de que los modos son ortogonales con respecto a la matriz de masas\n",
        "if a != 1:\n",
        "    simplify(V1.transpose()*Mcond*V2)"
      ]
    },
    {
      "cell_type": "code",
      "execution_count": 35,
      "metadata": {
        "id": "MxUK3OMH4mKR"
      },
      "outputs": [],
      "source": [
        "#Problema de vibraciones libres, condiciones iniciales\n",
        "if a == 1:  #Solo u1.\n",
        "    Uo = Matrix([[1]]) #Desplazamientos iniciales\n",
        "    Vo = Matrix([[0]]) #Velocidades iniciales\n",
        "else:\n",
        "    Uo = Matrix([[1],[0]]) #Desplazamientos iniciales\n",
        "    Vo = Matrix([[0],[0]]) #Velocidades iniciales"
      ]
    },
    {
      "cell_type": "code",
      "execution_count": 36,
      "metadata": {
        "colab": {
          "base_uri": "https://localhost:8080/",
          "height": 38
        },
        "id": "ZXqaof4q4mKS",
        "outputId": "662ddf74-1f54-4cfe-830b-8e76584d6f8a"
      },
      "outputs": [
        {
          "output_type": "execute_result",
          "data": {
            "text/plain": [
              "[1]"
            ],
            "text/latex": "$\\displaystyle \\left[\\begin{matrix}1\\end{matrix}\\right]$"
          },
          "metadata": {},
          "execution_count": 36
        }
      ],
      "source": [
        "#Condicion inicial de desplazamiento asociada al modo 1\n",
        "q1o = V1.transpose()*Mcond*Uo/M1\n",
        "simplify(q1o)"
      ]
    },
    {
      "cell_type": "code",
      "execution_count": 37,
      "metadata": {
        "id": "8p8cY6Z84mKS",
        "colab": {
          "base_uri": "https://localhost:8080/",
          "height": 37
        },
        "outputId": "021d12a7-86da-47d0-aceb-a6dca67088db"
      },
      "outputs": [
        {
          "output_type": "execute_result",
          "data": {
            "text/plain": [
              "False"
            ],
            "text/latex": "$\\displaystyle \\text{False}$"
          },
          "metadata": {},
          "execution_count": 37
        }
      ],
      "source": [
        "#Condicion inicial de desplazamiento asociada al modo 2\n",
        "if a != 1:\n",
        "    q2o=V2.transpose()*Mcond*Uo/M2\n",
        "else:\n",
        "    q2o=false\n",
        "simplify(q2o)"
      ]
    },
    {
      "cell_type": "code",
      "execution_count": 38,
      "metadata": {
        "colab": {
          "base_uri": "https://localhost:8080/",
          "height": 38
        },
        "id": "_s6cjp2e4mKS",
        "outputId": "5d264a6e-c4e4-4f16-c5ab-12f2b41b17d4"
      },
      "outputs": [
        {
          "output_type": "execute_result",
          "data": {
            "text/plain": [
              "[0]"
            ],
            "text/latex": "$\\displaystyle \\left[\\begin{matrix}0\\end{matrix}\\right]$"
          },
          "metadata": {},
          "execution_count": 38
        }
      ],
      "source": [
        "#Condicion inicial de velocidad asociada al modo 1\n",
        "qv1o=V1.transpose()*Mcond*Vo/M1\n",
        "simplify(qv1o)"
      ]
    },
    {
      "cell_type": "code",
      "execution_count": 39,
      "metadata": {
        "id": "R6--R9uc4mKS",
        "colab": {
          "base_uri": "https://localhost:8080/",
          "height": 37
        },
        "outputId": "e0a12584-5d64-4a60-ee72-5ecd8ed440b4"
      },
      "outputs": [
        {
          "output_type": "execute_result",
          "data": {
            "text/plain": [
              "False"
            ],
            "text/latex": "$\\displaystyle \\text{False}$"
          },
          "metadata": {},
          "execution_count": 39
        }
      ],
      "source": [
        "#Condicion inicial de velocidad asociada al modo 2\n",
        "if a != 1:\n",
        "    qv2o=V2.transpose()*Mcond*Vo/M2\n",
        "else:\n",
        "    qv2o=false\n",
        "simplify(qv2o)"
      ]
    },
    {
      "cell_type": "code",
      "execution_count": 40,
      "metadata": {
        "colab": {
          "base_uri": "https://localhost:8080/",
          "height": 82
        },
        "id": "4noHmeHP4mKS",
        "outputId": "8f7be60a-e70c-4413-cc39-a0d8c50c3570"
      },
      "outputs": [
        {
          "output_type": "execute_result",
          "data": {
            "text/plain": [
              "⎡                                                                             \n",
              "⎢                                                                             \n",
              "⎢⎛     ⎛             ______    ________⎞                  ⎛             ______\n",
              "⎢⎜     ⎜            ╱  EI     ╱      2 ⎟                  ⎜            ╱  EI  \n",
              "⎢⎜     ⎜4⋅√33⋅t⋅   ╱  ──── ⋅╲╱  1 - ψ  ⎟                  ⎜4⋅√33⋅t⋅   ╱  ──── \n",
              "⎢⎜     ⎜          ╱    4               ⎟      ________    ⎜          ╱    4   \n",
              "⎢⎜     ⎜        ╲╱    L ⋅ρ             ⎟     ╱      2     ⎜        ╲╱    L ⋅ρ \n",
              "⎢⎜ψ⋅sin⎜───────────────────────────────⎟ + ╲╱  1 - ψ  ⋅cos⎜───────────────────\n",
              "⎢⎝     ⎝               11              ⎠                  ⎝               11  \n",
              "⎢─────────────────────────────────────────────────────────────────────────────\n",
              "⎢                                                       ________              \n",
              "⎢                                                      ╱      2               \n",
              "⎣                                                    ╲╱  1 - ψ                \n",
              "\n",
              "                                ______ ⎤\n",
              "                               ╱  EI   ⎥\n",
              "    ________⎞⎞  -4⋅√33⋅ψ⋅t⋅   ╱  ────  ⎥\n",
              "   ╱      2 ⎟⎟               ╱    4    ⎥\n",
              "⋅╲╱  1 - ψ  ⎟⎟             ╲╱    L ⋅ρ  ⎥\n",
              "            ⎟⎟  ───────────────────────⎥\n",
              "            ⎟⎟             11          ⎥\n",
              "────────────⎟⎟⋅ℯ                       ⎥\n",
              "            ⎠⎠                         ⎥\n",
              "───────────────────────────────────────⎥\n",
              "                                       ⎥\n",
              "                                       ⎥\n",
              "                                       ⎦"
            ],
            "text/latex": "$\\displaystyle \\left[\\begin{matrix}\\frac{\\left(\\psi \\sin{\\left(\\frac{4 \\sqrt{33} t \\sqrt{\\frac{EI}{L^{4} \\rho}} \\sqrt{1 - \\psi^{2}}}{11} \\right)} + \\sqrt{1 - \\psi^{2}} \\cos{\\left(\\frac{4 \\sqrt{33} t \\sqrt{\\frac{EI}{L^{4} \\rho}} \\sqrt{1 - \\psi^{2}}}{11} \\right)}\\right) e^{- \\frac{4 \\sqrt{33} \\psi t \\sqrt{\\frac{EI}{L^{4} \\rho}}}{11}}}{\\sqrt{1 - \\psi^{2}}}\\end{matrix}\\right]$"
          },
          "metadata": {},
          "execution_count": 40
        }
      ],
      "source": [
        "#Frecuencia del modo 1, es la raiz cuadrada de w1^2, también se calcula la frecuencia amortiguada\n",
        "omega1  = sqrt(freq1)\n",
        "omega1d = omega1*sqrt(1-psi**2)\n",
        "\n",
        "#Respuesta del primer modo\n",
        "q1 = exp(-psi*omega1*t)*(q1o*cos(omega1d*t)+(psi*q1o*omega1+qv1o)/omega1d*sin(omega1d*t))\n",
        "simplify(q1)"
      ]
    },
    {
      "cell_type": "code",
      "execution_count": 41,
      "metadata": {
        "id": "ezhhVVYa4mKX"
      },
      "outputs": [],
      "source": [
        "#Frecuencia del modo 2, es la raiz cuadrada de w1^2, también se calcula la frecuencia amortiguada\n",
        "if a == 1:  #Solo u1.\n",
        "    pass\n",
        "else:\n",
        "    omega2=sqrt(freq2)\n",
        "    omega2d = omega2*sqrt(1-psi**2)\n",
        "    #Respuesta del segundo modo\n",
        "    q2=exp(-psi*omega2*t)*(q2o*cos(omega2d*t)+(psi*q2o*omega2+qv2o)/omega2d*sin(omega2d*t))\n",
        "    simplify(q2)"
      ]
    },
    {
      "cell_type": "code",
      "execution_count": 42,
      "metadata": {
        "id": "q3Wlc5ui4mKY",
        "colab": {
          "base_uri": "https://localhost:8080/",
          "height": 82
        },
        "outputId": "dc208e46-a44a-4f88-d165-4f658b766448"
      },
      "outputs": [
        {
          "output_type": "execute_result",
          "data": {
            "text/plain": [
              "⎡                                                                             \n",
              "⎢                                                                             \n",
              "⎢⎛     ⎛             ______    ________⎞                  ⎛             ______\n",
              "⎢⎜     ⎜            ╱  EI     ╱      2 ⎟                  ⎜            ╱  EI  \n",
              "⎢⎜     ⎜4⋅√33⋅t⋅   ╱  ──── ⋅╲╱  1 - ψ  ⎟                  ⎜4⋅√33⋅t⋅   ╱  ──── \n",
              "⎢⎜     ⎜          ╱    4               ⎟      ________    ⎜          ╱    4   \n",
              "⎢⎜     ⎜        ╲╱    L ⋅ρ             ⎟     ╱      2     ⎜        ╲╱    L ⋅ρ \n",
              "⎢⎜ψ⋅sin⎜───────────────────────────────⎟ + ╲╱  1 - ψ  ⋅cos⎜───────────────────\n",
              "⎢⎝     ⎝               11              ⎠                  ⎝               11  \n",
              "⎢─────────────────────────────────────────────────────────────────────────────\n",
              "⎢                                                       ________              \n",
              "⎢                                                      ╱      2               \n",
              "⎣                                                    ╲╱  1 - ψ                \n",
              "\n",
              "                                ______ ⎤\n",
              "                               ╱  EI   ⎥\n",
              "    ________⎞⎞  -4⋅√33⋅ψ⋅t⋅   ╱  ────  ⎥\n",
              "   ╱      2 ⎟⎟               ╱    4    ⎥\n",
              "⋅╲╱  1 - ψ  ⎟⎟             ╲╱    L ⋅ρ  ⎥\n",
              "            ⎟⎟  ───────────────────────⎥\n",
              "            ⎟⎟             11          ⎥\n",
              "────────────⎟⎟⋅ℯ                       ⎥\n",
              "            ⎠⎠                         ⎥\n",
              "───────────────────────────────────────⎥\n",
              "                                       ⎥\n",
              "                                       ⎥\n",
              "                                       ⎦"
            ],
            "text/latex": "$\\displaystyle \\left[\\begin{matrix}\\frac{\\left(\\psi \\sin{\\left(\\frac{4 \\sqrt{33} t \\sqrt{\\frac{EI}{L^{4} \\rho}} \\sqrt{1 - \\psi^{2}}}{11} \\right)} + \\sqrt{1 - \\psi^{2}} \\cos{\\left(\\frac{4 \\sqrt{33} t \\sqrt{\\frac{EI}{L^{4} \\rho}} \\sqrt{1 - \\psi^{2}}}{11} \\right)}\\right) e^{- \\frac{4 \\sqrt{33} \\psi t \\sqrt{\\frac{EI}{L^{4} \\rho}}}{11}}}{\\sqrt{1 - \\psi^{2}}}\\end{matrix}\\right]$"
          },
          "metadata": {},
          "execution_count": 42
        }
      ],
      "source": [
        "#Respuesta total, suma de las respuestas de los modos (ver principio de descomposicón modal)\n",
        "if a == 1:  #Solo u1.\n",
        "    u = V1*q1\n",
        "else:\n",
        "    u = V1*q1 + V2*q2\n",
        "simplify(u)"
      ]
    },
    {
      "cell_type": "code",
      "execution_count": 43,
      "metadata": {
        "colab": {
          "base_uri": "https://localhost:8080/",
          "height": 67
        },
        "id": "4UVArGIV4mKY",
        "outputId": "6731f817-3e58-4c73-c6fc-a54ef74d19ff"
      },
      "outputs": [
        {
          "output_type": "execute_result",
          "data": {
            "text/plain": [
              "⎡                                                                             \n",
              "⎣(0.100503781525921⋅sin(0.361813613493316⋅√33⋅t) + cos(0.361813613493316⋅√33⋅t\n",
              "\n",
              "    -0.0363636363636364⋅√33⋅t⎤\n",
              "))⋅ℯ                         ⎦"
            ],
            "text/latex": "$\\displaystyle \\left[\\begin{matrix}\\left(0.100503781525921 \\sin{\\left(0.361813613493316 \\sqrt{33} t \\right)} + \\cos{\\left(0.361813613493316 \\sqrt{33} t \\right)}\\right) e^{- 0.0363636363636364 \\sqrt{33} t}\\end{matrix}\\right]$"
          },
          "metadata": {},
          "execution_count": 43
        }
      ],
      "source": [
        "#Metemos los valores de parámetros en la fórmula\n",
        "N(simplify(u.subs({EI:1,psi:0.1,L:1,rho:1})))"
      ]
    },
    {
      "cell_type": "code",
      "execution_count": 44,
      "metadata": {
        "colab": {
          "base_uri": "https://localhost:8080/",
          "height": 67
        },
        "id": "NqLSdPNF4mKY",
        "outputId": "01566daf-e488-4eee-db67-54b0835fe9f7"
      },
      "outputs": [
        {
          "output_type": "execute_result",
          "data": {
            "text/plain": [
              "⎡                                                                             \n",
              "⎣(0.100503781525921⋅sin(0.361813613493316⋅√33⋅t) + cos(0.361813613493316⋅√33⋅t\n",
              "\n",
              "    -0.0363636363636364⋅√33⋅t⎤\n",
              "))⋅ℯ                         ⎦"
            ],
            "text/latex": "$\\displaystyle \\left[\\begin{matrix}\\left(0.100503781525921 \\sin{\\left(0.361813613493316 \\sqrt{33} t \\right)} + \\cos{\\left(0.361813613493316 \\sqrt{33} t \\right)}\\right) e^{- 0.0363636363636364 \\sqrt{33} t}\\end{matrix}\\right]$"
          },
          "metadata": {},
          "execution_count": 44
        }
      ],
      "source": [
        "#Evaluamos numéricamente la fórmula\n",
        "N(u.subs({EI:1,psi:0.1,L:1,rho:1}))"
      ]
    },
    {
      "cell_type": "markdown",
      "source": [
        "**GRAFICA DE LA SOLUCION**"
      ],
      "metadata": {
        "id": "oKrR9HJLNTYS"
      }
    },
    {
      "cell_type": "code",
      "execution_count": 45,
      "metadata": {
        "id": "1_6FUou54mKY"
      },
      "outputs": [],
      "source": [
        "#Importar librerias para generar la gráfica de la solución\n",
        "%matplotlib inline\n",
        "import matplotlib.pyplot as plt"
      ]
    },
    {
      "cell_type": "code",
      "execution_count": 46,
      "metadata": {
        "id": "bZKYI8Qy4mKZ"
      },
      "outputs": [],
      "source": [
        "#Grafica de la solución del primer gdl\n",
        "#de t=0 a t=50s, cada 0.1s\n",
        "t_vec  = np.arange(0, 50, 0.1)\n",
        "if a == 1:  #Solo u1.\n",
        "    u_vec1 = np.array([N(u[0].subs({EI:1,psi:0.1,L:1,rho:1,t:tt})) for tt in t_vec])\n",
        "    u_vec2 = false\n",
        "else:\n",
        "    u_vec1 = np.array([N(u[0].subs({EI:1,psi:0.1,L:1,rho:1,t:tt})) for tt in t_vec])\n",
        "    u_vec2 = np.array([N(u[1].subs({EI:1,psi:0.1,L:1,rho:1,t:tt})) for tt in t_vec])"
      ]
    },
    {
      "cell_type": "code",
      "execution_count": 47,
      "metadata": {
        "id": "joF7zkwi4mKZ",
        "colab": {
          "base_uri": "https://localhost:8080/"
        },
        "outputId": "28b78fb5-d07b-4064-be34-117eb9b3028b"
      },
      "outputs": [
        {
          "output_type": "execute_result",
          "data": {
            "text/plain": [
              "array([1.00000000000000, 0.978560429043120, 0.916328851382479,\n",
              "       0.817624350187768, 0.688142378491397, 0.534655915971045,\n",
              "       0.364682970310136, 0.186135958774953, 0.00696864154134767,\n",
              "       -0.165164258690912, -0.323220775742413, -0.461046489732588,\n",
              "       -0.573600279340514, -0.657123430031010, -0.709247215000460,\n",
              "       -0.729036885376905, -0.716972798476508, -0.674872059898103,\n",
              "       -0.605756450160046, -0.513674457781362, -0.403486874902307,\n",
              "       -0.280626576203301, -0.150843766633939, -0.0199481404541770,\n",
              "       0.106440942590664, 0.223125953954030, 0.325535258098854,\n",
              "       0.409892172609575, 0.473343259848933, 0.514042055377821,\n",
              "       0.531186491232501, 0.525010315204104, 0.496730753895245,\n",
              "       0.448456438591082, 0.383061140628811, 0.304030091897933,\n",
              "       0.215286556244606, 0.121006844845943, 0.0254321254581366,\n",
              "       -0.0673148296946364, -0.153400356188872, -0.229431313626093,\n",
              "       -0.292581547729138, -0.340689034345806, -0.372320768388968,\n",
              "       -0.386803954409110, -0.384223549503378, -0.365387639982512,\n",
              "       -0.331763442310148, -0.285387855530411, -0.228757415360088,\n",
              "       -0.164703178785229, -0.0962564834657462, -0.0265116715938365,\n",
              "       0.0415082520634225, 0.104977427420074, 0.161379403696749,\n",
              "       0.208601635075785, 0.245008910621419, 0.269493453622894,\n",
              "       0.281500511658628, 0.281029350569020, 0.268610616433670,\n",
              "       0.245261996502670, 0.212424955099750, 0.171886012795719,\n",
              "       0.125686553416806, 0.0760254689225348, 0.0251590808093789,\n",
              "       -0.0246972889526011, -0.0714619736182005, -0.113270134749977,\n",
              "       -0.148544299000664, -0.176049772034092, -0.194933188733468,\n",
              "       -0.204743248172139, -0.205433479368677, -0.197347655317530,\n",
              "       -0.181189186394933, -0.157976451967525, -0.128986547662446,\n",
              "       -0.0956903176719371, -0.0596817951591976, -0.0226052841581980,\n",
              "       0.0139167155131889, 0.0483517057043086, 0.0793187644135077,\n",
              "       0.105641146321045, 0.126388036721462, 0.140904124701059,\n",
              "       0.148826234680469, 0.150086837659431, 0.144904829502731,\n",
              "       0.133764489954734, 0.117384001974453, 0.0966752990777509,\n",
              "       0.0726973053158020, 0.0466048293947682, 0.0195954669618044,\n",
              "       -0.00714314642264191, -0.0324834998903787, -0.0554037589962726,\n",
              "       -0.0750269536300740, -0.0906523937955706, -0.101778293523263,\n",
              "       -0.108114999285332, -0.109588644062073, -0.106335463224183,\n",
              "       -0.0986873963724291, -0.0871499448009297, -0.0723735443461791,\n",
              "       -0.0551199379663465, -0.0362251845816020, -0.0165610169782122,\n",
              "       0.00300373820468309, 0.0216400381235199, 0.0385922983393260,\n",
              "       0.0532075615096550, 0.0649591024687885, 0.0734636921911502,\n",
              "       0.0784920449655637, 0.0799722828455036, 0.0779865555700438,\n",
              "       0.0727612399507785, 0.0646513987715346, 0.0541203958642380,\n",
              "       0.0417157335954189, 0.0280422962278508, 0.0137342446604666,\n",
              "       -0.000573185486426562, -0.0142707775857416, -0.0268002111529338,\n",
              "       -0.0376757538032253, -0.0465019746566591, -0.0529868877091277,\n",
              "       -0.0569501524919049, -0.0583261850630014, -0.0571622551161760,\n",
              "       -0.0536118553946363, -0.0479238192020212, -0.0404278233902338,\n",
              "       -0.0315170420378369, -0.0216288060516569, -0.0112241738420956,\n",
              "       -0.000767327554645332, 0.00929432065043139, 0.0185484942053010,\n",
              "       0.0266341701076629, 0.0332548548893232, 0.0381885695490704,\n",
              "       0.0412942529316956, 0.0425144574329004, 0.0418743739513885,\n",
              "       0.0394773778074763, 0.0354974276477458, 0.0301687697765320,\n",
              "       0.0237734965829850, 0.0166275766594128, 0.00906601401463917,\n",
              "       0.00142780397156792, -0.00595866532059281, -0.0127891623571445,\n",
              "       -0.0187955786888971, -0.0237558674926181, -0.0275016140696505,\n",
              "       -0.0299230128007256, -0.0309711447496764, -0.0306575693825255,\n",
              "       -0.0290513576883133, -0.0262737977305157, -0.0224910933177354,\n",
              "       -0.0179054488178552, -0.0127449857796913, -0.00725296853474578,\n",
              "       -0.00167682585190737, 0.00374255552756247, 0.00878082069454851,\n",
              "       0.0132390236523810, 0.0169510591975640, 0.0197893922695790,\n",
              "       0.0216689104654223, 0.0225488124665032, 0.0224325323309222,\n",
              "       0.0213657832432709, 0.0194328809713372, 0.0167515739759190,\n",
              "       0.0134666614237886, 0.00974272045945597, 0.00575628887188891,\n",
              "       0.00168785831967164, -0.00228597318764487, -0.00599986190371265,\n",
              "       -0.00930629854695526, -0.0120811598228599, -0.0142280369623141,\n",
              "       -0.0156812069992235, -0.0164071758001413, -0.0164047855812530,\n",
              "       -0.0157039410726244, -0.0143630650945623, -0.0124654438831206,\n",
              "       -0.0101146632180554, -0.00742936689549819, -0.00453758846944115,\n",
              "       -0.00157091508999280, 0.00134126117465133, 0.00407716332073978,\n",
              "       0.00652750335068043, 0.00859962497357742, 0.0102207685801071,\n",
              "       0.0113403553765989, 0.0119312335488178, 0.0119898758626390,\n",
              "       0.0115355631923812, 0.0106086302377192, 0.00926788650374351,\n",
              "       0.00758735611107691, 0.00565250313422326, 0.00355612425272088,\n",
              "       0.00139409722798428, -0.000738827855580896, -0.00275301711674441,\n",
              "       -0.00456756034209115, -0.00611335936755631, -0.00733558710654049,\n",
              "       -0.00819543826558841, -0.00867112618096542, -0.00875811417580117,\n",
              "       -0.00846860290794183, -0.00783032598169986, -0.00688473341343498,\n",
              "       -0.00568466535078292, -0.00429163596148748, -0.00277285910091955,\n",
              "       -0.00119815297782909, 0.000363139424340940, 0.00184508367998543,\n",
              "       0.00318782208400871, 0.00433987387856752, 0.00525998465031754,\n",
              "       0.00591846459374529, 0.00629797956891788, 0.00639378365918264,\n",
              "       0.00621340617866597, 0.00577582878027424, 0.00511020856879629,\n",
              "       0.00425422016831358, 0.00325210293396322, 0.00215250852698550,\n",
              "       0.00100624867679834, -0.000135956880481085, -0.00122563639652496,\n",
              "       -0.00221853816213680, -0.00307634216770880, -0.00376804914116058,\n",
              "       -0.00427100101609643, -0.00457150445750326, -0.00466504713595088,\n",
              "       -0.00455611420475247, -0.00425762915376419, -0.00379005821924075,\n",
              "       -0.00318023025255059, -0.00245993394319074, -0.00166436123965401,\n",
              "       -0.000830469544001460, 4.66425486599138e-6, 0.000805427486385748,\n",
              "       0.00153912825190195, 0.00217726800613112, 0.00269658350494660,\n",
              "       0.00307982318809294, 0.00331623580311094, 0.00340176223828033,\n",
              "       0.00333893453998409, 0.00313649839596820, 0.00280878647520083,\n",
              "       0.00237487950334153, 0.00185759948250575, 0.00128238479456527,\n",
              "       0.000676099921659067, 6.58331439798389e-5, -0.000522266096528906,\n",
              "       -0.00106406228198401, -0.00153837915673367, -0.00192778037230160,\n",
              "       -0.00221915893642161, -0.00240411818945986, -0.00247913661567447,\n",
              "       -0.00244551831631731, -0.00230914002381794, -0.00208001375486560,\n",
              "       -0.00177169126926535, -0.00140054216701057, -0.000984941534260313,\n",
              "       -0.000544405431126954, -9.87131683237320e-5, 0.000332945711351486,\n",
              "       0.000732764434149671, 0.00108502066716549, 0.00137666071906255,\n",
              "       0.00159774619984270, 0.00174174974779009, 0.00180569340674155,\n",
              "       0.00179013019969709, 0.00169897609948944, 0.00153920567301739,\n",
              "       0.00132042993738197, 0.00105437922339220, 0.000754316954159509,\n",
              "       0.000434412128198694, 0.000109098917820800, -0.000207548820248207,\n",
              "       -0.000502402097477539, -0.000763797192874390,\n",
              "       -0.000981972364322590, -0.00114940570012193, -0.00126104376940076,\n",
              "       -0.00131441580324583, -0.00130963322831125, -0.00124927926390661,\n",
              "       -0.00113819778214035, -0.000983194543869211, -0.000792667117889761,\n",
              "       -0.000576182160366948, -0.000344020208788205,\n",
              "       -0.000106708703362781, 0.000125436397441677, 0.000342741239855027,\n",
              "       0.000536559735317147, 0.000699599676039297, 0.000826177855348239,\n",
              "       0.000912396234201789, 0.000956234882943536, 0.000957561146016506,\n",
              "       0.000918058067365815, 0.000841078428021216, 0.000731433655058758,\n",
              "       0.000595129255594120, 0.000439060229699492, 0.000270681069816317,\n",
              "       9.76654386876863e-5, -7.24295601886121e-5, -0.000232480411395580,\n",
              "       -0.000376082781125708, -0.000497794800466012,\n",
              "       -0.000593329410146581, -0.000659689660586887,\n",
              "       -0.000695243540016330, -0.000699737618708149,\n",
              "       -0.000674251431843649, -0.000621096968338401,\n",
              "       -0.000543669791769597, -0.000446260112119795,\n",
              "       -0.000333833492050523, -0.000211791768210649, -8.57251776393685e-5,\n",
              "       3.88333958598939e-5, 0.000156641677386355, 0.000262959337497180,\n",
              "       0.000353729307357763, 0.000425722580100411, 0.000476641826497949,\n",
              "       0.000505181098000869, 0.000511040871664955, 0.000494899623640875,\n",
              "       0.000458344920451045, 0.000403768618788507, 0.000334232105067641,\n",
              "       0.000253308539036641, 0.000164909760014383, 7.31058540411589e-5,\n",
              "       -1.80546345261935e-5, -0.000104716217555801, -0.000183372738899334,\n",
              "       -0.000251002380339488, -0.000305176519190956,\n",
              "       -0.000344138872093612, -0.000366852770707830,\n",
              "       -0.000373015860184863, -0.000363042927511833,\n",
              "       -0.000338018894998206, -0.000299625201326075,\n",
              "       -0.000250043793948152, -0.000191843737147222,\n",
              "       -0.000127855975568232, -6.10420707227652e-5, 5.63725343030693e-6,\n",
              "       6.93481503955090e-5, 0.000127499131034901, 0.000177841498150150,\n",
              "       0.000218551074648818, 0.000248288510556555, 0.000266236477378525,\n",
              "       0.000272113111713839, 0.000266162107495707, 0.000249120834241753,\n",
              "       0.000222168738040322, 0.000186859029262853, 0.000145037249763447,\n",
              "       9.87507240189299e-5, 5.01531229907176e-5, 1.40840456784773e-6,\n",
              "       -4.54017534710792e-5, -8.83632291743907e-5, -0.000125804107929245,\n",
              "       -0.000156355965662803, -0.000178999721162030,\n",
              "       -0.000193094736418628, -0.000198390611298292,\n",
              "       -0.000195021878403694, -0.000183486523724503,\n",
              "       -0.000164609909528152, -0.000139496233044776,\n",
              "       -0.000109470097952571, -7.60110912429232e-5, -4.06844375327001e-5,\n",
              "       -5.07084421936961e-6, 2.93014420633395e-5, 6.10195649845828e-5,\n",
              "       8.88414995339656e-5, 0.000111741950131110, 0.000128947141860242,\n",
              "       0.000139957477812359, 0.000144557594229109, 0.000142813900934015,\n",
              "       0.000135060223861177, 0.000121872647892013, 0.000104035073148880,\n",
              "       8.24973314210392e-5, 5.83279506423388e-5, 3.26637978044348e-5,\n",
              "       6.65887234975037e-6, -1.85655347044370e-5, -4.19672494589118e-5,\n",
              "       -6.26243558953270e-5, -7.97695323969981e-5, -9.28164003181537e-5,\n",
              "       -0.000101377089471717, -0.000105270631943859,\n",
              "       -0.000104522202094057, -9.93536096583608e-5, -9.01658086855516e-5,\n",
              "       -7.75144938100903e-5, -6.20801058784924e-5, -4.46337529137153e-5,\n",
              "       -2.60006647142909e-5, -7.02283819085902e-6, 1.14775028022249e-5,\n",
              "       2.87321105064535e-5, 4.40572183591793e-5, 5.68792004914701e-5,\n",
              "       6.67544912576191e-5, 7.33831514462915e-5, 7.66157634587122e-5,\n",
              "       7.64536348068330e-5, 7.30425750758358e-5, 6.66607743022704e-5,\n",
              "       5.77015402912382e-5, 4.66518403174895e-5, 3.40677326282722e-5,\n",
              "       2.05478611918405e-5, 6.70622159190898e-6, -6.85461242022481e-6,\n",
              "       -1.95686804923633e-5, -3.09292373715254e-5, -4.05079082790619e-5,\n",
              "       -4.79697232990034e-5, -5.30835592043589e-5, -5.57277320034832e-5,\n",
              "       -5.58907004860097e-5, -5.36670508576414e-5, -4.92491265350478e-5,\n",
              "       -4.29148377138052e-5, -3.50123261207775e-5, -2.59422666391067e-5,\n",
              "       -1.61386561361011e-5, -6.04896944880910e-6, 3.88544657604083e-6,\n",
              "       1.32479158632535e-5, 2.16631666219266e-5, 2.88116170712724e-5,\n",
              "       3.44407052200585e-5, 3.83729012038061e-5, 4.05101967395803e-5,\n",
              "       4.08350246765348e-5, 3.94077155588311e-5, 3.63607412044288e-5,\n",
              "       3.18901218895936e-5, 2.62444790996365e-5, 1.97122963425729e-5,\n",
              "       1.26080038108330e-5, 5.25752756264691e-6, -2.01605951828211e-6,\n",
              "       -8.90617813547941e-6, -1.51351225213691e-5, -2.04647043184741e-5,\n",
              "       -2.47047781961208e-5, -2.77193728380314e-5, -2.94302642130672e-5,\n",
              "       -2.98179436278370e-5], dtype=object)"
            ]
          },
          "metadata": {},
          "execution_count": 47
        }
      ],
      "source": [
        "u_vec1"
      ]
    },
    {
      "cell_type": "code",
      "execution_count": 48,
      "metadata": {
        "id": "515Xmoid4mKZ",
        "colab": {
          "base_uri": "https://localhost:8080/",
          "height": 430
        },
        "outputId": "31f4e0f1-2da4-463e-f7f4-5207fd249312"
      },
      "outputs": [
        {
          "output_type": "display_data",
          "data": {
            "text/plain": [
              "<Figure size 640x480 with 1 Axes>"
            ],
            "image/png": "[encoded data removed]"
          },
          "metadata": {}
        }
      ],
      "source": [
        "if a == 1:  #Solo u1.\n",
        "    plt.plot(t_vec, u_vec1);\n",
        "    plt.show()\n",
        "else:\n",
        "    plt.plot(t_vec, u_vec1);\n",
        "    plt.plot(t_vec, u_vec2);\n",
        "    plt.show()"
      ]
    },
    {
      "cell_type": "code",
      "execution_count": 49,
      "metadata": {
        "id": "Xgp3K0xK4mKZ",
        "colab": {
          "base_uri": "https://localhost:8080/",
          "height": 161
        },
        "outputId": "b8c33334-d006-4f1c-f19b-bad0fe471bc2"
      },
      "outputs": [
        {
          "output_type": "execute_result",
          "data": {
            "text/plain": [
              "⎡                      ⎛     ⎛             ______    ________⎞                \n",
              "⎢                      ⎜     ⎜            ╱  EI     ╱      2 ⎟                \n",
              "⎢                      ⎜     ⎜4⋅√33⋅t⋅   ╱  ──── ⋅╲╱  1 - ψ  ⎟      ⎛         \n",
              "⎢                      ⎜     ⎜          ╱    4               ⎟      ⎜         \n",
              "⎢                      ⎜     ⎜        ╲╱    L ⋅ρ             ⎟      ⎜4⋅√33⋅t⋅ \n",
              "⎢               ______ ⎜ψ⋅sin⎜───────────────────────────────⎟      ⎜         \n",
              "⎢              ╱  EI   ⎜     ⎝               11              ⎠      ⎜        ╲\n",
              "⎢  4⋅√33⋅ψ⋅   ╱  ──── ⋅⎜────────────────────────────────────── + cos⎜─────────\n",
              "⎢            ╱    4    ⎜                ________                    ⎝         \n",
              "⎢          ╲╱    L ⋅ρ  ⎜               ╱      2                               \n",
              "⎢                      ⎝             ╲╱  1 - ψ                                \n",
              "⎢- ───────────────────────────────────────────────────────────────────────────\n",
              "⎣                                                               11            \n",
              "\n",
              "                       ⎞                  ______                              \n",
              "                       ⎟                 ╱  EI                                \n",
              "    ______    ________⎞⎟  -4⋅√33⋅ψ⋅t⋅   ╱  ────                               \n",
              "   ╱  EI     ╱      2 ⎟⎟               ╱    4       ⎛                       ⎛ \n",
              "  ╱  ──── ⋅╲╱  1 - ψ  ⎟⎟             ╲╱    L ⋅ρ     ⎜                       ⎜ \n",
              " ╱    4               ⎟⎟  ───────────────────────   ⎜                       ⎜4\n",
              "╱    L ⋅ρ             ⎟⎟             11             ⎜             ______    ⎜ \n",
              "──────────────────────⎟⎟⋅ℯ                          ⎜            ╱  EI      ⎜ \n",
              "      11              ⎠⎟                            ⎜4⋅√33⋅ψ⋅   ╱  ──── ⋅cos⎜─\n",
              "                       ⎟                            ⎜          ╱    4       ⎝ \n",
              "                       ⎠                            ⎜        ╲╱    L ⋅ρ       \n",
              "───────────────────────────────────────────────── + ⎜─────────────────────────\n",
              "                                                    ⎝                         \n",
              "\n",
              "                                                                              \n",
              "                                                                              \n",
              "                                                                              \n",
              "            ______    ________⎞                                    ⎛          \n",
              "           ╱  EI     ╱      2 ⎟                                    ⎜          \n",
              "⋅√33⋅t⋅   ╱  ──── ⋅╲╱  1 - ψ  ⎟                                    ⎜4⋅√33⋅t⋅  \n",
              "         ╱    4               ⎟              ______    ________    ⎜          \n",
              "       ╲╱    L ⋅ρ             ⎟             ╱  EI     ╱      2     ⎜        ╲╱\n",
              "──────────────────────────────⎟   4⋅√33⋅   ╱  ──── ⋅╲╱  1 - ψ  ⋅sin⎜──────────\n",
              "              11              ⎠           ╱    4                   ⎝          \n",
              "                                        ╲╱    L ⋅ρ                            \n",
              "─────────────────────────────── - ────────────────────────────────────────────\n",
              "  11                                                              11          \n",
              "\n",
              "                                                ⎤\n",
              "                                                ⎥\n",
              "                                                ⎥\n",
              "   ______    ________⎞⎞                         ⎥\n",
              "  ╱  EI     ╱      2 ⎟⎟                  ______ ⎥\n",
              " ╱  ──── ⋅╲╱  1 - ψ  ⎟⎟                 ╱  EI   ⎥\n",
              "╱    4               ⎟⎟  -4⋅√33⋅ψ⋅t⋅   ╱  ────  ⎥\n",
              "    L ⋅ρ             ⎟⎟               ╱    4    ⎥\n",
              "─────────────────────⎟⎟             ╲╱    L ⋅ρ  ⎥\n",
              "     11              ⎠⎟  ───────────────────────⎥\n",
              "                      ⎟             11          ⎥\n",
              "──────────────────────⎟⋅ℯ                       ⎥\n",
              "                      ⎠                         ⎦"
            ],
            "text/latex": "$\\displaystyle \\left[\\begin{matrix}- \\frac{4 \\sqrt{33} \\psi \\sqrt{\\frac{EI}{L^{4} \\rho}} \\left(\\frac{\\psi \\sin{\\left(\\frac{4 \\sqrt{33} t \\sqrt{\\frac{EI}{L^{4} \\rho}} \\sqrt{1 - \\psi^{2}}}{11} \\right)}}{\\sqrt{1 - \\psi^{2}}} + \\cos{\\left(\\frac{4 \\sqrt{33} t \\sqrt{\\frac{EI}{L^{4} \\rho}} \\sqrt{1 - \\psi^{2}}}{11} \\right)}\\right) e^{- \\frac{4 \\sqrt{33} \\psi t \\sqrt{\\frac{EI}{L^{4} \\rho}}}{11}}}{11} + \\left(\\frac{4 \\sqrt{33} \\psi \\sqrt{\\frac{EI}{L^{4} \\rho}} \\cos{\\left(\\frac{4 \\sqrt{33} t \\sqrt{\\frac{EI}{L^{4} \\rho}} \\sqrt{1 - \\psi^{2}}}{11} \\right)}}{11} - \\frac{4 \\sqrt{33} \\sqrt{\\frac{EI}{L^{4} \\rho}} \\sqrt{1 - \\psi^{2}} \\sin{\\left(\\frac{4 \\sqrt{33} t \\sqrt{\\frac{EI}{L^{4} \\rho}} \\sqrt{1 - \\psi^{2}}}{11} \\right)}}{11}\\right) e^{- \\frac{4 \\sqrt{33} \\psi t \\sqrt{\\frac{EI}{L^{4} \\rho}}}{11}}\\end{matrix}\\right]$"
          },
          "metadata": {},
          "execution_count": 49
        }
      ],
      "source": [
        "#Respuesta en velocidad (derivada del desplazamiento con respecto al tiempo)\n",
        "v = diff(u,t)\n",
        "v"
      ]
    },
    {
      "cell_type": "code",
      "source": [
        "#Grafica de la solución del primer gdl\n",
        "#de t=0 a t=50s, cada 0.1s\n",
        "t_vec  = np.arange(0, 5, 0.01)\n",
        "if a == 1:  #Solo u1.\n",
        "    v_vec1 = np.array([N(v[0].subs({EI:1,psi:0.1,L:1,rho:1,t:tt})) for tt in t_vec])\n",
        "    v_vec2 = false\n",
        "else:\n",
        "    v_vec1 = np.array([N(v[0].subs({EI:1,psi:0.1,L:1,rho:1,t:tt})) for tt in t_vec])\n",
        "    v_vec2 = np.array([N(v[1].subs({EI:1,psi:0.1,L:1,rho:1,t:tt})) for tt in t_vec])"
      ],
      "metadata": {
        "id": "0Y-AoAsZrckY"
      },
      "execution_count": 50,
      "outputs": []
    },
    {
      "cell_type": "code",
      "source": [
        "if a == 1:  #Solo u1.\n",
        "    plt.plot(t_vec, v_vec1);\n",
        "    plt.show()\n",
        "else:\n",
        "    plt.plot(t_vec, v_vec1);\n",
        "    plt.plot(t_vec, v_vec2);\n",
        "    plt.show()"
      ],
      "metadata": {
        "colab": {
          "base_uri": "https://localhost:8080/",
          "height": 430
        },
        "id": "bXMT-8qGrqtE",
        "outputId": "2c2cba60-df2c-4a02-eac5-63ce8b9c8e97"
      },
      "execution_count": 51,
      "outputs": [
        {
          "output_type": "display_data",
          "data": {
            "text/plain": [
              "<Figure size 640x480 with 1 Axes>"
            ],
            "image/png": "[encoded data removed]"
          },
          "metadata": {}
        }
      ]
    },
    {
      "cell_type": "code",
      "execution_count": 52,
      "metadata": {
        "id": "eGqx0p8o4mKa",
        "colab": {
          "base_uri": "https://localhost:8080/",
          "height": 38
        },
        "outputId": "f61a0a93-ed79-4d24-a32c-35f051ff8cd7"
      },
      "outputs": [
        {
          "output_type": "execute_result",
          "data": {
            "text/plain": [
              "[cos(ω⋅t)]"
            ],
            "text/latex": "$\\displaystyle \\left[\\begin{matrix}\\cos{\\left(\\omega t \\right)}\\end{matrix}\\right]$"
          },
          "metadata": {},
          "execution_count": 52
        }
      ],
      "source": [
        "#Respuesta bajo una carga armónica aplicada en el gdl 1\n",
        "if a == 1:  #Solo u1.\n",
        "    p=Matrix([[cos(omega*t)]])\n",
        "else:\n",
        "    p=Matrix([[cos(omega*t)],[0]])\n",
        "p"
      ]
    },
    {
      "cell_type": "code",
      "execution_count": 53,
      "metadata": {
        "id": "xLtgrsSG4mKb",
        "colab": {
          "base_uri": "https://localhost:8080/",
          "height": 39
        },
        "outputId": "4db37312-3fe0-46a3-e2fc-cde3e1093bdb"
      },
      "outputs": [
        {
          "output_type": "execute_result",
          "data": {
            "text/plain": [
              "cos(ω⋅t)"
            ],
            "text/latex": "$\\displaystyle \\cos{\\left(\\omega t \\right)}$"
          },
          "metadata": {},
          "execution_count": 53
        }
      ],
      "source": [
        "#Carga asociada al primer modo\n",
        "p1=V1.transpose()*p\n",
        "p1=p1[0]\n",
        "simplify(p1)"
      ]
    },
    {
      "cell_type": "code",
      "execution_count": 54,
      "metadata": {
        "id": "Hs7msLHQ4mKb",
        "colab": {
          "base_uri": "https://localhost:8080/",
          "height": 37
        },
        "outputId": "4b638807-cc88-4ca9-81e8-dcb88a36ddee"
      },
      "outputs": [
        {
          "output_type": "execute_result",
          "data": {
            "text/plain": [
              "False"
            ],
            "text/latex": "$\\displaystyle \\text{False}$"
          },
          "metadata": {},
          "execution_count": 54
        }
      ],
      "source": [
        "#Carga asociada al segundo modo\n",
        "if a != 1:\n",
        "    p2=V2.transpose()*p\n",
        "    p2=p2[0]\n",
        "else:\n",
        "    p2 = false\n",
        "simplify(p2)"
      ]
    },
    {
      "cell_type": "code",
      "execution_count": 55,
      "metadata": {
        "id": "deyLoix74mKb",
        "colab": {
          "base_uri": "https://localhost:8080/",
          "height": 84
        },
        "outputId": "00334916-d840-48dd-e33e-efaeab8df81b"
      },
      "outputs": [
        {
          "output_type": "execute_result",
          "data": {
            "text/plain": [
              "      ⎛                              ______                              ⎞\n",
              "    3 ⎜                             ╱  EI   ⎛            4  2  ⎞         ⎟\n",
              "22⋅L ⋅⎜-8⋅√33⋅EI⋅ω⋅ψ⋅cos(ω⋅t) +    ╱  ──── ⋅⎝48⋅EI - 11⋅L ⋅ω ⋅ρ⎠⋅sin(ω⋅t)⎟\n",
              "      ⎜                           ╱    4                                 ⎟\n",
              "      ⎝                         ╲╱    L ⋅ρ                               ⎠\n",
              "──────────────────────────────────────────────────────────────────────────\n",
              "              ______ ⎛                                         2⎞         \n",
              "             ╱  EI   ⎜         4  2  2     ⎛            4  2  ⎞ ⎟         \n",
              "            ╱  ──── ⋅⎝2112⋅EI⋅L ⋅ω ⋅ψ ⋅ρ + ⎝48⋅EI - 11⋅L ⋅ω ⋅ρ⎠ ⎠         \n",
              "           ╱    4                                                         \n",
              "         ╲╱    L ⋅ρ                                                       "
            ],
            "text/latex": "$\\displaystyle \\frac{22 L^{3} \\left(- 8 \\sqrt{33} EI \\omega \\psi \\cos{\\left(\\omega t \\right)} + \\sqrt{\\frac{EI}{L^{4} \\rho}} \\left(48 EI - 11 L^{4} \\omega^{2} \\rho\\right) \\sin{\\left(\\omega t \\right)}\\right)}{\\sqrt{\\frac{EI}{L^{4} \\rho}} \\left(2112 EI L^{4} \\omega^{2} \\psi^{2} \\rho + \\left(48 EI - 11 L^{4} \\omega^{2} \\rho\\right)^{2}\\right)}$"
          },
          "metadata": {},
          "execution_count": 55
        }
      ],
      "source": [
        "#Respuesta del primer modo\n",
        "omega1=sqrt(freq1)\n",
        "omega1d = omega1*sqrt(1-psi**2)\n",
        "beta1=omega/omega1\n",
        "p1a=p1/cos(omega*t)\n",
        "q1=p1a/K1*((1-beta1**2)/((1-beta1**2)**2+(2*psi*beta1)**2)*sin(omega*t)-2*psi*beta1/((1-beta1**2)**2+(2*psi*beta1)**2)*cos(omega*t))\n",
        "q1=simplify(q1)\n",
        "q1"
      ]
    },
    {
      "cell_type": "code",
      "execution_count": 56,
      "metadata": {
        "id": "2ZvGPFO74mKc",
        "colab": {
          "base_uri": "https://localhost:8080/",
          "height": 37
        },
        "outputId": "e94dad87-cf00-4fbb-c9f5-60d73a06c51d"
      },
      "outputs": [
        {
          "output_type": "execute_result",
          "data": {
            "text/plain": [
              "False"
            ],
            "text/latex": "$\\displaystyle \\text{False}$"
          },
          "metadata": {},
          "execution_count": 56
        }
      ],
      "source": [
        "if a != 1:\n",
        "    omega2=sqrt(freq2)\n",
        "    omega2d = omega2*sqrt(1-psi**2)\n",
        "    beta2=omega/omega2\n",
        "    p2a=p2/cos(omega*t)\n",
        "    q2=p2a/K2*((1-beta2**2)/((1-beta2**2)**2+(2*psi*beta2)**2)*sin(omega*t)-2*psi*beta2/((1-beta2**2)**2+(2*psi*beta2)**2)*cos(omega*t))\n",
        "else:\n",
        "    q2 = false\n",
        "simplify(q2)"
      ]
    },
    {
      "cell_type": "code",
      "execution_count": 57,
      "metadata": {
        "id": "9DKQ6UcL4mKc",
        "colab": {
          "base_uri": "https://localhost:8080/",
          "height": 61
        },
        "outputId": "1da16035-39dd-4b6d-8454-964c695b7301"
      },
      "outputs": [
        {
          "output_type": "execute_result",
          "data": {
            "text/plain": [
              "⎡      ⎛                              ______                              ⎞⎤\n",
              "⎢    3 ⎜                             ╱  EI   ⎛            4  2  ⎞         ⎟⎥\n",
              "⎢22⋅L ⋅⎜-8⋅√33⋅EI⋅ω⋅ψ⋅cos(ω⋅t) +    ╱  ──── ⋅⎝48⋅EI - 11⋅L ⋅ω ⋅ρ⎠⋅sin(ω⋅t)⎟⎥\n",
              "⎢      ⎜                           ╱    4                                 ⎟⎥\n",
              "⎢      ⎝                         ╲╱    L ⋅ρ                               ⎠⎥\n",
              "⎢──────────────────────────────────────────────────────────────────────────⎥\n",
              "⎢              ______ ⎛                                         2⎞         ⎥\n",
              "⎢             ╱  EI   ⎜         4  2  2     ⎛            4  2  ⎞ ⎟         ⎥\n",
              "⎢            ╱  ──── ⋅⎝2112⋅EI⋅L ⋅ω ⋅ψ ⋅ρ + ⎝48⋅EI - 11⋅L ⋅ω ⋅ρ⎠ ⎠         ⎥\n",
              "⎢           ╱    4                                                         ⎥\n",
              "⎣         ╲╱    L ⋅ρ                                                       ⎦"
            ],
            "text/latex": "$\\displaystyle \\left[\\begin{matrix}\\frac{22 L^{3} \\left(- 8 \\sqrt{33} EI \\omega \\psi \\cos{\\left(\\omega t \\right)} + \\sqrt{\\frac{EI}{L^{4} \\rho}} \\left(48 EI - 11 L^{4} \\omega^{2} \\rho\\right) \\sin{\\left(\\omega t \\right)}\\right)}{\\sqrt{\\frac{EI}{L^{4} \\rho}} \\left(2112 EI L^{4} \\omega^{2} \\psi^{2} \\rho + \\left(48 EI - 11 L^{4} \\omega^{2} \\rho\\right)^{2}\\right)}\\end{matrix}\\right]$"
          },
          "metadata": {},
          "execution_count": 57
        }
      ],
      "source": [
        "if a != 1:\n",
        "    u = V1*q1+V2*q2\n",
        "else:\n",
        "    u = V1*q1\n",
        "simplify(u)"
      ]
    },
    {
      "cell_type": "code",
      "execution_count": 58,
      "metadata": {
        "id": "xI_uA2dU4mKc",
        "colab": {
          "base_uri": "https://localhost:8080/",
          "height": 38
        },
        "outputId": "f33a645f-fa50-4869-f84f-289cc5e3d6bc"
      },
      "outputs": [
        {
          "output_type": "execute_result",
          "data": {
            "text/plain": [
              "[-0.0208727146794419⋅sin(10⋅t) - 0.000911822183113062⋅cos(10⋅t)]"
            ],
            "text/latex": "$\\displaystyle \\left[\\begin{matrix}- 0.0208727146794419 \\sin{\\left(10 t \\right)} - 0.000911822183113062 \\cos{\\left(10 t \\right)}\\end{matrix}\\right]$"
          },
          "metadata": {},
          "execution_count": 58
        }
      ],
      "source": [
        "N(u.subs({EI:1,psi:0.1,L:1,rho:1,omega:10}))"
      ]
    },
    {
      "cell_type": "code",
      "execution_count": 59,
      "metadata": {
        "id": "QPS64L_24mKc"
      },
      "outputs": [],
      "source": [
        "t_vec = np.arange(0, 3, 0.01)\n",
        "if a == 1:  #Solo u1.\n",
        "    u_vec1 = np.array([N(u[0].subs({EI:1,psi:0.1,L:1,rho:1,omega:10,t:tt})) for tt in t_vec])\n",
        "else:\n",
        "    u_vec1 = np.array([N(u[0].subs({EI:1,psi:0.1,L:1,rho:1,omega:10,t:tt})) for tt in t_vec])\n",
        "    u_vec2 = np.array([N(u[1].subs({EI:1,psi:0.1,L:1,rho:1,omega:10,t:tt})) for tt in t_vec])"
      ]
    },
    {
      "cell_type": "code",
      "execution_count": 60,
      "metadata": {
        "id": "Hl6fZ_E74mKd",
        "colab": {
          "base_uri": "https://localhost:8080/",
          "height": 430
        },
        "outputId": "1e7dba10-91d4-4bd8-bf2b-20f4037cdede"
      },
      "outputs": [
        {
          "output_type": "display_data",
          "data": {
            "text/plain": [
              "<Figure size 640x480 with 1 Axes>"
            ],
            "image/png": "[encoded data removed]"
          },
          "metadata": {}
        }
      ],
      "source": [
        "if a == 1:  #Solo u1.\n",
        "    plt.plot(t_vec, u_vec1);\n",
        "    plt.show()\n",
        "else:\n",
        "    plt.plot(t_vec, u_vec1);\n",
        "    plt.plot(t_vec, u_vec2);\n",
        "    plt.show()"
      ]
    }
  ],
  "metadata": {
    "kernelspec": {
      "display_name": "Python 3 (ipykernel)",
      "language": "python",
      "name": "python3"
    },
    "language_info": {
      "codemirror_mode": {
        "name": "ipython",
        "version": 3
      },
      "file_extension": ".py",
      "mimetype": "text/x-python",
      "name": "python",
      "nbconvert_exporter": "python",
      "pygments_lexer": "ipython3",
      "version": "3.8.10"
    },
    "colab": {
      "provenance": [],
      "include_colab_link": true
    }
  },
  "nbformat": 4,
  "nbformat_minor": 0
}