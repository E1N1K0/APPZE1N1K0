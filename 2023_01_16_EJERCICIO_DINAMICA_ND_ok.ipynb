{
  "cells": [
    {
      "cell_type": "markdown",
      "metadata": {
        "id": "view-in-github",
        "colab_type": "text"
      },
      "source": [
        "<a href=\"https://colab.research.google.com/github/E1N1K0/APPZE1N1K0/blob/main/2023_01_16_EJERCICIO_DINAMICA_ND_ok.ipynb\" target=\"_parent\"><img src=\"https://colab.research.google.com/assets/colab-badge.svg\" alt=\"Open In Colab\"/></a>"
      ]
    },
    {
      "cell_type": "markdown",
      "source": [
        "**TAREA SMGdl**\n",
        "\n",
        "---\n",
        "\n"
      ],
      "metadata": {
        "id": "zd03nuusWgV0"
      }
    },
    {
      "cell_type": "markdown",
      "source": [
        "**DATOS INICIALES**"
      ],
      "metadata": {
        "id": "PhZeZaIzWlQC"
      }
    },
    {
      "cell_type": "code",
      "execution_count": 1,
      "metadata": {
        "id": "6el54sv14mJ-"
      },
      "outputs": [],
      "source": [
        "# IMPORTAR LIBRERIAS\n",
        "from sympy import *\n",
        "import numpy as np"
      ]
    },
    {
      "cell_type": "code",
      "source": [
        "# DEFINICION DE SIMBOLOS\n",
        "init_printing()\n",
        "\n",
        "EI = symbols(\"EI\")              #EI: Rigidez a la flexión.\n",
        "L = symbols(\"L\")                #L: Longitud.\n",
        "rho = symbols(\"rho\")            #rho: Densidad.\n",
        "omega = symbols(\"omega\")        #omega: Frecuencia natural.\n",
        "lambd = symbols(\"lambda\")       #omega^2.\n",
        "u1,u2,u3 = symbols(\"u1,u2,u3\")  #u1, u2, u3: Desplazamientos.\n",
        "psi = symbols(\"psi\")            #psi: Función de forma.\n",
        "t = symbols(\"t\")                #t: Tiempo."
      ],
      "metadata": {
        "id": "iI0f_UY-WNSF"
      },
      "execution_count": 2,
      "outputs": []
    },
    {
      "cell_type": "code",
      "source": [
        "# CIFRAS PERSONALIZADAS\n",
        "\"\"\"Para determinar los ejercicios a desarrollar\"\"\"\n",
        "C1 = 1\n",
        "C2 = 0.89\n",
        "C3 = 0.9\n",
        "C4 = 1.1\n",
        "\n",
        "estructuras = [f\"Se evaluará la estructura numero {num}.\" for num in [\n",
        "                1 if C1 % 2 == 0 else 2,\n",
        "                3 if C2 % 2 == 0 else 4,\n",
        "                5 if C3 % 2 == 0 else 6\n",
        "                                        ]]\n",
        "\n",
        "for estructura in estructuras:\n",
        "    print(estructura)"
      ],
      "metadata": {
        "colab": {
          "base_uri": "https://localhost:8080/"
        },
        "id": "y-9FOcVfXX47",
        "outputId": "8d803f07-4ba0-4c2a-95d0-0616f3ba6e22"
      },
      "execution_count": 3,
      "outputs": [
        {
          "output_type": "stream",
          "name": "stdout",
          "text": [
            "Se evaluará la estructura numero 2.\n",
            "Se evaluará la estructura numero 4.\n",
            "Se evaluará la estructura numero 6.\n"
          ]
        }
      ]
    },
    {
      "cell_type": "markdown",
      "source": [
        "**SOLUCION DEL EJERCICIO**"
      ],
      "metadata": {
        "id": "0NtrzK2ZXml8"
      }
    },
    {
      "cell_type": "markdown",
      "source": [
        "**DATOS DE ENTRADA PARA RESOLVER EL EJERCICIO**"
      ],
      "metadata": {
        "id": "YFCNeCM_YzFG"
      }
    },
    {
      "cell_type": "code",
      "source": [
        "#Definir la matriz de masa sin condensar y rigidez sin condensar,\n",
        "#para el ejercicio que se desea resolver.\n",
        "\n",
        "Ej = \"5\"   #<==== Definir el ejercicio a desarrollar.\n",
        "\n",
        "if Ej == \"1\":\n",
        "    M=Matrix([[rho*L/2,0,0],[0,0,0],[0,0,0]])\n",
        "    K=Matrix([[12*EI/L**3, -6*EI/L**2, -6*EI/L**2],[-6*EI/L**2, 4*EI/L**1,2*EI/L**1],[-6*EI/L**2,2*EI/L**1, 12*EI/L**1]])\n",
        "\n",
        "elif Ej == \"2\":\n",
        "    M=Matrix([[rho*L/2,0,0],[0,0,0],[0,0,0]])\n",
        "    K=Matrix([[12*EI/L**3, -6*EI/L**2, 0],[-6*EI/L**2, 12*EI/L**1,4*EI/L**1],[0,4*EI/L**1, 8*EI/L**1]])\n",
        "\n",
        "elif Ej == \"3\":\n",
        "    M=Matrix([[rho*L/2,0,0,0],[0,rho*L,0,0],[0,0,0,0],[0,0,0,0]])\n",
        "    K=Matrix([[12*EI/(L**3), -12*EI/(L**3), -6*EI/(L**2), 0], [-12*EI/(L**3), 36*EI/(L**3), -6*EI/(L**2), -12*EI/(L**2)], [-6*EI/(L**2), -6*EI/(L**2), 12*EI/(L**1), 4*EI/(L**1)], [0, -12*EI/(L**2), 4*EI/(L**1), 8*EI/(L**1)]])\n",
        "\n",
        "elif Ej == \"4\":\n",
        "    M=Matrix([[rho*L/2,0,0,0],[0,rho*L/2,0,0],[0,0,0,0],[0,0,0,0]])\n",
        "    K=Matrix([[24*EI/(L**3), 0, -12*EI/(L**2), 0], [0, 12*EI/(L**3), 6*EI/(L**2), 6*EI/(L**2)], [-12*EI/(L**2), 6*EI/(L**2), 12*EI/(L**1), 2*EI/(L**1)], [0, 6*EI/(L**2), 2*EI/(L**1), 4*EI/(L**1)]])\n",
        "\n",
        "elif Ej == \"5\":\n",
        "    M=Matrix([[3*rho*L,0,0],[0,2*rho*L,0],[0,0,0],[0,0,0]])\n",
        "    K=Matrix([[96*EI/L**3, -24*EI/L**3, 18*EI/L**2],[-24*EI/L**3, 24*EI/L**3, 0],[18*EI/L**2,0, 12*EI/L**1]])\n",
        "\n",
        "elif Ej == \"6\":\n",
        "    M=Matrix([[5*rho*L/2,0,0],[0,rho*L/2,0],[0,0,0]])\n",
        "    K=Matrix([[48*EI/L**3, -12*EI/L**3, 6*EI/L**2],[-12*EI/L**3, 12*EI/L**3, 0],[6*EI/L**2,0, 4*EI/L**1]])\n",
        "\n",
        "elif Ej == \"3x3\":\n",
        "    M = Matrix([[1, 2, 3], [4, 5, 6], [7, 8, 9]])\n",
        "    K = Matrix([[1, 2, 3], [4, 5, 6], [7, 8, 9]])\n",
        "\n",
        "elif Ej == \"4x4\":\n",
        "    M = Matrix([[1, 2, 3, 4], [5, 6, 7, 8], [9, 10, 11, 12], [13, 14, 15, 16]])\n",
        "    K = Matrix([[1, 2, 3, 4], [5, 6, 7, 8], [9, 10, 11, 12], [13, 14, 15, 16]])\n",
        "\n",
        "elif Ej == \"libro\":\n",
        "    M=Matrix([[rho*L/4,0,0,0],[0,rho*L/2,0,0],[0,0,0,0],[0,0,0,0]])\n",
        "    K = 4*EI/L**3*Matrix([[24, -24, -6*L, -6*L],[-24, 48, 6*L, 0],[-6*L, 6*L, 2*L**2, L**2],[-6*L, 0, L**2, 4*L**2]])\n",
        "\n",
        "else:\n",
        "    M = None\n",
        "    K = None"
      ],
      "metadata": {
        "id": "bbV0WInNXwNB"
      },
      "execution_count": 4,
      "outputs": []
    },
    {
      "cell_type": "code",
      "execution_count": 5,
      "metadata": {
        "colab": {
          "base_uri": "https://localhost:8080/",
          "height": 98
        },
        "id": "w9sf3BuZ4mKG",
        "outputId": "4106c90f-745a-44a7-c3fe-43f61994777d"
      },
      "outputs": [
        {
          "output_type": "execute_result",
          "data": {
            "text/plain": [
              "⎡3⋅L⋅ρ    0    0⎤\n",
              "⎢               ⎥\n",
              "⎢  0    2⋅L⋅ρ  0⎥\n",
              "⎢               ⎥\n",
              "⎢  0      0    0⎥\n",
              "⎢               ⎥\n",
              "⎣  0      0    0⎦"
            ],
            "text/latex": "$\\displaystyle \\left[\\begin{matrix}3 L \\rho & 0 & 0\\\\0 & 2 L \\rho & 0\\\\0 & 0 & 0\\\\0 & 0 & 0\\end{matrix}\\right]$"
          },
          "metadata": {},
          "execution_count": 5
        }
      ],
      "source": [
        "#Matriz de masas sin condensar\n",
        "M"
      ]
    },
    {
      "cell_type": "code",
      "execution_count": 6,
      "metadata": {
        "colab": {
          "base_uri": "https://localhost:8080/",
          "height": 80
        },
        "id": "EdT5Gl7-4mKD",
        "outputId": "ee78e282-29af-488d-9485-51a9e55e7ac6"
      },
      "outputs": [
        {
          "output_type": "execute_result",
          "data": {
            "text/plain": [
              "⎡ 96⋅EI   -24⋅EI   18⋅EI⎤\n",
              "⎢ ─────   ───────  ─────⎥\n",
              "⎢    3        3       2 ⎥\n",
              "⎢   L        L       L  ⎥\n",
              "⎢                       ⎥\n",
              "⎢-24⋅EI    24⋅EI        ⎥\n",
              "⎢───────   ─────     0  ⎥\n",
              "⎢    3        3         ⎥\n",
              "⎢   L        L          ⎥\n",
              "⎢                       ⎥\n",
              "⎢ 18⋅EI            12⋅EI⎥\n",
              "⎢ ─────      0     ─────⎥\n",
              "⎢    2               L  ⎥\n",
              "⎣   L                   ⎦"
            ],
            "text/latex": "$\\displaystyle \\left[\\begin{matrix}\\frac{96 EI}{L^{3}} & - \\frac{24 EI}{L^{3}} & \\frac{18 EI}{L^{2}}\\\\- \\frac{24 EI}{L^{3}} & \\frac{24 EI}{L^{3}} & 0\\\\\\frac{18 EI}{L^{2}} & 0 & \\frac{12 EI}{L}\\end{matrix}\\right]$"
          },
          "metadata": {},
          "execution_count": 6
        }
      ],
      "source": [
        "#Matriz de Rigidez sin condensar\n",
        "K"
      ]
    },
    {
      "cell_type": "markdown",
      "source": [
        "**DESARROLLO:**"
      ],
      "metadata": {
        "id": "LCwsW0c_Y-aa"
      }
    },
    {
      "cell_type": "markdown",
      "source": [
        "Se plantea la ecuación de equilibrio dinámico:"
      ],
      "metadata": {
        "id": "bcxtu7Inl_Fj"
      }
    },
    {
      "cell_type": "markdown",
      "source": [
        "![image.png](data:image/png;base64,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)"
      ],
      "metadata": {
        "id": "U4bvkPDrlpMQ"
      }
    },
    {
      "cell_type": "markdown",
      "source": [
        "Se condensa, para simplificar la ecuación:"
      ],
      "metadata": {
        "id": "x8zv14JMmGB-"
      }
    },
    {
      "cell_type": "markdown",
      "source": [
        "![image.png](data:image/png;base64,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)"
      ],
      "metadata": {
        "id": "2nBKkma4ktSR"
      }
    },
    {
      "cell_type": "code",
      "source": [
        "#Para automatizar el proceso, definir aceleraciones, u¨:\n",
        "#segun criterio: Si no tiene masa la aceleracion es 0.\n",
        "a = b = 1 if np.count_nonzero(M) == 1 else 2\n",
        "print(f'Se reducirá a una matriz de {a,b}')"
      ],
      "metadata": {
        "colab": {
          "base_uri": "https://localhost:8080/"
        },
        "id": "z6-79euQZE5q",
        "outputId": "673de4de-79e5-4f55-b13a-1b239a326d90"
      },
      "execution_count": 7,
      "outputs": [
        {
          "output_type": "stream",
          "name": "stdout",
          "text": [
            "Se reducirá a una matriz de (2, 2)\n"
          ]
        }
      ]
    },
    {
      "cell_type": "code",
      "execution_count": 8,
      "metadata": {
        "colab": {
          "base_uri": "https://localhost:8080/",
          "height": 59
        },
        "id": "6jKpsWq14mKH",
        "outputId": "8c8560b2-7d13-4102-95d7-b86f2fc612a8"
      },
      "outputs": [
        {
          "output_type": "execute_result",
          "data": {
            "text/plain": [
              "⎡ 96⋅EI   -24⋅EI ⎤\n",
              "⎢ ─────   ───────⎥\n",
              "⎢    3        3  ⎥\n",
              "⎢   L        L   ⎥\n",
              "⎢                ⎥\n",
              "⎢-24⋅EI    24⋅EI ⎥\n",
              "⎢───────   ───── ⎥\n",
              "⎢    3        3  ⎥\n",
              "⎣   L        L   ⎦"
            ],
            "text/latex": "$\\displaystyle \\left[\\begin{matrix}\\frac{96 EI}{L^{3}} & - \\frac{24 EI}{L^{3}}\\\\- \\frac{24 EI}{L^{3}} & \\frac{24 EI}{L^{3}}\\end{matrix}\\right]$"
          },
          "metadata": {},
          "execution_count": 8
        }
      ],
      "source": [
        "#Submatriz de rigidez asociada a los gdl de desplazamiento\n",
        "#Acceder a la submatriz en la esquina superior izquierda\n",
        "Ktt= K[:a, :b]\n",
        "Ktt"
      ]
    },
    {
      "cell_type": "code",
      "execution_count": 9,
      "metadata": {
        "colab": {
          "base_uri": "https://localhost:8080/",
          "height": 38
        },
        "id": "55E_cNzJ4mKI",
        "outputId": "74f1d6d0-5f08-4aa8-f684-6c8278953f1a"
      },
      "outputs": [
        {
          "output_type": "execute_result",
          "data": {
            "text/plain": [
              "⎡18⋅EI   ⎤\n",
              "⎢─────  0⎥\n",
              "⎢   2    ⎥\n",
              "⎣  L     ⎦"
            ],
            "text/latex": "$\\displaystyle \\left[\\begin{matrix}\\frac{18 EI}{L^{2}} & 0\\end{matrix}\\right]$"
          },
          "metadata": {},
          "execution_count": 9
        }
      ],
      "source": [
        "#Submatriz de rigidez asociada a los gdl de de desplazamiento y giro\n",
        "#Acceder a la submatriz en la esquina inferior izquierda\n",
        "Kot = K[a:, :b]\n",
        "Kot"
      ]
    },
    {
      "cell_type": "code",
      "execution_count": 10,
      "metadata": {
        "colab": {
          "base_uri": "https://localhost:8080/",
          "height": 38
        },
        "id": "ayRrUwHK4mKI",
        "outputId": "869acf5f-c5d8-405f-c201-9ee3b687ca2e"
      },
      "outputs": [
        {
          "output_type": "execute_result",
          "data": {
            "text/plain": [
              "⎡12⋅EI⎤\n",
              "⎢─────⎥\n",
              "⎣  L  ⎦"
            ],
            "text/latex": "$\\displaystyle \\left[\\begin{matrix}\\frac{12 EI}{L}\\end{matrix}\\right]$"
          },
          "metadata": {},
          "execution_count": 10
        }
      ],
      "source": [
        "#Submatriz de rigidez asociada a los gdl de giro\n",
        "# Acceder a la submatriz en la esquina inferior derecha\n",
        "Koo = K[(a):, (b):]\n",
        "Koo"
      ]
    },
    {
      "cell_type": "code",
      "execution_count": 11,
      "metadata": {
        "colab": {
          "base_uri": "https://localhost:8080/",
          "height": 59
        },
        "id": "t92sC78R4mKJ",
        "outputId": "381afb80-50e4-49ec-8bbb-53fe3bf4254e"
      },
      "outputs": [
        {
          "output_type": "execute_result",
          "data": {
            "text/plain": [
              "⎡ 69⋅EI   -24⋅EI ⎤\n",
              "⎢ ─────   ───────⎥\n",
              "⎢    3        3  ⎥\n",
              "⎢   L        L   ⎥\n",
              "⎢                ⎥\n",
              "⎢-24⋅EI    24⋅EI ⎥\n",
              "⎢───────   ───── ⎥\n",
              "⎢    3        3  ⎥\n",
              "⎣   L        L   ⎦"
            ],
            "text/latex": "$\\displaystyle \\left[\\begin{matrix}\\frac{69 EI}{L^{3}} & - \\frac{24 EI}{L^{3}}\\\\- \\frac{24 EI}{L^{3}} & \\frac{24 EI}{L^{3}}\\end{matrix}\\right]$"
          },
          "metadata": {},
          "execution_count": 11
        }
      ],
      "source": [
        "#Matriz de rigidez condensada\n",
        "Kcond = Ktt - Kot.transpose()*Koo.inv()*Kot\n",
        "Kcond"
      ]
    },
    {
      "cell_type": "code",
      "execution_count": 12,
      "metadata": {
        "colab": {
          "base_uri": "https://localhost:8080/",
          "height": 58
        },
        "id": "WhbAJlaq4mKK",
        "outputId": "cb85a777-b4b7-43d5-edb1-d43142522bb4"
      },
      "outputs": [
        {
          "output_type": "execute_result",
          "data": {
            "text/plain": [
              "⎡3⋅L⋅ρ    0  ⎤\n",
              "⎢            ⎥\n",
              "⎣  0    2⋅L⋅ρ⎦"
            ],
            "text/latex": "$\\displaystyle \\left[\\begin{matrix}3 L \\rho & 0\\\\0 & 2 L \\rho\\end{matrix}\\right]$"
          },
          "metadata": {},
          "execution_count": 12
        }
      ],
      "source": [
        "#Matriz de Masa condensada, Mcond=Mtt\n",
        "#Submatriz de masa asociada a los gdl de traslación\n",
        "#Acceder a la submatriz en la esquina superior izquierda\n",
        "Mcond = M[:a, :b]\n",
        "Mcond"
      ]
    },
    {
      "cell_type": "code",
      "execution_count": 13,
      "metadata": {
        "colab": {
          "base_uri": "https://localhost:8080/",
          "height": 38
        },
        "id": "90pUVAKl4mKL",
        "outputId": "bc017ce2-7d3b-4167-e07e-61c10775aea5"
      },
      "outputs": [
        {
          "output_type": "execute_result",
          "data": {
            "text/plain": [
              "⎡-3⋅u₁ ⎤\n",
              "⎢──────⎥\n",
              "⎣ 2⋅L  ⎦"
            ],
            "text/latex": "$\\displaystyle \\left[\\begin{matrix}- \\frac{3 u_{1}}{2 L}\\end{matrix}\\right]$"
          },
          "metadata": {},
          "execution_count": 13
        }
      ],
      "source": [
        "#Obtención de giros, en función de los desplazamientos\n",
        "#Definir un vector que contiene los desplazamientos\n",
        "#Segun el tamaño de la matriz Mcond (a).\n",
        "if a == 1:  #Solo u1.\n",
        "    u = Matrix([[u1]])\n",
        "\n",
        "else:  #u1 y u2.\n",
        "    u = Matrix([[u1],[u2]])\n",
        "\n",
        "u3 = -Koo.inv()*Kot*u\n",
        "u3"
      ]
    },
    {
      "cell_type": "code",
      "execution_count": 62,
      "metadata": {
        "colab": {
          "base_uri": "https://localhost:8080/",
          "height": 54
        },
        "id": "_EjuZsnw4mKM",
        "outputId": "261fd99a-28a1-4f28-b247-8a4f6506d4cf"
      },
      "outputs": [
        {
          "output_type": "execute_result",
          "data": {
            "text/plain": [
              "       2           4          8  2  2\n",
              "1080⋅EI  - 210⋅EI⋅L ⋅λ⋅ρ + 6⋅L ⋅λ ⋅ρ \n",
              "─────────────────────────────────────\n",
              "                   6                 \n",
              "                  L                  "
            ],
            "text/latex": "$\\displaystyle \\frac{1080 EI^{2} - 210 EI L^{4} \\lambda \\rho + 6 L^{8} \\lambda^{2} \\rho^{2}}{L^{6}}$"
          },
          "metadata": {},
          "execution_count": 62
        }
      ],
      "source": [
        "\n",
        "#Esto se puede obviar.\n",
        "#Polinomio característico de det[(Kcond-w^2*M)]=0\n",
        "Pol = det(Kcond-lambd*Mcond)\n",
        "Pol  #Con N() se muestra el resultado con decimales.\n"
      ]
    },
    {
      "cell_type": "code",
      "execution_count": 15,
      "metadata": {
        "colab": {
          "base_uri": "https://localhost:8080/",
          "height": 68
        },
        "id": "IbG1XsKb4mKM",
        "outputId": "b2465c79-f53a-4fed-8931-184a48a301b9"
      },
      "outputs": [
        {
          "output_type": "execute_result",
          "data": {
            "text/plain": [
              "⎡EI⋅(35 - √505)  EI⋅(√505 + 35)⎤\n",
              "⎢──────────────, ──────────────⎥\n",
              "⎢       4               4      ⎥\n",
              "⎣    2⋅L ⋅ρ          2⋅L ⋅ρ    ⎦"
            ],
            "text/latex": "$\\displaystyle \\left[ \\frac{EI \\left(35 - \\sqrt{505}\\right)}{2 L^{4} \\rho}, \\  \\frac{EI \\left(\\sqrt{505} + 35\\right)}{2 L^{4} \\rho}\\right]$"
          },
          "metadata": {},
          "execution_count": 15
        }
      ],
      "source": [
        "\n",
        "#Esto se puede obviar.\n",
        "#Hallar lambd:\n",
        "#Resolución del polinomio característico de det[(Kcond-w^2*M)]=0\n",
        "#La solución son las frecuencias al cuadrado w^2 (lambd)\n",
        "freqs=solve(Pol,lambd)\n",
        "freqs\n"
      ]
    },
    {
      "cell_type": "code",
      "execution_count": 16,
      "metadata": {
        "colab": {
          "base_uri": "https://localhost:8080/",
          "height": 60
        },
        "id": "0QZFKhP04mKM",
        "outputId": "06803e67-6fd0-41c1-fbef-5142da1db7a3"
      },
      "outputs": [
        {
          "output_type": "execute_result",
          "data": {
            "text/plain": [
              "EI⋅(35 - √505)\n",
              "──────────────\n",
              "       4      \n",
              "    2⋅L ⋅ρ    "
            ],
            "text/latex": "$\\displaystyle \\frac{EI \\left(35 - \\sqrt{505}\\right)}{2 L^{4} \\rho}$"
          },
          "metadata": {},
          "execution_count": 16
        }
      ],
      "source": [
        "\n",
        "#Esto se puede obviar.\n",
        "#Primera frecuencia al cuadrado\n",
        "freq1=(freqs[0])\n",
        "freq1\n"
      ]
    },
    {
      "cell_type": "code",
      "source": [
        "#Primera frecuencia\n",
        "w1=N((simplify(freqs[0]))**(1/2))\n",
        "w1"
      ],
      "metadata": {
        "colab": {
          "base_uri": "https://localhost:8080/",
          "height": 61
        },
        "id": "YsUQH06jOhK5",
        "outputId": "cbb226e1-a97a-4372-e149-23a04fe15314"
      },
      "execution_count": 17,
      "outputs": [
        {
          "output_type": "execute_result",
          "data": {
            "text/plain": [
              "                       0.5\n",
              "                 ⎛ EI ⎞   \n",
              "2.50277795117303⋅⎜────⎟   \n",
              "                 ⎜ 4  ⎟   \n",
              "                 ⎝L ⋅ρ⎠   "
            ],
            "text/latex": "$\\displaystyle 2.50277795117303 \\left(\\frac{EI}{L^{4} \\rho}\\right)^{0.5}$"
          },
          "metadata": {},
          "execution_count": 17
        }
      ]
    },
    {
      "cell_type": "code",
      "execution_count": 18,
      "metadata": {
        "id": "Mpxhj1ED4mKN",
        "colab": {
          "base_uri": "https://localhost:8080/",
          "height": 60
        },
        "outputId": "5dd72cc5-e01e-4498-d8f8-0c9bfc7357ce"
      },
      "outputs": [
        {
          "output_type": "execute_result",
          "data": {
            "text/plain": [
              "EI⋅(√505 + 35)\n",
              "──────────────\n",
              "       4      \n",
              "    2⋅L ⋅ρ    "
            ],
            "text/latex": "$\\displaystyle \\frac{EI \\left(\\sqrt{505} + 35\\right)}{2 L^{4} \\rho}$"
          },
          "metadata": {},
          "execution_count": 18
        }
      ],
      "source": [
        "\n",
        "#Esto se puede obviar.\n",
        "#Segunda frecuencia al cuadrado\n",
        "if a != 1: #cuando se cumpla que a sea diferente de 1, se imprimirán los resultados\n",
        "    freq2=simplify(freqs[1])\n",
        "    freq2\n",
        "else:\n",
        "    freq2 = false\n",
        "simplify(freq2)\n"
      ]
    },
    {
      "cell_type": "code",
      "source": [
        "#Esto se puede obviar.\n",
        "#Segunda frecuencia\n",
        "if a != 1: #cuando se cumpla que a sea diferente de 1, se imprimirán los resultados\n",
        "    w2=N(freqs[1])**(1/2)\n",
        "    freq2\n",
        "else:\n",
        "    w2 = false\n",
        "\n",
        "w2"
      ],
      "metadata": {
        "colab": {
          "base_uri": "https://localhost:8080/",
          "height": 61
        },
        "id": "jkkeezxrOr4k",
        "outputId": "452b8abb-ed0f-4211-9bd9-6901dcb56e9d"
      },
      "execution_count": 19,
      "outputs": [
        {
          "output_type": "execute_result",
          "data": {
            "text/plain": [
              "                       0.5\n",
              "                 ⎛ EI ⎞   \n",
              "5.36060654470388⋅⎜────⎟   \n",
              "                 ⎜ 4  ⎟   \n",
              "                 ⎝L ⋅ρ⎠   "
            ],
            "text/latex": "$\\displaystyle 5.36060654470388 \\left(\\frac{EI}{L^{4} \\rho}\\right)^{0.5}$"
          },
          "metadata": {},
          "execution_count": 19
        }
      ]
    },
    {
      "cell_type": "markdown",
      "source": [
        "Método alternativo de obtener las frecuencias de los modos:\n",
        "\n",
        "Transformar para calcular las frecuencias como un problema de valores propios.\n",
        "\n",
        "Resolver det[(Kcond * M^(-1)-w^2*I)]=0\n",
        "\n"
      ],
      "metadata": {
        "id": "fiMw_vBZqkAm"
      }
    },
    {
      "cell_type": "code",
      "execution_count": 20,
      "metadata": {
        "colab": {
          "base_uri": "https://localhost:8080/",
          "height": 68
        },
        "id": "2H5m8T4F4mKN",
        "outputId": "bcdb53d8-61af-4fe3-f256-7511d93dd30d"
      },
      "outputs": [
        {
          "output_type": "execute_result",
          "data": {
            "text/plain": [
              "⎡ 23⋅EI   -8⋅EI ⎤\n",
              "⎢ ─────   ──────⎥\n",
              "⎢   4       4   ⎥\n",
              "⎢  L ⋅ρ    L ⋅ρ ⎥\n",
              "⎢               ⎥\n",
              "⎢-12⋅EI   12⋅EI ⎥\n",
              "⎢───────  ───── ⎥\n",
              "⎢   4       4   ⎥\n",
              "⎣  L ⋅ρ    L ⋅ρ ⎦"
            ],
            "text/latex": "$\\displaystyle \\left[\\begin{matrix}\\frac{23 EI}{L^{4} \\rho} & - \\frac{8 EI}{L^{4} \\rho}\\\\- \\frac{12 EI}{L^{4} \\rho} & \\frac{12 EI}{L^{4} \\rho}\\end{matrix}\\right]$"
          },
          "metadata": {},
          "execution_count": 20
        }
      ],
      "source": [
        "#Maux es la matriz (Kcond*M^(-1)-w^2*I)\n",
        "Maux = Mcond.inv()*Kcond\n",
        "Maux"
      ]
    },
    {
      "cell_type": "code",
      "execution_count": 21,
      "metadata": {
        "colab": {
          "base_uri": "https://localhost:8080/",
          "height": 80
        },
        "id": "KlS4jGly4mKN",
        "outputId": "279d6e53-96c7-485e-e93c-b2a7801aa70e"
      },
      "outputs": [
        {
          "output_type": "execute_result",
          "data": {
            "text/plain": [
              "⎧   ⎛35   √505⎞        ⎛√505   35⎞   ⎫\n",
              "⎪EI⋅⎜── - ────⎟     EI⋅⎜──── + ──⎟   ⎪\n",
              "⎪   ⎝2     2  ⎠        ⎝ 2     2 ⎠   ⎪\n",
              "⎨──────────────: 1, ──────────────: 1⎬\n",
              "⎪      4                  4          ⎪\n",
              "⎪     L ⋅ρ               L ⋅ρ        ⎪\n",
              "⎩                                    ⎭"
            ],
            "text/latex": "$\\displaystyle \\left\\{ \\frac{EI \\left(\\frac{35}{2} - \\frac{\\sqrt{505}}{2}\\right)}{L^{4} \\rho} : 1, \\  \\frac{EI \\left(\\frac{\\sqrt{505}}{2} + \\frac{35}{2}\\right)}{L^{4} \\rho} : 1\\right\\}$"
          },
          "metadata": {},
          "execution_count": 21
        }
      ],
      "source": [
        "\n",
        "#De esta manera, el cálculo de fecuencias (valores propios), es más sencillo con el comando eigenvals()\n",
        "#El resultado es un vector, donde en cada componente el primer valor es la frecuencia al cuadrado.\n",
        "#El segundo (después de los :) es el número de veces que se repite\n",
        "freqss=Maux.eigenvals()\n",
        "freqss\n"
      ]
    },
    {
      "cell_type": "code",
      "execution_count": 22,
      "metadata": {
        "colab": {
          "base_uri": "https://localhost:8080/",
          "height": 80
        },
        "id": "ZPiT5FHs4mKN",
        "outputId": "2452ab5d-668a-4012-8585-b1307c9562f5"
      },
      "outputs": [
        {
          "output_type": "execute_result",
          "data": {
            "text/plain": [
              "⎡⎛   ⎛35   √505⎞                    ⎞  ⎛   ⎛√505   35⎞                    ⎞⎤\n",
              "⎢⎜EI⋅⎜── - ────⎟     ⎡⎡  11   √505⎤⎤⎟  ⎜EI⋅⎜──── + ──⎟     ⎡⎡  √505   11⎤⎤⎟⎥\n",
              "⎢⎜   ⎝2     2  ⎠     ⎢⎢- ── + ────⎥⎥⎟  ⎜   ⎝ 2     2 ⎠     ⎢⎢- ──── - ──⎥⎥⎟⎥\n",
              "⎢⎜──────────────, 1, ⎢⎢  24    24 ⎥⎥⎟, ⎜──────────────, 1, ⎢⎢   24    24⎥⎥⎟⎥\n",
              "⎢⎜      4            ⎢⎢           ⎥⎥⎟  ⎜      4            ⎢⎢           ⎥⎥⎟⎥\n",
              "⎣⎝     L ⋅ρ          ⎣⎣     1     ⎦⎦⎠  ⎝     L ⋅ρ          ⎣⎣     1     ⎦⎦⎠⎦"
            ],
            "text/latex": "$\\displaystyle \\left[ \\left( \\frac{EI \\left(\\frac{35}{2} - \\frac{\\sqrt{505}}{2}\\right)}{L^{4} \\rho}, \\  1, \\  \\left[ \\left[\\begin{matrix}- \\frac{11}{24} + \\frac{\\sqrt{505}}{24}\\\\1\\end{matrix}\\right]\\right]\\right), \\  \\left( \\frac{EI \\left(\\frac{\\sqrt{505}}{2} + \\frac{35}{2}\\right)}{L^{4} \\rho}, \\  1, \\  \\left[ \\left[\\begin{matrix}- \\frac{\\sqrt{505}}{24} - \\frac{11}{24}\\\\1\\end{matrix}\\right]\\right]\\right)\\right]$"
          },
          "metadata": {},
          "execution_count": 22
        }
      ],
      "source": [
        "#El cálculo de modos (valores propios), es más sencillo con el comando eigenvects()\n",
        "#El resultado es un vector, donde en cada componente:\n",
        "#El primer valor es la frecuencia al cuadrado.\n",
        "#El segundo es el número de veces que se repite.\n",
        "#El tercero es el vector propio.\n",
        "Modes = Maux.eigenvects()\n",
        "Modes"
      ]
    },
    {
      "cell_type": "code",
      "source": [
        "#Primera frecuencia al cuadrado\n",
        "freq1=simplify(Modes[0][0])\n",
        "freq1"
      ],
      "metadata": {
        "colab": {
          "base_uri": "https://localhost:8080/",
          "height": 60
        },
        "id": "V1IVOBvtsyyI",
        "outputId": "2d723362-44fe-48e4-c913-bf78fd9c61f2"
      },
      "execution_count": 23,
      "outputs": [
        {
          "output_type": "execute_result",
          "data": {
            "text/plain": [
              "EI⋅(35 - √505)\n",
              "──────────────\n",
              "       4      \n",
              "    2⋅L ⋅ρ    "
            ],
            "text/latex": "$\\displaystyle \\frac{EI \\left(35 - \\sqrt{505}\\right)}{2 L^{4} \\rho}$"
          },
          "metadata": {},
          "execution_count": 23
        }
      ]
    },
    {
      "cell_type": "code",
      "source": [
        "#Segunda frecuencia al cuadrado\n",
        "if a != 1: #cuando se cumpla que a sea diferente de 1, se imprimirán los resultados\n",
        "    freq2=simplify(Modes[1][0])\n",
        "    freq2\n",
        "else:\n",
        "    freq2 = false\n",
        "N(freq2)"
      ],
      "metadata": {
        "colab": {
          "base_uri": "https://localhost:8080/",
          "height": 55
        },
        "id": "QIXGcBDhv9kF",
        "outputId": "85c0c109-2c6e-42cb-868b-13422b5c65fe"
      },
      "execution_count": 63,
      "outputs": [
        {
          "output_type": "execute_result",
          "data": {
            "text/plain": [
              "28.7361025271221⋅EI\n",
              "───────────────────\n",
              "         4         \n",
              "        L ⋅ρ       "
            ],
            "text/latex": "$\\displaystyle \\frac{28.7361025271221 EI}{L^{4} \\rho}$"
          },
          "metadata": {},
          "execution_count": 63
        }
      ]
    },
    {
      "cell_type": "code",
      "execution_count": 25,
      "metadata": {
        "colab": {
          "base_uri": "https://localhost:8080/",
          "height": 61
        },
        "id": "ranb_JZJ4mKO",
        "outputId": "8970fabb-b736-4330-f287-d96fe715b41a"
      },
      "outputs": [
        {
          "output_type": "execute_result",
          "data": {
            "text/plain": [
              "⎡  11   √505⎤\n",
              "⎢- ── + ────⎥\n",
              "⎢  24    24 ⎥\n",
              "⎢           ⎥\n",
              "⎣     1     ⎦"
            ],
            "text/latex": "$\\displaystyle \\left[\\begin{matrix}- \\frac{11}{24} + \\frac{\\sqrt{505}}{24}\\\\1\\end{matrix}\\right]$"
          },
          "metadata": {},
          "execution_count": 25
        }
      ],
      "source": [
        "#Guardamos el primer vector propio (asociado a la primera frecuencia) en la variable V1\n",
        "V1 = Modes[0][2][0]\n",
        "V1"
      ]
    },
    {
      "cell_type": "code",
      "execution_count": 26,
      "metadata": {
        "id": "rkCDNRYA4mKO",
        "colab": {
          "base_uri": "https://localhost:8080/",
          "height": 58
        },
        "outputId": "3ee42100-e9e4-4bfd-b6e6-33f5b149b3af"
      },
      "outputs": [
        {
          "output_type": "execute_result",
          "data": {
            "text/plain": [
              "⎡      1.0       ⎤\n",
              "⎢                ⎥\n",
              "⎣2.09201281589026⎦"
            ],
            "text/latex": "$\\displaystyle \\left[\\begin{matrix}1.0\\\\2.09201281589026\\end{matrix}\\right]$"
          },
          "metadata": {},
          "execution_count": 26
        }
      ],
      "source": [
        "#Como V1 no está normalizado a la primera componente, multiplicamos V1 por la inversa de la primera componente\n",
        "V1 = V1*1.0/V1[0]\n",
        "N(V1)"
      ]
    },
    {
      "cell_type": "code",
      "execution_count": 27,
      "metadata": {
        "id": "ETLZ4kx44mKO",
        "colab": {
          "base_uri": "https://localhost:8080/",
          "height": 58
        },
        "outputId": "4a854921-e134-43ca-e439-55bbd2179cfe"
      },
      "outputs": [
        {
          "output_type": "execute_result",
          "data": {
            "text/plain": [
              "⎛                ⎡18⋅EI   ⎤                    ⎞\n",
              "⎜⎡-3 ⎤  ⎡12⋅EI⎤  ⎢─────  0⎥  ⎡      1.0       ⎤⎟\n",
              "⎜⎢───⎥, ⎢─────⎥, ⎢   2    ⎥, ⎢                ⎥⎟\n",
              "⎝⎣2⋅L⎦  ⎣  L  ⎦  ⎣  L     ⎦  ⎣2.09201281589026⎦⎠"
            ],
            "text/latex": "$\\displaystyle \\left( \\left[\\begin{matrix}- \\frac{3}{2 L}\\end{matrix}\\right], \\  \\left[\\begin{matrix}\\frac{12 EI}{L}\\end{matrix}\\right], \\  \\left[\\begin{matrix}\\frac{18 EI}{L^{2}} & 0\\end{matrix}\\right], \\  \\left[\\begin{matrix}1.0\\\\2.09201281589026\\end{matrix}\\right]\\right)$"
          },
          "metadata": {},
          "execution_count": 27
        }
      ],
      "source": [
        "#Para obtener las componentes del vector de modos de vibración asociadas al giro,\n",
        "#se utiliza la expresión de los giros u3, donde insertamos los valores de la primera y segunda componetes del vector\n",
        "#Modo 1\n",
        "#Segun el tamaño de la martiz M (a).\n",
        "if a == 1:  #Solo u1.\n",
        "    s=u3.subs([(u1,V1[0])])\n",
        "else:  #u1 y u2.\n",
        "    s=u3.subs([(u1,V1[0]),(u2,V1[1])])\n",
        "simplify(s),Koo, Kot, N(V1)"
      ]
    },
    {
      "cell_type": "code",
      "execution_count": 28,
      "metadata": {
        "id": "u_nhi5AJ4mKP",
        "colab": {
          "base_uri": "https://localhost:8080/",
          "height": 61
        },
        "outputId": "79401e31-1c29-4171-a7fd-38238f6646a6"
      },
      "outputs": [
        {
          "output_type": "execute_result",
          "data": {
            "text/plain": [
              "⎡  √505   11⎤\n",
              "⎢- ──── - ──⎥\n",
              "⎢   24    24⎥\n",
              "⎢           ⎥\n",
              "⎣     1     ⎦"
            ],
            "text/latex": "$\\displaystyle \\left[\\begin{matrix}- \\frac{\\sqrt{505}}{24} - \\frac{11}{24}\\\\1\\end{matrix}\\right]$"
          },
          "metadata": {},
          "execution_count": 28
        }
      ],
      "source": [
        "#Guardamos el segundo vector propio (asociado a la segunda frecuencia) en la variable V2 (sera falso si la matriz es de 1x1)\n",
        "if a != 1:  #Solo u1.\n",
        "    V2 = Modes[1][2][0]\n",
        "else:\n",
        "    V2 = false\n",
        "V2"
      ]
    },
    {
      "cell_type": "code",
      "execution_count": 29,
      "metadata": {
        "id": "lr3QJkdg4mKP",
        "colab": {
          "base_uri": "https://localhost:8080/",
          "height": 68
        },
        "outputId": "d99c4190-5253-49d3-d3ba-42f7ef51cff5"
      },
      "outputs": [
        {
          "output_type": "execute_result",
          "data": {
            "text/plain": [
              "⎡     1     ⎤\n",
              "⎢           ⎥\n",
              "⎢     1     ⎥\n",
              "⎢───────────⎥\n",
              "⎢  √505   11⎥\n",
              "⎢- ──── - ──⎥\n",
              "⎣   24    24⎦"
            ],
            "text/latex": "$\\displaystyle \\left[\\begin{matrix}1\\\\\\frac{1}{- \\frac{\\sqrt{505}}{24} - \\frac{11}{24}}\\end{matrix}\\right]$"
          },
          "metadata": {},
          "execution_count": 29
        }
      ],
      "source": [
        "#Como V2 no está normalizado a la primera componente, multiplicamos V2 por la inversa de la primera componente\n",
        "if a != 1:\n",
        "    V2 = V2*1.0/V2[0]\n",
        "else:\n",
        "    V2 = false\n",
        "V2"
      ]
    },
    {
      "cell_type": "code",
      "execution_count": 64,
      "metadata": {
        "id": "hfqGDJwF4mKP",
        "colab": {
          "base_uri": "https://localhost:8080/",
          "height": 58
        },
        "outputId": "8dc08078-27ee-48b4-ecd9-70b9b765e727"
      },
      "outputs": [
        {
          "output_type": "execute_result",
          "data": {
            "text/plain": [
              "⎛                ⎡18⋅EI   ⎤                      ⎞\n",
              "⎜⎡-3 ⎤  ⎡12⋅EI⎤  ⎢─────  0⎥  ⎡       1.0        ⎤⎟\n",
              "⎜⎢───⎥, ⎢─────⎥, ⎢   2    ⎥, ⎢                  ⎥⎟\n",
              "⎝⎣2⋅L⎦  ⎣  L  ⎦  ⎣  L     ⎦  ⎣-0.717012815890264⎦⎠"
            ],
            "text/latex": "$\\displaystyle \\left( \\left[\\begin{matrix}- \\frac{3}{2 L}\\end{matrix}\\right], \\  \\left[\\begin{matrix}\\frac{12 EI}{L}\\end{matrix}\\right], \\  \\left[\\begin{matrix}\\frac{18 EI}{L^{2}} & 0\\end{matrix}\\right], \\  \\left[\\begin{matrix}1.0\\\\-0.717012815890264\\end{matrix}\\right]\\right)$"
          },
          "metadata": {},
          "execution_count": 64
        }
      ],
      "source": [
        "#Para obtener las componentes del vector de modos de vibración asociadas al giro,\n",
        "#se utiliza la expresión de los giros u3, donde insertamos los valores de la primera y segunda componetes del vector\n",
        "#modo 2\n",
        "if a != 1:\n",
        "    mvg = simplify(u3.subs([(u1,V2[0]),(u2,V2[1])]))\n",
        "else:\n",
        "    mvg = false\n",
        "\n",
        "mvg,Koo, Kot, N(V2)"
      ]
    },
    {
      "cell_type": "code",
      "execution_count": 31,
      "metadata": {
        "id": "914roPt84mKP"
      },
      "outputs": [],
      "source": [
        "#Masa modal del modo 1\n",
        "M1 = V1.transpose()*Mcond*V1\n",
        "M1 = M1[0]"
      ]
    },
    {
      "cell_type": "code",
      "execution_count": 32,
      "metadata": {
        "id": "faEuYM2R4mKP",
        "colab": {
          "base_uri": "https://localhost:8080/",
          "height": 68
        },
        "outputId": "66be8b64-d288-4b6f-c13f-0541b474fa15"
      },
      "outputs": [
        {
          "output_type": "execute_result",
          "data": {
            "text/plain": [
              "⎛                      ⎡     1     ⎤⎞\n",
              "⎜                      ⎢           ⎥⎟\n",
              "⎜                      ⎢     1     ⎥⎟\n",
              "⎜11.7530352436982⋅L⋅ρ, ⎢───────────⎥⎟\n",
              "⎜                      ⎢  11   √505⎥⎟\n",
              "⎜                      ⎢- ── + ────⎥⎟\n",
              "⎝                      ⎣  24    24 ⎦⎠"
            ],
            "text/latex": "$\\displaystyle \\left( 11.7530352436982 L \\rho, \\  \\left[\\begin{matrix}1\\\\\\frac{1}{- \\frac{11}{24} + \\frac{\\sqrt{505}}{24}}\\end{matrix}\\right]\\right)$"
          },
          "metadata": {},
          "execution_count": 32
        }
      ],
      "source": [
        "N(M1), V1"
      ]
    },
    {
      "cell_type": "code",
      "execution_count": 65,
      "metadata": {
        "id": "WmADF2Bs4mKQ",
        "colab": {
          "base_uri": "https://localhost:8080/",
          "height": 68
        },
        "outputId": "9358615d-0fb5-42a3-a774-2af2ae77b8df"
      },
      "outputs": [
        {
          "output_type": "execute_result",
          "data": {
            "text/plain": [
              "⎛                      ⎡     1     ⎤⎞\n",
              "⎜                      ⎢           ⎥⎟\n",
              "⎜                      ⎢     1     ⎥⎟\n",
              "⎜4.02821475630177⋅L⋅ρ, ⎢───────────⎥⎟\n",
              "⎜                      ⎢  √505   11⎥⎟\n",
              "⎜                      ⎢- ──── - ──⎥⎟\n",
              "⎝                      ⎣   24    24⎦⎠"
            ],
            "text/latex": "$\\displaystyle \\left( 4.02821475630177 L \\rho, \\  \\left[\\begin{matrix}1\\\\\\frac{1}{- \\frac{\\sqrt{505}}{24} - \\frac{11}{24}}\\end{matrix}\\right]\\right)$"
          },
          "metadata": {},
          "execution_count": 65
        }
      ],
      "source": [
        "#Masa modal del modo 2\n",
        "if a != 1:\n",
        "    M2 = V2.transpose()*Mcond*V2\n",
        "    M2 = M2[0]\n",
        "else:\n",
        "    M2 = false\n",
        "N(M2),V2"
      ]
    },
    {
      "cell_type": "code",
      "execution_count": 34,
      "metadata": {
        "id": "AvD4LupF4mKQ"
      },
      "outputs": [],
      "source": [
        "#Rigidez modal asociada al modo 1\n",
        "K1 = V1.transpose()*Kcond*V1\n",
        "K1 = K1[0]"
      ]
    },
    {
      "cell_type": "code",
      "execution_count": 35,
      "metadata": {
        "id": "N5hBn64R4mKQ",
        "colab": {
          "base_uri": "https://localhost:8080/",
          "height": 52
        },
        "outputId": "ea90380f-9697-484c-e15b-ed9ae9205d3d"
      },
      "outputs": [
        {
          "output_type": "execute_result",
          "data": {
            "text/plain": [
              "73.619807761646⋅EI\n",
              "──────────────────\n",
              "         3        \n",
              "        L         "
            ],
            "text/latex": "$\\displaystyle \\frac{73.619807761646 EI}{L^{3}}$"
          },
          "metadata": {},
          "execution_count": 35
        }
      ],
      "source": [
        "N(K1)"
      ]
    },
    {
      "cell_type": "code",
      "execution_count": 66,
      "metadata": {
        "id": "EtmMOVLG4mKQ",
        "colab": {
          "base_uri": "https://localhost:8080/",
          "height": 52
        },
        "outputId": "34cc576e-96ba-4218-ea17-3a20b0229d2c"
      },
      "outputs": [
        {
          "output_type": "execute_result",
          "data": {
            "text/plain": [
              "115.755192238354⋅EI\n",
              "───────────────────\n",
              "          3        \n",
              "         L         "
            ],
            "text/latex": "$\\displaystyle \\frac{115.755192238354 EI}{L^{3}}$"
          },
          "metadata": {},
          "execution_count": 66
        }
      ],
      "source": [
        "#Rigidez modal asociada al modo 2\n",
        "if a != 1:\n",
        "    K2 = V2.transpose()*Kcond*V2\n",
        "    K2 = K2[0]\n",
        "else:\n",
        "    K2 = false\n",
        "N(K2)"
      ]
    },
    {
      "cell_type": "code",
      "execution_count": 37,
      "metadata": {
        "id": "6qAYDwVV4mKR"
      },
      "outputs": [],
      "source": [
        "#Comprobación de que los modos son ortogonales con respecto a la matriz de rigidez\n",
        "if a == 1:  #Solo u1.\n",
        "    pass\n",
        "else:\n",
        "    simplify(V1.transpose()*Kcond*V2)"
      ]
    },
    {
      "cell_type": "code",
      "execution_count": 38,
      "metadata": {
        "id": "K12adHBu4mKR"
      },
      "outputs": [],
      "source": [
        "#Comprobación de que los modos son ortogonales con respecto a la matriz de masas\n",
        "if a != 1:\n",
        "    simplify(V1.transpose()*Mcond*V2)"
      ]
    },
    {
      "cell_type": "code",
      "execution_count": 39,
      "metadata": {
        "id": "MxUK3OMH4mKR"
      },
      "outputs": [],
      "source": [
        "#Problema de vibraciones libres, condiciones iniciales\n",
        "if a == 1:  #Solo u1.\n",
        "    Uo = Matrix([[1]]) #Desplazamientos iniciales\n",
        "    Vo = Matrix([[0]]) #Velocidades iniciales\n",
        "else:\n",
        "    Uo = Matrix([[1],[0]]) #Desplazamientos iniciales\n",
        "    Vo = Matrix([[0],[0]]) #Velocidades iniciales"
      ]
    },
    {
      "cell_type": "code",
      "execution_count": 40,
      "metadata": {
        "id": "ZXqaof4q4mKS",
        "colab": {
          "base_uri": "https://localhost:8080/",
          "height": 47
        },
        "outputId": "f6eacec4-eab1-47f7-e0fa-2865df12b2ae"
      },
      "outputs": [
        {
          "output_type": "execute_result",
          "data": {
            "text/plain": [
              "⎡1   11⋅√505⎤\n",
              "⎢─ - ───────⎥\n",
              "⎣2     1010 ⎦"
            ],
            "text/latex": "$\\displaystyle \\left[\\begin{matrix}\\frac{1}{2} - \\frac{11 \\sqrt{505}}{1010}\\end{matrix}\\right]$"
          },
          "metadata": {},
          "execution_count": 40
        }
      ],
      "source": [
        "#Condicion inicial de desplazamiento asociada al modo 1\n",
        "q1o = V1.transpose()*Mcond*Uo/M1\n",
        "simplify(q1o)"
      ]
    },
    {
      "cell_type": "code",
      "execution_count": 41,
      "metadata": {
        "id": "8p8cY6Z84mKS",
        "colab": {
          "base_uri": "https://localhost:8080/",
          "height": 47
        },
        "outputId": "6d9af773-d79e-4ec1-dbf8-ed28673cd436"
      },
      "outputs": [
        {
          "output_type": "execute_result",
          "data": {
            "text/plain": [
              "⎡11⋅√505   1⎤\n",
              "⎢─────── + ─⎥\n",
              "⎣  1010    2⎦"
            ],
            "text/latex": "$\\displaystyle \\left[\\begin{matrix}\\frac{11 \\sqrt{505}}{1010} + \\frac{1}{2}\\end{matrix}\\right]$"
          },
          "metadata": {},
          "execution_count": 41
        }
      ],
      "source": [
        "#Condicion inicial de desplazamiento asociada al modo 2\n",
        "if a != 1:\n",
        "    q2o=V2.transpose()*Mcond*Uo/M2\n",
        "else:\n",
        "    q2o=false\n",
        "simplify(q2o)"
      ]
    },
    {
      "cell_type": "code",
      "execution_count": 42,
      "metadata": {
        "id": "_s6cjp2e4mKS",
        "colab": {
          "base_uri": "https://localhost:8080/",
          "height": 38
        },
        "outputId": "45177809-1856-4535-845e-03b561b1614d"
      },
      "outputs": [
        {
          "output_type": "execute_result",
          "data": {
            "text/plain": [
              "[0]"
            ],
            "text/latex": "$\\displaystyle \\left[\\begin{matrix}0\\end{matrix}\\right]$"
          },
          "metadata": {},
          "execution_count": 42
        }
      ],
      "source": [
        "#Condicion inicial de velocidad asociada al modo 1\n",
        "qv1o=V1.transpose()*Mcond*Vo/M1\n",
        "simplify(qv1o)"
      ]
    },
    {
      "cell_type": "code",
      "execution_count": 43,
      "metadata": {
        "id": "R6--R9uc4mKS",
        "colab": {
          "base_uri": "https://localhost:8080/",
          "height": 38
        },
        "outputId": "0e200e81-9728-49f1-8e36-63bc2f4fb119"
      },
      "outputs": [
        {
          "output_type": "execute_result",
          "data": {
            "text/plain": [
              "[0]"
            ],
            "text/latex": "$\\displaystyle \\left[\\begin{matrix}0\\end{matrix}\\right]$"
          },
          "metadata": {},
          "execution_count": 43
        }
      ],
      "source": [
        "#Condicion inicial de velocidad asociada al modo 2\n",
        "if a != 1:\n",
        "    qv2o=V2.transpose()*Mcond*Vo/M2\n",
        "else:\n",
        "    qv2o=false\n",
        "simplify(qv2o)"
      ]
    },
    {
      "cell_type": "code",
      "execution_count": 44,
      "metadata": {
        "id": "4noHmeHP4mKS",
        "colab": {
          "base_uri": "https://localhost:8080/",
          "height": 88
        },
        "outputId": "e08fc350-3b7f-4bba-ee88-7bebcf87ad6a"
      },
      "outputs": [
        {
          "output_type": "execute_result",
          "data": {
            "text/plain": [
              "⎡                                                                             \n",
              "⎢                                                                             \n",
              "⎢             ⎛     ⎛          ______    ________              ⎞              \n",
              "⎢             ⎜     ⎜         ╱  EI     ╱      2    ___________⎟              \n",
              "⎢             ⎜     ⎜√2⋅t⋅   ╱  ──── ⋅╲╱  1 - ψ  ⋅╲╱ 35 - √505 ⎟              \n",
              "⎢             ⎜     ⎜       ╱    4                             ⎟      ________\n",
              "⎢           2 ⎜     ⎜     ╲╱    L ⋅ρ                           ⎟     ╱      2 \n",
              "⎢(11 - √505) ⋅⎜ψ⋅sin⎜──────────────────────────────────────────⎟ + ╲╱  1 - ψ  \n",
              "⎢             ⎝     ⎝                    2                     ⎠              \n",
              "⎢─────────────────────────────────────────────────────────────────────────────\n",
              "⎢                                                                    ________ \n",
              "⎢                                                                   ╱      2  \n",
              "⎣                                                                 ╲╱  1 - ψ  ⋅\n",
              "\n",
              "                                                                ______        \n",
              "                                                               ╱  EI     _____\n",
              "    ⎛          ______    ________              ⎞⎞  -√2⋅ψ⋅t⋅   ╱  ──── ⋅╲╱ 35 -\n",
              "    ⎜         ╱  EI     ╱      2    ___________⎟⎟            ╱    4           \n",
              "    ⎜√2⋅t⋅   ╱  ──── ⋅╲╱  1 - ψ  ⋅╲╱ 35 - √505 ⎟⎟          ╲╱    L ⋅ρ         \n",
              "    ⎜       ╱    4                             ⎟⎟  ───────────────────────────\n",
              "    ⎜     ╲╱    L ⋅ρ                           ⎟⎟                  2          \n",
              "⋅cos⎜──────────────────────────────────────────⎟⎟⋅ℯ                           \n",
              "    ⎝                    2                     ⎠⎠                             \n",
              "──────────────────────────────────────────────────────────────────────────────\n",
              "                                                                              \n",
              "⎛           2      ⎞                                                          \n",
              "⎝(11 - √505)  + 384⎠                                                          \n",
              "\n",
              "       ⎤\n",
              "______ ⎥\n",
              " √505  ⎥\n",
              "       ⎥\n",
              "       ⎥\n",
              "───────⎥\n",
              "       ⎥\n",
              "       ⎥\n",
              "       ⎥\n",
              "───────⎥\n",
              "       ⎥\n",
              "       ⎥\n",
              "       ⎦"
            ],
            "text/latex": "$\\displaystyle \\left[\\begin{matrix}\\frac{\\left(11 - \\sqrt{505}\\right)^{2} \\left(\\psi \\sin{\\left(\\frac{\\sqrt{2} t \\sqrt{\\frac{EI}{L^{4} \\rho}} \\sqrt{1 - \\psi^{2}} \\sqrt{35 - \\sqrt{505}}}{2} \\right)} + \\sqrt{1 - \\psi^{2}} \\cos{\\left(\\frac{\\sqrt{2} t \\sqrt{\\frac{EI}{L^{4} \\rho}} \\sqrt{1 - \\psi^{2}} \\sqrt{35 - \\sqrt{505}}}{2} \\right)}\\right) e^{- \\frac{\\sqrt{2} \\psi t \\sqrt{\\frac{EI}{L^{4} \\rho}} \\sqrt{35 - \\sqrt{505}}}{2}}}{\\sqrt{1 - \\psi^{2}} \\left(\\left(11 - \\sqrt{505}\\right)^{2} + 384\\right)}\\end{matrix}\\right]$"
          },
          "metadata": {},
          "execution_count": 44
        }
      ],
      "source": [
        "#Frecuencia del modo 1, es la raiz cuadrada de w1^2, también se calcula la frecuencia amortiguada\n",
        "omega1  = sqrt(freq1)\n",
        "omega1d = omega1*sqrt(1-psi**2)\n",
        "\n",
        "#Respuesta del primer modo\n",
        "q1 = exp(-psi*omega1*t)*(q1o*cos(omega1d*t)+(psi*q1o*omega1+qv1o)/omega1d*sin(omega1d*t))\n",
        "simplify(q1)"
      ]
    },
    {
      "cell_type": "code",
      "execution_count": 45,
      "metadata": {
        "id": "ezhhVVYa4mKX"
      },
      "outputs": [],
      "source": [
        "#Frecuencia del modo 2, es la raiz cuadrada de w1^2, también se calcula la frecuencia amortiguada\n",
        "if a == 1:  #Solo u1.\n",
        "    pass\n",
        "else:\n",
        "    omega2=sqrt(freq2)\n",
        "    omega2d = omega2*sqrt(1-psi**2)\n",
        "    #Respuesta del segundo modo\n",
        "    q2=exp(-psi*omega2*t)*(q2o*cos(omega2d*t)+(psi*q2o*omega2+qv2o)/omega2d*sin(omega2d*t))\n",
        "    simplify(q2)"
      ]
    },
    {
      "cell_type": "code",
      "execution_count": 46,
      "metadata": {
        "id": "q3Wlc5ui4mKY",
        "colab": {
          "base_uri": "https://localhost:8080/",
          "height": 185
        },
        "outputId": "f9c723df-27c9-4187-a516-16558c1ddd29"
      },
      "outputs": [
        {
          "output_type": "execute_result",
          "data": {
            "text/plain": [
              "⎡ ⎛                                                                           \n",
              "⎢ ⎜                                                                           \n",
              "⎢ ⎜                                  ⎛     ⎛          ______    ________      \n",
              "⎢ ⎜                                  ⎜     ⎜         ╱  EI     ╱      2    ___\n",
              "⎢ ⎜                                  ⎜     ⎜√2⋅t⋅   ╱  ──── ⋅╲╱  1 - ψ  ⋅╲╱ 35\n",
              "⎢ ⎜                                  ⎜     ⎜       ╱    4                     \n",
              "⎢ ⎜           2 ⎛                 2⎞ ⎜     ⎜     ╲╱    L ⋅ρ                   \n",
              "⎢ ⎜(11 - √505) ⋅⎝384 + (11 + √505) ⎠⋅⎜ψ⋅sin⎜──────────────────────────────────\n",
              "⎢ ⎝                                  ⎝     ⎝                    2             \n",
              "⎢ ────────────────────────────────────────────────────────────────────────────\n",
              "⎢                                                                             \n",
              "⎢                                                                             \n",
              "⎢                                                                             \n",
              "⎢                                                                             \n",
              "⎢   ⎛                                                                         \n",
              "⎢   ⎜                                                                         \n",
              "⎢   ⎜                                   ⎛     ⎛          ______    ________   \n",
              "⎢   ⎜                                   ⎜     ⎜         ╱  EI     ╱      2    \n",
              "⎢   ⎜                                   ⎜     ⎜√2⋅t⋅   ╱  ──── ⋅╲╱  1 - ψ  ⋅╲╱\n",
              "⎢   ⎜                                   ⎜     ⎜       ╱    4                  \n",
              "⎢   ⎜              ⎛                 2⎞ ⎜     ⎜     ╲╱    L ⋅ρ                \n",
              "⎢24⋅⎜- (11 - √505)⋅⎝384 + (11 + √505) ⎠⋅⎜ψ⋅sin⎜───────────────────────────────\n",
              "⎢   ⎝                                   ⎝     ⎝                    2          \n",
              "⎢─────────────────────────────────────────────────────────────────────────────\n",
              "⎢                                                                             \n",
              "⎢                                                                             \n",
              "⎣                                                                             \n",
              "\n",
              "                                                                              \n",
              "                                                                              \n",
              "        ⎞                  ⎛          ______    ________              ⎞⎞  √2⋅ψ\n",
              "________⎟                  ⎜         ╱  EI     ╱      2    ___________⎟⎟      \n",
              " - √505 ⎟                  ⎜√2⋅t⋅   ╱  ──── ⋅╲╱  1 - ψ  ⋅╲╱ 35 - √505 ⎟⎟      \n",
              "        ⎟      ________    ⎜       ╱    4                             ⎟⎟  ────\n",
              "        ⎟     ╱      2     ⎜     ╲╱    L ⋅ρ                           ⎟⎟      \n",
              "────────⎟ + ╲╱  1 - ψ  ⋅cos⎜──────────────────────────────────────────⎟⎟⋅ℯ    \n",
              "        ⎠                  ⎝                    2                     ⎠⎠      \n",
              "──────────────────────────────────────────────────────────────────────────────\n",
              "                                                                              \n",
              "                                                                              \n",
              "                                                                              \n",
              "                                                                              \n",
              "                                                                              \n",
              "                                                                              \n",
              "           ⎞                  ⎛          ______    ________              ⎞⎞  √\n",
              "___________⎟                  ⎜         ╱  EI     ╱      2    ___________⎟⎟   \n",
              " 35 - √505 ⎟                  ⎜√2⋅t⋅   ╱  ──── ⋅╲╱  1 - ψ  ⋅╲╱ 35 - √505 ⎟⎟   \n",
              "           ⎟      ________    ⎜       ╱    4                             ⎟⎟  ─\n",
              "           ⎟     ╱      2     ⎜     ╲╱    L ⋅ρ                           ⎟⎟   \n",
              "───────────⎟ + ╲╱  1 - ψ  ⋅cos⎜──────────────────────────────────────────⎟⎟⋅ℯ \n",
              "           ⎠                  ⎝                    2                     ⎠⎠   \n",
              "──────────────────────────────────────────────────────────────────────────────\n",
              "                                                                              \n",
              "                                                                              \n",
              "                                                                              \n",
              "\n",
              "        ______                                                                \n",
              "       ╱  EI     ___________                                                  \n",
              "⋅t⋅   ╱  ──── ⋅╲╱ √505 + 35                 ⎛     ⎛          ______    _______\n",
              "     ╱    4                                 ⎜     ⎜         ╱  EI     ╱      2\n",
              "   ╲╱    L ⋅ρ                               ⎜     ⎜√2⋅t⋅   ╱  ──── ⋅╲╱  1 - ψ \n",
              "────────────────────────────                ⎜     ⎜       ╱    4              \n",
              "           2                              2 ⎜     ⎜     ╲╱    L ⋅ρ            \n",
              "                             + (11 + √505) ⋅⎜ψ⋅sin⎜───────────────────────────\n",
              "                                            ⎝     ⎝                    2      \n",
              "──────────────────────────────────────────────────────────────────────────────\n",
              "                                 ________                                     \n",
              "                                ╱      2  ⎛                 2⎞ ⎛           2  \n",
              "                              ╲╱  1 - ψ  ⋅⎝384 + (11 + √505) ⎠⋅⎝(11 - √505)  +\n",
              "                                                                              \n",
              "           ______                                                             \n",
              "          ╱  EI     ___________                                               \n",
              "2⋅ψ⋅t⋅   ╱  ──── ⋅╲╱ √505 + 35                ⎛     ⎛          ______    _____\n",
              "        ╱    4                                ⎜     ⎜         ╱  EI     ╱     \n",
              "      ╲╱    L ⋅ρ                              ⎜     ⎜√2⋅t⋅   ╱  ──── ⋅╲╱  1 - \n",
              "───────────────────────────────               ⎜     ⎜       ╱    4            \n",
              "              2                               ⎜     ⎜     ╲╱    L ⋅ρ          \n",
              "                                - (11 + √505)⋅⎜ψ⋅sin⎜─────────────────────────\n",
              "                                              ⎝     ⎝                    2    \n",
              "──────────────────────────────────────────────────────────────────────────────\n",
              "                                 ________                                     \n",
              "                                ╱      2  ⎛                 2⎞ ⎛           2  \n",
              "                              ╲╱  1 - ψ  ⋅⎝384 + (11 + √505) ⎠⋅⎝(11 - √505)  +\n",
              "\n",
              "                                                                              \n",
              "                                                                              \n",
              "_              ⎞                  ⎛          ______    ________              ⎞\n",
              "    ___________⎟                  ⎜         ╱  EI     ╱      2    ___________⎟\n",
              " ⋅╲╱ √505 + 35 ⎟                  ⎜√2⋅t⋅   ╱  ──── ⋅╲╱  1 - ψ  ⋅╲╱ √505 + 35 ⎟\n",
              "               ⎟      ________    ⎜       ╱    4                             ⎟\n",
              "               ⎟     ╱      2     ⎜     ╲╱    L ⋅ρ                           ⎟\n",
              "───────────────⎟ + ╲╱  1 - ψ  ⋅cos⎜──────────────────────────────────────────⎟\n",
              "               ⎠                  ⎝                    2                     ⎠\n",
              "──────────────────────────────────────────────────────────────────────────────\n",
              "                                                                              \n",
              "    ⎞                                                                         \n",
              " 384⎠                                                                         \n",
              "                                                                              \n",
              "                                                                              \n",
              "                                                                              \n",
              "___              ⎞                  ⎛          ______    ________             \n",
              " 2    ___________⎟                  ⎜         ╱  EI     ╱      2    __________\n",
              "ψ  ⋅╲╱ √505 + 35 ⎟                  ⎜√2⋅t⋅   ╱  ──── ⋅╲╱  1 - ψ  ⋅╲╱ √505 + 35\n",
              "                 ⎟      ________    ⎜       ╱    4                            \n",
              "                 ⎟     ╱      2     ⎜     ╲╱    L ⋅ρ                          \n",
              "─────────────────⎟ + ╲╱  1 - ψ  ⋅cos⎜─────────────────────────────────────────\n",
              "                 ⎠                  ⎝                    2                    \n",
              "──────────────────────────────────────────────────────────────────────────────\n",
              "                                                                              \n",
              "    ⎞                                                                         \n",
              " 384⎠                                                                         \n",
              "\n",
              "                                    ______              ⎞               ______\n",
              "                                   ╱  EI     ___________⎟              ╱  EI  \n",
              "⎞                       √2⋅ψ⋅t⋅   ╱  ──── ⋅╲╱ 35 - √505 ⎟  -√2⋅ψ⋅t⋅   ╱  ──── \n",
              "⎟                                ╱    4                 ⎟            ╱    4   \n",
              "⎟                              ╲╱    L ⋅ρ               ⎟          ╲╱    L ⋅ρ \n",
              "⎟                       ────────────────────────────────⎟  ───────────────────\n",
              "⎟ ⎛           2      ⎞                 2                ⎟                     \n",
              "⎟⋅⎝(11 - √505)  + 384⎠⋅ℯ                                ⎟⋅ℯ                   \n",
              "⎠                                                       ⎠                     \n",
              "──────────────────────────────────────────────────────────────────────────────\n",
              "                                                                              \n",
              "                                                                              \n",
              "                                                                              \n",
              "                                                                              \n",
              "                                      ______              ⎞               ____\n",
              "                                     ╱  EI     ___________⎟              ╱  EI\n",
              " ⎞⎞                       √2⋅ψ⋅t⋅   ╱  ──── ⋅╲╱ 35 - √505 ⎟  -√2⋅ψ⋅t⋅   ╱  ───\n",
              "_⎟⎟                                ╱    4                 ⎟            ╱    4 \n",
              " ⎟⎟                              ╲╱    L ⋅ρ               ⎟          ╲╱    L ⋅\n",
              " ⎟⎟                       ────────────────────────────────⎟  ─────────────────\n",
              " ⎟⎟ ⎛           2      ⎞                 2                ⎟                   \n",
              "─⎟⎟⋅⎝(11 - √505)  + 384⎠⋅ℯ                                ⎟⋅ℯ                 \n",
              " ⎠⎠                                                       ⎠                   \n",
              "──────────────────────────────────────────────────────────────────────────────\n",
              "                                                                              \n",
              "                                                                              \n",
              "                                                                              \n",
              "\n",
              "                                   ⎤\n",
              " ⎛  ___________     ___________⎞   ⎥\n",
              "⋅⎝╲╱ 35 - √505  + ╲╱ √505 + 35 ⎠   ⎥\n",
              "                                   ⎥\n",
              "                                   ⎥\n",
              "─────────────────────────────────  ⎥\n",
              "      2                            ⎥\n",
              "                                   ⎥\n",
              "                                   ⎥\n",
              "─────────────────────────────────  ⎥\n",
              "                                   ⎥\n",
              "                                   ⎥\n",
              "                                   ⎥\n",
              "                                   ⎥\n",
              "__                                 ⎥\n",
              "   ⎛  ___________     ___________⎞ ⎥\n",
              "─ ⋅⎝╲╱ 35 - √505  + ╲╱ √505 + 35 ⎠ ⎥\n",
              "                                   ⎥\n",
              "ρ                                  ⎥\n",
              "───────────────────────────────────⎥\n",
              "        2                          ⎥\n",
              "                                   ⎥\n",
              "                                   ⎥\n",
              "───────────────────────────────────⎥\n",
              "                                   ⎥\n",
              "                                   ⎥\n",
              "                                   ⎦"
            ],
            "text/latex": "$\\displaystyle \\left[\\begin{matrix}\\frac{\\left(\\left(11 - \\sqrt{505}\\right)^{2} \\cdot \\left(384 + \\left(11 + \\sqrt{505}\\right)^{2}\\right) \\left(\\psi \\sin{\\left(\\frac{\\sqrt{2} t \\sqrt{\\frac{EI}{L^{4} \\rho}} \\sqrt{1 - \\psi^{2}} \\sqrt{35 - \\sqrt{505}}}{2} \\right)} + \\sqrt{1 - \\psi^{2}} \\cos{\\left(\\frac{\\sqrt{2} t \\sqrt{\\frac{EI}{L^{4} \\rho}} \\sqrt{1 - \\psi^{2}} \\sqrt{35 - \\sqrt{505}}}{2} \\right)}\\right) e^{\\frac{\\sqrt{2} \\psi t \\sqrt{\\frac{EI}{L^{4} \\rho}} \\sqrt{\\sqrt{505} + 35}}{2}} + \\left(11 + \\sqrt{505}\\right)^{2} \\left(\\psi \\sin{\\left(\\frac{\\sqrt{2} t \\sqrt{\\frac{EI}{L^{4} \\rho}} \\sqrt{1 - \\psi^{2}} \\sqrt{\\sqrt{505} + 35}}{2} \\right)} + \\sqrt{1 - \\psi^{2}} \\cos{\\left(\\frac{\\sqrt{2} t \\sqrt{\\frac{EI}{L^{4} \\rho}} \\sqrt{1 - \\psi^{2}} \\sqrt{\\sqrt{505} + 35}}{2} \\right)}\\right) \\left(\\left(11 - \\sqrt{505}\\right)^{2} + 384\\right) e^{\\frac{\\sqrt{2} \\psi t \\sqrt{\\frac{EI}{L^{4} \\rho}} \\sqrt{35 - \\sqrt{505}}}{2}}\\right) e^{- \\frac{\\sqrt{2} \\psi t \\sqrt{\\frac{EI}{L^{4} \\rho}} \\left(\\sqrt{35 - \\sqrt{505}} + \\sqrt{\\sqrt{505} + 35}\\right)}{2}}}{\\sqrt{1 - \\psi^{2}} \\cdot \\left(384 + \\left(11 + \\sqrt{505}\\right)^{2}\\right) \\left(\\left(11 - \\sqrt{505}\\right)^{2} + 384\\right)}\\\\\\frac{24 \\left(- \\left(11 - \\sqrt{505}\\right) \\left(384 + \\left(11 + \\sqrt{505}\\right)^{2}\\right) \\left(\\psi \\sin{\\left(\\frac{\\sqrt{2} t \\sqrt{\\frac{EI}{L^{4} \\rho}} \\sqrt{1 - \\psi^{2}} \\sqrt{35 - \\sqrt{505}}}{2} \\right)} + \\sqrt{1 - \\psi^{2}} \\cos{\\left(\\frac{\\sqrt{2} t \\sqrt{\\frac{EI}{L^{4} \\rho}} \\sqrt{1 - \\psi^{2}} \\sqrt{35 - \\sqrt{505}}}{2} \\right)}\\right) e^{\\frac{\\sqrt{2} \\psi t \\sqrt{\\frac{EI}{L^{4} \\rho}} \\sqrt{\\sqrt{505} + 35}}{2}} - \\left(11 + \\sqrt{505}\\right) \\left(\\psi \\sin{\\left(\\frac{\\sqrt{2} t \\sqrt{\\frac{EI}{L^{4} \\rho}} \\sqrt{1 - \\psi^{2}} \\sqrt{\\sqrt{505} + 35}}{2} \\right)} + \\sqrt{1 - \\psi^{2}} \\cos{\\left(\\frac{\\sqrt{2} t \\sqrt{\\frac{EI}{L^{4} \\rho}} \\sqrt{1 - \\psi^{2}} \\sqrt{\\sqrt{505} + 35}}{2} \\right)}\\right) \\left(\\left(11 - \\sqrt{505}\\right)^{2} + 384\\right) e^{\\frac{\\sqrt{2} \\psi t \\sqrt{\\frac{EI}{L^{4} \\rho}} \\sqrt{35 - \\sqrt{505}}}{2}}\\right) e^{- \\frac{\\sqrt{2} \\psi t \\sqrt{\\frac{EI}{L^{4} \\rho}} \\left(\\sqrt{35 - \\sqrt{505}} + \\sqrt{\\sqrt{505} + 35}\\right)}{2}}}{\\sqrt{1 - \\psi^{2}} \\cdot \\left(384 + \\left(11 + \\sqrt{505}\\right)^{2}\\right) \\left(\\left(11 - \\sqrt{505}\\right)^{2} + 384\\right)}\\end{matrix}\\right]$"
          },
          "metadata": {},
          "execution_count": 46
        }
      ],
      "source": [
        "#Respuesta total, suma de las respuestas de los modos (ver principio de descomposicón modal)\n",
        "if a == 1:  #Solo u1.\n",
        "    u = V1*q1\n",
        "else:\n",
        "    u = V1*q1 + V2*q2\n",
        "simplify(u)"
      ]
    },
    {
      "cell_type": "code",
      "execution_count": 47,
      "metadata": {
        "id": "4UVArGIV4mKY",
        "colab": {
          "base_uri": "https://localhost:8080/",
          "height": 39
        },
        "outputId": "8b942c17-f4f0-47fd-fb78-35ab7943863a"
      },
      "outputs": [
        {
          "output_type": "execute_result",
          "data": {
            "text/plain": [
              "{EI: 1, L: 1, ψ: 0.1, ρ: 1, t: t}"
            ],
            "text/latex": "$\\displaystyle \\left\\{ EI : 1, \\  L : 1, \\  \\psi : 0.1, \\  \\rho : 1, \\  t : t\\right\\}$"
          },
          "metadata": {},
          "execution_count": 47
        }
      ],
      "source": [
        "#En la fórmula, se ingresan los valores de parámetros:\n",
        "val_ini =     {EI:1,\n",
        "               psi:0.1,\n",
        "               L:1,\n",
        "               rho:1,\n",
        "               t:t}\n",
        "val_ini"
      ]
    },
    {
      "cell_type": "code",
      "execution_count": 48,
      "metadata": {
        "id": "NqLSdPNF4mKY",
        "colab": {
          "base_uri": "https://localhost:8080/",
          "height": 179
        },
        "outputId": "3a57da7e-edb7-482f-beb1-4232d06edf36"
      },
      "outputs": [
        {
          "output_type": "execute_result",
          "data": {
            "text/plain": [
              "⎡⎛                     ⎛                        ___________⎞        ⎛         \n",
              "⎢⎜0.301511344577764⋅sin⎝0.49749371855331⋅√2⋅t⋅╲╱ 35 - √505 ⎠   3⋅cos⎝0.4974937\n",
              "⎢⎜────────────────────────────────────────────────────────── + ───────────────\n",
              "⎢⎜                              2                                             \n",
              "⎢⎜                    3 + ──────────────                                   3 +\n",
              "⎢⎜                                     2                                      \n",
              "⎢⎜                        ⎛  11   √505⎞                                       \n",
              "⎢⎜                        ⎜- ── + ────⎟                                       \n",
              "⎢⎝                        ⎝  24    24 ⎠                                       \n",
              "⎢                                                                             \n",
              "⎢⎛                     ⎛                        ___________⎞        ⎛         \n",
              "⎢⎜0.301511344577764⋅sin⎝0.49749371855331⋅√2⋅t⋅╲╱ 35 - √505 ⎠   3⋅cos⎝0.4974937\n",
              "⎢⎜────────────────────────────────────────────────────────── + ───────────────\n",
              "⎢⎜                              2                                             \n",
              "⎢⎜                    3 + ──────────────                                   3 +\n",
              "⎢⎜                                     2                                      \n",
              "⎢⎜                        ⎛  11   √505⎞                                       \n",
              "⎢⎜                        ⎜- ── + ────⎟                                       \n",
              "⎢⎝                        ⎝  24    24 ⎠                                       \n",
              "⎢─────────────────────────────────────────────────────────────────────────────\n",
              "⎢                                                              11   √505      \n",
              "⎢                                                            - ── + ────      \n",
              "⎣                                                              24    24       \n",
              "\n",
              "               ___________⎞⎞               ___________   ⎛                    \n",
              "1855331⋅√2⋅t⋅╲╱ 35 - √505 ⎠⎟  -0.05⋅√2⋅t⋅╲╱ 35 - √505    ⎜0.301511344577764⋅si\n",
              "───────────────────────────⎟⋅ℯ                         + ⎜────────────────────\n",
              "       2                   ⎟                             ⎜                    \n",
              " ──────────────            ⎟                             ⎜                    \n",
              "              2            ⎟                             ⎜                    \n",
              " ⎛  11   √505⎞             ⎟                             ⎜                    \n",
              " ⎜- ── + ────⎟             ⎟                             ⎜                    \n",
              " ⎝  24    24 ⎠             ⎠                             ⎝                    \n",
              "                                                                              \n",
              "               ___________⎞⎞               ___________   ⎛                    \n",
              "1855331⋅√2⋅t⋅╲╱ 35 - √505 ⎠⎟  -0.05⋅√2⋅t⋅╲╱ 35 - √505    ⎜0.301511344577764⋅si\n",
              "───────────────────────────⎟⋅ℯ                           ⎜────────────────────\n",
              "       2                   ⎟                             ⎜                    \n",
              " ──────────────            ⎟                             ⎜                    \n",
              "              2            ⎟                             ⎜                    \n",
              " ⎛  11   √505⎞             ⎟                             ⎜                    \n",
              " ⎜- ── + ────⎟             ⎟                             ⎜                    \n",
              " ⎝  24    24 ⎠             ⎠                             ⎝                    \n",
              "────────────────────────────────────────────────────── + ─────────────────────\n",
              "                                                                              \n",
              "                                                                              \n",
              "                                                                              \n",
              "\n",
              " ⎛                        ___________⎞        ⎛                        _______\n",
              "n⎝0.49749371855331⋅√2⋅t⋅╲╱ √505 + 35 ⎠   3⋅cos⎝0.49749371855331⋅√2⋅t⋅╲╱ √505 +\n",
              "────────────────────────────────────── + ─────────────────────────────────────\n",
              "      2                                                    2                  \n",
              "────────────── + 3                                   ────────────── + 3       \n",
              "             2                                                    2           \n",
              "⎛  √505   11⎞                                        ⎛  √505   11⎞            \n",
              "⎜- ──── - ──⎟                                        ⎜- ──── - ──⎟            \n",
              "⎝   24    24⎠                                        ⎝   24    24⎠            \n",
              "                                                                              \n",
              " ⎛                        ___________⎞        ⎛                        _______\n",
              "n⎝0.49749371855331⋅√2⋅t⋅╲╱ √505 + 35 ⎠   3⋅cos⎝0.49749371855331⋅√2⋅t⋅╲╱ √505 +\n",
              "────────────────────────────────────── + ─────────────────────────────────────\n",
              "      2                                                    2                  \n",
              "────────────── + 3                                   ────────────── + 3       \n",
              "             2                                                    2           \n",
              "⎛  √505   11⎞                                        ⎛  √505   11⎞            \n",
              "⎜- ──── - ──⎟                                        ⎜- ──── - ──⎟            \n",
              "⎝   24    24⎠                                        ⎝   24    24⎠            \n",
              "──────────────────────────────────────────────────────────────────────────────\n",
              "                                         √505   11                            \n",
              "                                       - ──── - ──                            \n",
              "                                          24    24                            \n",
              "\n",
              "____⎞⎞               ___________⎤\n",
              " 35 ⎠⎟  -0.05⋅√2⋅t⋅╲╱ √505 + 35 ⎥\n",
              "─────⎟⋅ℯ                        ⎥\n",
              "     ⎟                          ⎥\n",
              "     ⎟                          ⎥\n",
              "     ⎟                          ⎥\n",
              "     ⎟                          ⎥\n",
              "     ⎟                          ⎥\n",
              "     ⎠                          ⎥\n",
              "                                ⎥\n",
              "____⎞⎞               ___________⎥\n",
              " 35 ⎠⎟  -0.05⋅√2⋅t⋅╲╱ √505 + 35 ⎥\n",
              "─────⎟⋅ℯ                        ⎥\n",
              "     ⎟                          ⎥\n",
              "     ⎟                          ⎥\n",
              "     ⎟                          ⎥\n",
              "     ⎟                          ⎥\n",
              "     ⎟                          ⎥\n",
              "     ⎠                          ⎥\n",
              "────────────────────────────────⎥\n",
              "                                ⎥\n",
              "                                ⎥\n",
              "                                ⎦"
            ],
            "text/latex": "$\\displaystyle \\left[\\begin{matrix}\\left(\\frac{0.301511344577764 \\sin{\\left(0.49749371855331 \\sqrt{2} t \\sqrt{35 - \\sqrt{505}} \\right)}}{3 + \\frac{2}{\\left(- \\frac{11}{24} + \\frac{\\sqrt{505}}{24}\\right)^{2}}} + \\frac{3 \\cos{\\left(0.49749371855331 \\sqrt{2} t \\sqrt{35 - \\sqrt{505}} \\right)}}{3 + \\frac{2}{\\left(- \\frac{11}{24} + \\frac{\\sqrt{505}}{24}\\right)^{2}}}\\right) e^{- 0.05 \\sqrt{2} t \\sqrt{35 - \\sqrt{505}}} + \\left(\\frac{0.301511344577764 \\sin{\\left(0.49749371855331 \\sqrt{2} t \\sqrt{\\sqrt{505} + 35} \\right)}}{\\frac{2}{\\left(- \\frac{\\sqrt{505}}{24} - \\frac{11}{24}\\right)^{2}} + 3} + \\frac{3 \\cos{\\left(0.49749371855331 \\sqrt{2} t \\sqrt{\\sqrt{505} + 35} \\right)}}{\\frac{2}{\\left(- \\frac{\\sqrt{505}}{24} - \\frac{11}{24}\\right)^{2}} + 3}\\right) e^{- 0.05 \\sqrt{2} t \\sqrt{\\sqrt{505} + 35}}\\\\\\frac{\\left(\\frac{0.301511344577764 \\sin{\\left(0.49749371855331 \\sqrt{2} t \\sqrt{35 - \\sqrt{505}} \\right)}}{3 + \\frac{2}{\\left(- \\frac{11}{24} + \\frac{\\sqrt{505}}{24}\\right)^{2}}} + \\frac{3 \\cos{\\left(0.49749371855331 \\sqrt{2} t \\sqrt{35 - \\sqrt{505}} \\right)}}{3 + \\frac{2}{\\left(- \\frac{11}{24} + \\frac{\\sqrt{505}}{24}\\right)^{2}}}\\right) e^{- 0.05 \\sqrt{2} t \\sqrt{35 - \\sqrt{505}}}}{- \\frac{11}{24} + \\frac{\\sqrt{505}}{24}} + \\frac{\\left(\\frac{0.301511344577764 \\sin{\\left(0.49749371855331 \\sqrt{2} t \\sqrt{\\sqrt{505} + 35} \\right)}}{\\frac{2}{\\left(- \\frac{\\sqrt{505}}{24} - \\frac{11}{24}\\right)^{2}} + 3} + \\frac{3 \\cos{\\left(0.49749371855331 \\sqrt{2} t \\sqrt{\\sqrt{505} + 35} \\right)}}{\\frac{2}{\\left(- \\frac{\\sqrt{505}}{24} - \\frac{11}{24}\\right)^{2}} + 3}\\right) e^{- 0.05 \\sqrt{2} t \\sqrt{\\sqrt{505} + 35}}}{- \\frac{\\sqrt{505}}{24} - \\frac{11}{24}}\\end{matrix}\\right]$"
          },
          "metadata": {},
          "execution_count": 48
        }
      ],
      "source": [
        "#Evaluamos numéricamente la fórmula\n",
        "u.subs(val_ini)"
      ]
    },
    {
      "cell_type": "markdown",
      "source": [
        "**GRAFICA DE LA SOLUCION**"
      ],
      "metadata": {
        "id": "oKrR9HJLNTYS"
      }
    },
    {
      "cell_type": "code",
      "execution_count": 49,
      "metadata": {
        "id": "1_6FUou54mKY"
      },
      "outputs": [],
      "source": [
        "#Importar librerias para generar la gráfica de la solución\n",
        "%matplotlib inline\n",
        "import matplotlib.pyplot as plt"
      ]
    },
    {
      "cell_type": "code",
      "source": [
        "#Grafica de la solución del primer gdl\n",
        "#de t=0 a t=50s, cada 0.1s\n",
        "t_vec  = np.arange(0, 50, 0.1)\n",
        "if a == 1:  #Solo u1.\n",
        "    u_vec1 = np.array([N(u[0].subs({EI:1,psi:0.1,L:1,rho:1,t:tt})) for tt in t_vec])\n",
        "    u_vec2 = false\n",
        "else:\n",
        "    u_vec1 = np.array([N(u[0].subs({EI:1,psi:0.1,L:1,rho:1,t:tt})) for tt in t_vec])\n",
        "    u_vec2 = np.array([N(u[1].subs({EI:1,psi:0.1,L:1,rho:1,t:tt})) for tt in t_vec])"
      ],
      "metadata": {
        "id": "IhCEr6WnGY8u"
      },
      "execution_count": 50,
      "outputs": []
    },
    {
      "cell_type": "code",
      "execution_count": 51,
      "metadata": {
        "id": "joF7zkwi4mKZ",
        "colab": {
          "base_uri": "https://localhost:8080/"
        },
        "outputId": "5c040b32-5c91-48da-ddac-b1c9900524d5"
      },
      "outputs": [
        {
          "output_type": "execute_result",
          "data": {
            "text/plain": [
              "array([1.00000000000000, 0.891328422416935, 0.606956509013229,\n",
              "       0.235010283379679, -0.124517099320961, -0.386974771142347,\n",
              "       -0.503331196327020, -0.468874939703875, -0.319247165249031,\n",
              "       -0.116192391191714, 0.0720984775087806, 0.190242912994891,\n",
              "       0.209415781394675, 0.132482254155549, -0.00997746008862487,\n",
              "       -0.170760964545273, -0.300563692517236, -0.361691827347277,\n",
              "       -0.337373496753577, -0.234606517901248, -0.0804086402609161,\n",
              "       0.0868943009302490, 0.228550441035998, 0.315344397964630,\n",
              "       0.334103506792194, 0.289381748789000, 0.200369945507917,\n",
              "       0.0943386185456450, -0.00129726838504100, -0.0660542346618902,\n",
              "       -0.0908203683782775, -0.0787683884349940, -0.0428813875909774,\n",
              "       -0.00111832072303931, 0.0292312898199230, 0.0363982390537860,\n",
              "       0.0169630499677019, -0.0238961531928374, -0.0745486239371224,\n",
              "       -0.120637479657090, -0.149232937160985, -0.152256652771176,\n",
              "       -0.128328842652729, -0.0826925111025171, -0.0254136685111532,\n",
              "       0.0315061726106106, 0.0772441395592487, 0.104661760560910,\n",
              "       0.111611938579278, 0.100832773010272, 0.0786081487161870,\n",
              "       0.0526810290780972, 0.0300509481877238, 0.0152501240803136,\n",
              "       0.00950155548904502, 0.0108840837057265, 0.0153467732290246,\n",
              "       0.0182037991579707, 0.0156502744214675, 0.00588099312682274,\n",
              "       -0.0104566577748170, -0.0305381282299569, -0.0502255822969611,\n",
              "       -0.0652353790504403, -0.0722697137016050, -0.0698142432616001,\n",
              "       -0.0584200995398475, -0.0404420602351838, -0.0193503869086230,\n",
              "       0.00116596043616814, 0.0180543347869897, 0.0294978876034444,\n",
              "       0.0351349821673202, 0.0358867385888900, 0.0334849073522908,\n",
              "       0.0298608389599377, 0.0265749486136963, 0.0244350173696642,\n",
              "       0.0233843664190070, 0.0226590972317483, 0.0211405598165832,\n",
              "       0.0177836062290879, 0.0119924048400188, 0.00384225159298347,\n",
              "       -0.00590277986501556, -0.0159665759148288, -0.0248707400208879,\n",
              "       -0.0312856905022937, -0.0343283795829838, -0.0337342720390163,\n",
              "       -0.0298705428971312, -0.0236016439635090, -0.0160552793604941,\n",
              "       -0.00835741713082028, -0.00140547919512620, 0.00426876925695124,\n",
              "       0.00852432455388438, 0.0115336033933175, 0.0136380138350159,\n",
              "       0.0151853237399926, 0.0163966729928276, 0.0172972924293287,\n",
              "       0.0177234957192271, 0.0173958720346423, 0.0160310300201644,\n",
              "       0.0134559451944960, 0.00969125296345224, 0.00498105419308137,\n",
              "       -0.000236917261929519, -0.00541041882547352, -0.00997847998776366,\n",
              "       -0.0134759892804056, -0.0156117996493720, -0.0163039756923258,\n",
              "       -0.0156680986718577, -0.0139666553725193, -0.0115363107306270,\n",
              "       -0.00871335170833678, -0.00577543890749394, -0.00291118781135704,\n",
              "       -0.000220256108686896, 0.00226187421125088, 0.00452614199290952,\n",
              "       0.00655293681081375, 0.00828770520774463, 0.00963591559333961,\n",
              "       0.0104777870046122, 0.0106973137592936, 0.0102162967040834,\n",
              "       0.00902316515124727, 0.00718832498109243, 0.00486181157255202,\n",
              "       0.00225389165002686, -0.000396421046285876, -0.00285728607185588,\n",
              "       -0.00493624526051078, -0.00650218553072851, -0.00749361691470605,\n",
              "       -0.00791345498898886, -0.00781366242567317, -0.00727503929425490,\n",
              "       -0.00638779282750822, -0.00523736044979898, -0.00389778625177484,\n",
              "       -0.00243245919140646, -0.000899917953147850, 0.000638761462309541,\n",
              "       0.00211453029654008, 0.00344943916445112, 0.00456113890867351,\n",
              "       0.00537195787171219, 0.00582029384774377, 0.00587137054524182,\n",
              "       0.00552457036809565, 0.00481545703478291, 0.00381194498936576,\n",
              "       0.00260546973701046, 0.00129909784215472, -4.96253804376380e-6,\n",
              "       -0.00121610910389628, -0.00226267479099879, -0.00309514729392254,\n",
              "       -0.00368560451403764, -0.00402447982452143, -0.00411615657015039,\n",
              "       -0.00397482665747379, -0.00362161055098787, -0.00308329314174591,\n",
              "       -0.00239238544235522, -0.00158775703926044, -0.000714910983845187,\n",
              "       0.000174888408275641, 0.00102704143551450, 0.00178750095091983,\n",
              "       0.00240756644057595, 0.00284872512676444, 0.00308661206242569,\n",
              "       0.00311333101204377, 0.00293772743646344, 0.00258363304073014,\n",
              "       0.00208649556382021, 0.00148907435685020, 0.000836969985158875,\n",
              "       0.000174663642549961, -0.000457485572881761, -0.00102512645298747,\n",
              "       -0.00150079498605935, -0.00186408218348048, -0.00210145033991336,\n",
              "       -0.00220600461463896, -0.00217738940489976, -0.00202180988665564,\n",
              "       -0.00175203376931303, -0.00138714947531325, -0.000951864190478680,\n",
              "       -0.000475211838801888, 1.13216782553652e-5, 0.000476101564139238,\n",
              "       0.000889805194198572, 0.00122771601876542, 0.00147154337305535,\n",
              "       0.00161054477738996, 0.00164185245711944, 0.00157004057232602,\n",
              "       0.00140608266433539, 0.00116591734506938, 0.000868855013029483,\n",
              "       0.000536024458869634, 0.000188992070602046, -0.000151389854883368,\n",
              "       -0.000465914030788696, -0.000737775077606940,\n",
              "       -0.000953205637377437, -0.00110202392434781, -0.00117808831100040,\n",
              "       -0.00117961756150860, -0.00110931188340207, -0.000974208844176051,\n",
              "       -0.000785230981199401, -0.000556423134507531,\n",
              "       -0.000303926615455626, -4.47819127974064e-5, 0.000204319055583949,\n",
              "       0.000428202596920818, 0.000614191319471837, 0.000752810253406168,\n",
              "       0.000838183453996255, 0.000868126365698804, 0.000843973601215197,\n",
              "       0.000770202344574671, 0.000653917031338376, 0.000504253835497797,\n",
              "       0.000331748978430753, 0.000147699036115150, -3.64705541956890e-5,\n",
              "       -0.000209817697498143, -0.000362463457529908,\n",
              "       -0.000486119490452252, -0.000574535085079926,\n",
              "       -0.000623830719645082, -0.000632685996005238,\n",
              "       -0.000602358069550736, -0.000536521424611142,\n",
              "       -0.000440938419692497, -0.000322988786674440,\n",
              "       -0.000191101517846069, -5.41415060571027e-5, 7.91953816438769e-5,\n",
              "       0.000200931017792613, 0.000304261011514205, 0.000383895435068450,\n",
              "       0.000436275533457871, 0.000459669070618653, 0.000454154699483754,\n",
              "       0.000421509689885925, 0.000365016344847689, 0.000289201868823581,\n",
              "       0.000199525757445041, 0.000102028999048718, 2.96088624221121e-6,\n",
              "       -9.15983130970668e-5, -0.000176098072952703, -0.000245839527893984,\n",
              "       -0.000297237028315260, -0.000328000991400858,\n",
              "       -0.000337229475012428, -0.000325403553664724,\n",
              "       -0.000294290015677116, -0.000246762863403632,\n",
              "       -0.000186561442810549, -0.000118006978016955, -4.57005619426981e-5,\n",
              "       2.57755229940644e-5, 9.21343046225615e-5, 0.000149623664238402,\n",
              "       0.000195218483204252, 0.000226758957521954, 0.000243032003616765,\n",
              "       0.000243795364661496, 0.000229746226129519, 0.000202438137008099,\n",
              "       0.000164152043108041, 0.000117729364146473, 6.63771955569050e-5,\n",
              "       1.34576344087426e-5, -3.77254290032892e-5, -8.41282811524784e-5,\n",
              "       -0.000123145049146311, -0.000152749878461191,\n",
              "       -0.000171595360001162, -0.000179062556385547,\n",
              "       -0.000175261855729927, -0.000160987570038185,\n",
              "       -0.000137632308250319, -0.000107069434008046, -7.15132648920258e-5,\n",
              "       -3.33671290318410e-5, 4.93088177787217e-6, 4.10554346498350e-5,\n",
              "       7.29268763264468e-5, 9.88230145344328e-5, 0.000117464667123871,\n",
              "       0.000128071408042279, 0.000130385543925651, 0.000124664048526409,\n",
              "       0.000111639940964892, 9.24563481874611e-5, 6.85781261959349e-5,\n",
              "       4.16872834563183e-5, 1.35694072867833e-5, -1.40012755631099e-5,\n",
              "       -3.93707281573835e-5, -6.11010747880890e-5, -7.80481853883339e-5,\n",
              "       -8.94169140561738e-5, -9.47917859918872e-5, -9.41426921635160e-5,\n",
              "       -8.78067797991898e-5, -7.64491113456745e-5, -6.10057431380727e-5,\n",
              "       -4.26136283467584e-5, -2.25321884803332e-5, -2.06155219441611e-6,\n",
              "       1.75376384959982e-5, 3.51182786398124e-5, 4.97106599827947e-5,\n",
              "       6.05728072609195e-5, 6.72248378837333e-5, 6.94659023093673e-5,\n",
              "       6.73733552405171e-5, 6.12849176195554e-5, 5.17656395926066e-5,\n",
              "       3.95623858585433e-5, 2.55492660695522e-5, 1.06678716965120e-5,\n",
              "       -4.13366954306044e-6, -1.79589476095582e-5, -3.00153526290707e-5,\n",
              "       -3.96571072542002e-5, -4.64171150720215e-5, -5.00263133249809e-5,\n",
              "       -5.04200552771408e-5, -4.77318468904066e-5, -4.22754831838422e-5,\n",
              "       -3.45172423095755e-5, -2.50402799791170e-5, -1.45037102493745e-5,\n",
              "       -3.59905250085864e-6, 6.99323556463494e-6, 1.66445325764022e-5,\n",
              "       2.48137899866735e-5, 3.10762777950198e-5, 3.51438894486479e-5,\n",
              "       3.68761355740079e-5, 3.62815737815007e-5, 3.35100340704532e-5,\n",
              "       2.88365634618316e-5, 2.26384911951376e-5, 1.53673774130678e-5,\n",
              "       7.51783503008776e-6, -4.04700241064375e-7, -7.91522822978593e-6,\n",
              "       -1.45776215900402e-5, -2.00286681176620e-5, -2.39964960680365e-5,\n",
              "       -2.63125620441753e-5, -2.69168061277219e-5, -2.58560028815687e-5,\n",
              "       -2.32757372286265e-5, -1.94067910719511e-5, -1.45470226592459e-5,\n",
              "       -9.04004200562742e-6, -3.25212177519473e-6, 2.45117204001944e-6,\n",
              "       7.72719221950331e-6, 1.22759615235982e-5, 1.58563691901735e-5,\n",
              "       1.82979889166191e-5, 1.95080048198905e-5, 1.94730602147426e-5,\n",
              "       1.82561678283078e-5, 1.59891181641674e-5, 1.28610771734608e-5,\n",
              "       9.10426153865813e-6, 4.97771102437466e-6, 7.50238817430350e-7,\n",
              "       -3.31636645971196e-6, -6.98288434973498e-6, -1.00460755964316e-5,\n",
              "       -1.23492599675592e-5, -1.37895585304376e-5, -1.43215239359657e-5,\n",
              "       -1.39571121256814e-5, -1.27621712760869e-5, -1.08498260826057e-5,\n",
              "       -8.37130641816844e-6, -5.50489978272235e-6, -2.44379023247667e-6,\n",
              "       6.16420816982273e-7, 3.48973448774576e-6, 6.01060301895562e-6,\n",
              "       8.04300158214916e-6, 9.48725686005854e-6, 1.02843268028843e-5,\n",
              "       1.04173974207731e-5, 9.91083312624966e-6, 8.82667645396311e-6,\n",
              "       7.25903184244817e-6, 5.32677934210201e-6, 3.16514255425958e-6,\n",
              "       9.16678005234778e-7, -1.27774006772921e-6, -3.28739340150922e-6,\n",
              "       -4.99916488331638e-6, -6.32355370487453e-6, -7.19896455449756e-6,\n",
              "       -7.59409345244593e-6, -7.50835671430957e-6, -6.97043104008257e-6,\n",
              "       -6.03508456919537e-6, -4.77857445289574e-6, -3.29296085448708e-6,\n",
              "       -1.67973662831009e-6, -4.31943343876433e-8, 1.51605238461624e-6,\n",
              "       2.90700606853713e-6, 4.05334661255708e-6, 4.89735170181536e-6,\n",
              "       5.40249451140020e-6, 5.55462615442069e-6, 5.36174086462199e-6,\n",
              "       4.85240790921528e-6, 4.07303081518463e-6, 3.08415756737088e-6,\n",
              "       1.95611192214350e-6, 7.64243925872991e-7, -4.15893641877245e-7,\n",
              "       -1.51314647375024e-6, -2.46486889150283e-6, -3.22031696295464e-6,\n",
              "       -3.74315301124586e-6, -4.01295225447670e-6, -4.02566833971783e-6,\n",
              "       -3.79308006330287e-6, -3.34130259370627e-6, -2.70849948925637e-6,\n",
              "       -1.94197385479765e-6, -1.09484605723040e-6, -2.22540381675565e-7,\n",
              "       6.20696342953979e-7, 1.38503409273949e-6, 2.02787201370425e-6,\n",
              "       2.51607391643899e-6, 2.82751942116911e-6, 2.95191008011725e-6,\n",
              "       2.89081796520223e-6, 2.65701075887003e-6, 2.27312960314842e-6,\n",
              "       1.76983151659537e-6, 1.18353525785880e-6, 5.53926866449056e-7,\n",
              "       -7.86118468391252e-8, -6.75491800335772e-7, -1.20217486631864e-6,\n",
              "       -1.63007569869342e-6, -1.93800885398929e-6, -2.11311535782977e-6,\n",
              "       -2.15123777038657e-6, -2.05674788997712e-6, -1.84186434702960e-6,\n",
              "       -1.52552655313142e-6, -1.13191519144928e-6, -6.88726493689691e-7,\n",
              "       -2.25317241295040e-7, 2.29160463588328e-7, 6.47520835393691e-7,\n",
              "       1.00610050012423e-6, 1.28602456742611e-6, 1.47411993433539e-6,\n",
              "       1.56343755260966e-6, 1.55337099762791e-6, 1.44938380818491e-6,\n",
              "       1.26238122441757e-6, 1.00778182638100e-6, 7.04360118912474e-7,\n",
              "       3.72941581495381e-7, 3.50367097998362e-8, -2.88499924788671e-7,\n",
              "       -5.78705284493294e-7, -8.19568155476886e-7, -9.98858214479003e-7,\n",
              "       -1.10868476500657e-6, -1.14576439112144e-6, -1.11139549289073e-6,\n",
              "       -1.01115558706013e-6, -8.54353328651022e-7, -6.53280548669228e-7,\n",
              "       -4.22319535344158e-7, -1.76966877231638e-7, 6.71627436883185e-8],\n",
              "      dtype=object)"
            ]
          },
          "metadata": {},
          "execution_count": 51
        }
      ],
      "source": [
        "u_vec1"
      ]
    },
    {
      "cell_type": "code",
      "execution_count": 52,
      "metadata": {
        "id": "515Xmoid4mKZ",
        "colab": {
          "base_uri": "https://localhost:8080/",
          "height": 430
        },
        "outputId": "bb3593c2-9873-43a5-ec6e-3a1c2a7e39eb"
      },
      "outputs": [
        {
          "output_type": "display_data",
          "data": {
            "text/plain": [
              "<Figure size 640x480 with 1 Axes>"
            ],
            "image/png": "[encoded data removed]"
          },
          "metadata": {}
        }
      ],
      "source": [
        "if a == 1:  #Solo u1.\n",
        "    plt.plot(t_vec, u_vec1);\n",
        "    plt.show()\n",
        "else:\n",
        "    plt.plot(t_vec, u_vec1);\n",
        "    plt.plot(t_vec, u_vec2);\n",
        "    plt.show()"
      ]
    },
    {
      "cell_type": "code",
      "execution_count": 53,
      "metadata": {
        "id": "Xgp3K0xK4mKZ",
        "colab": {
          "base_uri": "https://localhost:8080/",
          "height": 277
        },
        "outputId": "5a2660d5-adfc-4312-9598-7bdff5e296bb"
      },
      "outputs": [
        {
          "output_type": "execute_result",
          "data": {
            "text/plain": [
              "⎡                                 ⎛           ⎛          ______    ________   \n",
              "⎢                                 ⎜           ⎜         ╱  EI     ╱      2    \n",
              "⎢                                 ⎜           ⎜√2⋅t⋅   ╱  ──── ⋅╲╱  1 - ψ  ⋅╲╱\n",
              "⎢                                 ⎜           ⎜       ╱    4                  \n",
              "⎢                                 ⎜           ⎜     ╲╱    L ⋅ρ                \n",
              "⎢            ______               ⎜3⋅L⋅ψ⋅ρ⋅sin⎜───────────────────────────────\n",
              "⎢           ╱  EI     ___________ ⎜           ⎝                    2          \n",
              "⎢  √2⋅ψ⋅   ╱  ──── ⋅╲╱ 35 - √505 ⋅⎜───────────────────────────────────────────\n",
              "⎢         ╱    4                  ⎜             ________                      \n",
              "⎢       ╲╱    L ⋅ρ                ⎜            ╱      2  ⎛            2⋅L⋅ρ   \n",
              "⎢                                 ⎜          ╲╱  1 - ψ  ⋅⎜3⋅L⋅ρ + ────────────\n",
              "⎢                                 ⎜                      ⎜                    \n",
              "⎢                                 ⎜                      ⎜        ⎛  11   √505\n",
              "⎢                                 ⎜                      ⎜        ⎜- ── + ────\n",
              "⎢                                 ⎝                      ⎝        ⎝  24    24 \n",
              "⎢- ───────────────────────────────────────────────────────────────────────────\n",
              "⎢                                                                             \n",
              "⎢                                                                             \n",
              "⎢                                                                             \n",
              "⎢                                                                             \n",
              "⎢                                                                             \n",
              "⎢                                                                             \n",
              "⎢                                                                             \n",
              "⎢                                 ⎛           ⎛          ______    ________   \n",
              "⎢                                 ⎜           ⎜         ╱  EI     ╱      2    \n",
              "⎢                                 ⎜           ⎜√2⋅t⋅   ╱  ──── ⋅╲╱  1 - ψ  ⋅╲╱\n",
              "⎢                                 ⎜           ⎜       ╱    4                  \n",
              "⎢                                 ⎜           ⎜     ╲╱    L ⋅ρ                \n",
              "⎢            ______               ⎜3⋅L⋅ψ⋅ρ⋅sin⎜───────────────────────────────\n",
              "⎢           ╱  EI     ___________ ⎜           ⎝                    2          \n",
              "⎢  √2⋅ψ⋅   ╱  ──── ⋅╲╱ 35 - √505 ⋅⎜───────────────────────────────────────────\n",
              "⎢         ╱    4                  ⎜             ________                      \n",
              "⎢       ╲╱    L ⋅ρ                ⎜            ╱      2  ⎛            2⋅L⋅ρ   \n",
              "⎢                                 ⎜          ╲╱  1 - ψ  ⋅⎜3⋅L⋅ρ + ────────────\n",
              "⎢                                 ⎜                      ⎜                    \n",
              "⎢                                 ⎜                      ⎜        ⎛  11   √505\n",
              "⎢                                 ⎜                      ⎜        ⎜- ── + ────\n",
              "⎢                                 ⎝                      ⎝        ⎝  24    24 \n",
              "⎢- ───────────────────────────────────────────────────────────────────────────\n",
              "⎢                                                                             \n",
              "⎢                                                                             \n",
              "⎣                                                                             \n",
              "\n",
              "           ⎞            ⎛          ______    ________              ⎞⎞         \n",
              "___________⎟            ⎜         ╱  EI     ╱      2    ___________⎟⎟         \n",
              " 35 - √505 ⎟            ⎜√2⋅t⋅   ╱  ──── ⋅╲╱  1 - ψ  ⋅╲╱ 35 - √505 ⎟⎟  -√2⋅ψ⋅t\n",
              "           ⎟            ⎜       ╱    4                             ⎟⎟         \n",
              "           ⎟            ⎜     ╲╱    L ⋅ρ                           ⎟⎟         \n",
              "───────────⎟   3⋅L⋅ρ⋅cos⎜──────────────────────────────────────────⎟⎟  ───────\n",
              "           ⎠            ⎝                    2                     ⎠⎟         \n",
              "──────────── + ─────────────────────────────────────────────────────⎟⋅ℯ       \n",
              "                                           2⋅L⋅ρ                    ⎟         \n",
              "  ⎞                            3⋅L⋅ρ + ──────────────               ⎟         \n",
              "──⎟                                                 2               ⎟         \n",
              " 2⎟                                    ⎛  11   √505⎞                ⎟         \n",
              "⎞ ⎟                                    ⎜- ── + ────⎟                ⎟         \n",
              "⎟ ⎟                                    ⎝  24    24 ⎠                ⎟         \n",
              "⎠ ⎠                                                                 ⎠         \n",
              "──────────────────────────────────────────────────────────────────────────────\n",
              "              2                                                               \n",
              "                                                                              \n",
              "                                                                              \n",
              "                                                                              \n",
              "                                                                              \n",
              "                                                                              \n",
              "                                                                              \n",
              "           ⎞            ⎛          ______    ________              ⎞⎞         \n",
              "___________⎟            ⎜         ╱  EI     ╱      2    ___________⎟⎟         \n",
              " 35 - √505 ⎟            ⎜√2⋅t⋅   ╱  ──── ⋅╲╱  1 - ψ  ⋅╲╱ 35 - √505 ⎟⎟  -√2⋅ψ⋅t\n",
              "           ⎟            ⎜       ╱    4                             ⎟⎟         \n",
              "           ⎟            ⎜     ╲╱    L ⋅ρ                           ⎟⎟         \n",
              "───────────⎟   3⋅L⋅ρ⋅cos⎜──────────────────────────────────────────⎟⎟  ───────\n",
              "           ⎠            ⎝                    2                     ⎠⎟         \n",
              "──────────── + ─────────────────────────────────────────────────────⎟⋅ℯ       \n",
              "                                           2⋅L⋅ρ                    ⎟         \n",
              "  ⎞                            3⋅L⋅ρ + ──────────────               ⎟         \n",
              "──⎟                                                 2               ⎟         \n",
              " 2⎟                                    ⎛  11   √505⎞                ⎟         \n",
              "⎞ ⎟                                    ⎜- ── + ────⎟                ⎟         \n",
              "⎟ ⎟                                    ⎝  24    24 ⎠                ⎟         \n",
              "⎠ ⎠                                                                 ⎠         \n",
              "──────────────────────────────────────────────────────────────────────────────\n",
              "         ⎛  11   √505⎞                                                        \n",
              "       2⋅⎜- ── + ────⎟                                                        \n",
              "         ⎝  24    24 ⎠                                                        \n",
              "\n",
              "      ______                                                 ⎛           ⎛    \n",
              "     ╱  EI     ___________                                   ⎜           ⎜    \n",
              "⋅   ╱  ──── ⋅╲╱ 35 - √505                                    ⎜           ⎜√2⋅t\n",
              "   ╱    4                                                    ⎜           ⎜    \n",
              " ╲╱    L ⋅ρ                                                  ⎜           ⎜    \n",
              "───────────────────────────             ______               ⎜3⋅L⋅ψ⋅ρ⋅sin⎜────\n",
              "         2                             ╱  EI     ___________ ⎜           ⎝    \n",
              "                              √2⋅ψ⋅   ╱  ──── ⋅╲╱ √505 + 35 ⋅⎜────────────────\n",
              "                                     ╱    4                  ⎜             ___\n",
              "                                   ╲╱    L ⋅ρ                ⎜            ╱   \n",
              "                                                             ⎜          ╲╱  1 \n",
              "                                                             ⎜                \n",
              "                                                             ⎜                \n",
              "                                                             ⎜                \n",
              "                                                             ⎝                \n",
              "─────────────────────────── - ────────────────────────────────────────────────\n",
              "                                                                              \n",
              "                                                                              \n",
              "                                                                              \n",
              "                                                                              \n",
              "                                                                              \n",
              "                                                                              \n",
              "                                                                              \n",
              "      ______                                                 ⎛           ⎛    \n",
              "     ╱  EI     ___________                                   ⎜           ⎜    \n",
              "⋅   ╱  ──── ⋅╲╱ 35 - √505                                    ⎜           ⎜√2⋅t\n",
              "   ╱    4                                                    ⎜           ⎜    \n",
              " ╲╱    L ⋅ρ                                                  ⎜           ⎜    \n",
              "───────────────────────────             ______               ⎜3⋅L⋅ψ⋅ρ⋅sin⎜────\n",
              "         2                             ╱  EI     ___________ ⎜           ⎝    \n",
              "                              √2⋅ψ⋅   ╱  ──── ⋅╲╱ √505 + 35 ⋅⎜────────────────\n",
              "                                     ╱    4                  ⎜             ___\n",
              "                                   ╲╱    L ⋅ρ                ⎜            ╱   \n",
              "                                                             ⎜          ╲╱  1 \n",
              "                                                             ⎜                \n",
              "                                                             ⎜                \n",
              "                                                             ⎜                \n",
              "                                                             ⎝                \n",
              "─────────────────────────── - ────────────────────────────────────────────────\n",
              "                                                                              \n",
              "                                                                              \n",
              "                                                                              \n",
              "\n",
              "      ______    ________              ⎞            ⎛          ______    ______\n",
              "     ╱  EI     ╱      2    ___________⎟            ⎜         ╱  EI     ╱      \n",
              "⋅   ╱  ──── ⋅╲╱  1 - ψ  ⋅╲╱ √505 + 35 ⎟            ⎜√2⋅t⋅   ╱  ──── ⋅╲╱  1 - ψ\n",
              "   ╱    4                             ⎟            ⎜       ╱    4             \n",
              " ╲╱    L ⋅ρ                           ⎟            ⎜     ╲╱    L ⋅ρ           \n",
              "──────────────────────────────────────⎟   3⋅L⋅ρ⋅cos⎜──────────────────────────\n",
              "                2                     ⎠            ⎝                    2     \n",
              "─────────────────────────────────────── + ────────────────────────────────────\n",
              "_____                                                         2⋅L⋅ρ           \n",
              "   2  ⎛    2⋅L⋅ρ             ⎞                            ────────────── + 3⋅L\n",
              "- ψ  ⋅⎜────────────── + 3⋅L⋅ρ⎟                                         2      \n",
              "      ⎜             2        ⎟                            ⎛  √505   11⎞       \n",
              "      ⎜⎛  √505   11⎞         ⎟                            ⎜- ──── - ──⎟       \n",
              "      ⎜⎜- ──── - ──⎟         ⎟                            ⎝   24    24⎠       \n",
              "      ⎝⎝   24    24⎠         ⎠                                                \n",
              "──────────────────────────────────────────────────────────────────────────────\n",
              "                                         2                                    \n",
              "                                                                              \n",
              "                                                                              \n",
              "                                                                              \n",
              "                                                                              \n",
              "                                                                              \n",
              "                                                                              \n",
              "      ______    ________              ⎞            ⎛          ______    ______\n",
              "     ╱  EI     ╱      2    ___________⎟            ⎜         ╱  EI     ╱      \n",
              "⋅   ╱  ──── ⋅╲╱  1 - ψ  ⋅╲╱ √505 + 35 ⎟            ⎜√2⋅t⋅   ╱  ──── ⋅╲╱  1 - ψ\n",
              "   ╱    4                             ⎟            ⎜       ╱    4             \n",
              " ╲╱    L ⋅ρ                           ⎟            ⎜     ╲╱    L ⋅ρ           \n",
              "──────────────────────────────────────⎟   3⋅L⋅ρ⋅cos⎜──────────────────────────\n",
              "                2                     ⎠            ⎝                    2     \n",
              "─────────────────────────────────────── + ────────────────────────────────────\n",
              "_____                                                         2⋅L⋅ρ           \n",
              "   2  ⎛    2⋅L⋅ρ             ⎞                            ────────────── + 3⋅L\n",
              "- ψ  ⋅⎜────────────── + 3⋅L⋅ρ⎟                                         2      \n",
              "      ⎜             2        ⎟                            ⎛  √505   11⎞       \n",
              "      ⎜⎛  √505   11⎞         ⎟                            ⎜- ──── - ──⎟       \n",
              "      ⎜⎜- ──── - ──⎟         ⎟                            ⎝   24    24⎠       \n",
              "      ⎝⎝   24    24⎠         ⎠                                                \n",
              "──────────────────────────────────────────────────────────────────────────────\n",
              "                                    ⎛  √505   11⎞                             \n",
              "                                  2⋅⎜- ──── - ──⎟                             \n",
              "                                    ⎝   24    24⎠                             \n",
              "\n",
              "__              ⎞⎞               ______                                       \n",
              "2    ___________⎟⎟              ╱  EI     ___________                         \n",
              "  ⋅╲╱ √505 + 35 ⎟⎟  -√2⋅ψ⋅t⋅   ╱  ──── ⋅╲╱ √505 + 35                          \n",
              "                ⎟⎟            ╱    4                                          \n",
              "                ⎟⎟          ╲╱    L ⋅ρ                                        \n",
              "────────────────⎟⎟  ──────────────────────────────────                        \n",
              "                ⎠⎟                  2                                         \n",
              "─────────────────⎟⋅ℯ                                     ⎛                    \n",
              "                 ⎟                                       ⎜                    \n",
              "⋅ρ               ⎟                                       ⎜                    \n",
              "                 ⎟                                       ⎜                ____\n",
              "                 ⎟                                       ⎜               ╱  EI\n",
              "                 ⎟                                       ⎜3⋅√2⋅L⋅ψ⋅ρ⋅   ╱  ───\n",
              "                 ⎟                                       ⎜             ╱    4 \n",
              "                 ⎠                                       ⎜           ╲╱    L ⋅\n",
              "────────────────────────────────────────────────────── + ⎜────────────────────\n",
              "                                                         ⎜                    \n",
              "                                                         ⎜                    \n",
              "                                                         ⎜                    \n",
              "                                                         ⎜                    \n",
              "                                                         ⎜                    \n",
              "                                                         ⎝                    \n",
              "                                                                              \n",
              "__              ⎞⎞               ______                  ⎛                    \n",
              "2    ___________⎟⎟              ╱  EI     ___________    ⎜                    \n",
              "  ⋅╲╱ √505 + 35 ⎟⎟  -√2⋅ψ⋅t⋅   ╱  ──── ⋅╲╱ √505 + 35     ⎜                    \n",
              "                ⎟⎟            ╱    4                     ⎜                ____\n",
              "                ⎟⎟          ╲╱    L ⋅ρ                   ⎜               ╱  EI\n",
              "────────────────⎟⎟  ──────────────────────────────────   ⎜3⋅√2⋅L⋅ψ⋅ρ⋅   ╱  ───\n",
              "                ⎠⎟                  2                    ⎜             ╱    4 \n",
              "─────────────────⎟⋅ℯ                                     ⎜           ╲╱    L ⋅\n",
              "                 ⎟                                       ⎜────────────────────\n",
              "⋅ρ               ⎟                                       ⎜                    \n",
              "                 ⎟                                       ⎜                    \n",
              "                 ⎟                                       ⎜                    \n",
              "                 ⎟                                       ⎜                    \n",
              "                 ⎟                                       ⎜                    \n",
              "                 ⎠                                       ⎝                    \n",
              "────────────────────────────────────────────────────── + ─────────────────────\n",
              "                                                                              \n",
              "                                                                              \n",
              "                                                                              \n",
              "\n",
              "                                                                              \n",
              "                                                                              \n",
              "                                                                              \n",
              "                                                                              \n",
              "                                                                              \n",
              "                                                                              \n",
              "                                                                              \n",
              "                    ⎛          ______    ________              ⎞              \n",
              "                    ⎜         ╱  EI     ╱      2    ___________⎟              \n",
              "                    ⎜√2⋅t⋅   ╱  ──── ⋅╲╱  1 - ψ  ⋅╲╱ 35 - √505 ⎟              \n",
              "__                  ⎜       ╱    4                             ⎟              \n",
              "     ___________    ⎜     ╲╱    L ⋅ρ                           ⎟              \n",
              "─ ⋅╲╱ 35 - √505 ⋅cos⎜──────────────────────────────────────────⎟   3⋅√2⋅L⋅ρ⋅  \n",
              "                    ⎝                    2                     ⎠              \n",
              "ρ                                                                           ╲╱\n",
              "──────────────────────────────────────────────────────────────── - ───────────\n",
              "           ⎛            2⋅L⋅ρ     ⎞                                           \n",
              "         2⋅⎜3⋅L⋅ρ + ──────────────⎟                                           \n",
              "           ⎜                     2⎟                                           \n",
              "           ⎜        ⎛  11   √505⎞ ⎟                                           \n",
              "           ⎜        ⎜- ── + ────⎟ ⎟                                           \n",
              "           ⎝        ⎝  24    24 ⎠ ⎠                                           \n",
              "                                                                              \n",
              "                    ⎛          ______    ________              ⎞              \n",
              "                    ⎜         ╱  EI     ╱      2    ___________⎟              \n",
              "                    ⎜√2⋅t⋅   ╱  ──── ⋅╲╱  1 - ψ  ⋅╲╱ 35 - √505 ⎟              \n",
              "__                  ⎜       ╱    4                             ⎟              \n",
              "     ___________    ⎜     ╲╱    L ⋅ρ                           ⎟              \n",
              "─ ⋅╲╱ 35 - √505 ⋅cos⎜──────────────────────────────────────────⎟   3⋅√2⋅L⋅ρ⋅  \n",
              "                    ⎝                    2                     ⎠              \n",
              "ρ                                                                           ╲╱\n",
              "──────────────────────────────────────────────────────────────── - ───────────\n",
              "           ⎛            2⋅L⋅ρ     ⎞                                           \n",
              "         2⋅⎜3⋅L⋅ρ + ──────────────⎟                                           \n",
              "           ⎜                     2⎟                                           \n",
              "           ⎜        ⎛  11   √505⎞ ⎟                                           \n",
              "           ⎜        ⎜- ── + ────⎟ ⎟                                           \n",
              "           ⎝        ⎝  24    24 ⎠ ⎠                                           \n",
              "──────────────────────────────────────────────────────────────────────────────\n",
              "                                                                              \n",
              "                                                                              \n",
              "                                                                              \n",
              "\n",
              "                                                                              \n",
              "                                                                              \n",
              "                                                                              \n",
              "                                                                              \n",
              "                                                                              \n",
              "                                                                              \n",
              "                                                                              \n",
              "                                       ⎛          ______    ________          \n",
              "                                       ⎜         ╱  EI     ╱      2    _______\n",
              "                                       ⎜√2⋅t⋅   ╱  ──── ⋅╲╱  1 - ψ  ⋅╲╱ 35 - √\n",
              "   ______    ________                  ⎜       ╱    4                         \n",
              "  ╱  EI     ╱      2    ___________    ⎜     ╲╱    L ⋅ρ                       \n",
              " ╱  ──── ⋅╲╱  1 - ψ  ⋅╲╱ 35 - √505 ⋅sin⎜──────────────────────────────────────\n",
              "╱    4                                 ⎝                    2                 \n",
              "    L ⋅ρ                                                                      \n",
              "──────────────────────────────────────────────────────────────────────────────\n",
              "                         ⎛            2⋅L⋅ρ     ⎞                             \n",
              "                       2⋅⎜3⋅L⋅ρ + ──────────────⎟                             \n",
              "                         ⎜                     2⎟                             \n",
              "                         ⎜        ⎛  11   √505⎞ ⎟                             \n",
              "                         ⎜        ⎜- ── + ────⎟ ⎟                             \n",
              "                         ⎝        ⎝  24    24 ⎠ ⎠                             \n",
              "                                                                              \n",
              "                                       ⎛          ______    ________          \n",
              "                                       ⎜         ╱  EI     ╱      2    _______\n",
              "                                       ⎜√2⋅t⋅   ╱  ──── ⋅╲╱  1 - ψ  ⋅╲╱ 35 - √\n",
              "   ______    ________                  ⎜       ╱    4                         \n",
              "  ╱  EI     ╱      2    ___________    ⎜     ╲╱    L ⋅ρ                       \n",
              " ╱  ──── ⋅╲╱  1 - ψ  ⋅╲╱ 35 - √505 ⋅sin⎜──────────────────────────────────────\n",
              "╱    4                                 ⎝                    2                 \n",
              "    L ⋅ρ                                                                      \n",
              "──────────────────────────────────────────────────────────────────────────────\n",
              "                         ⎛            2⋅L⋅ρ     ⎞                             \n",
              "                       2⋅⎜3⋅L⋅ρ + ──────────────⎟                             \n",
              "                         ⎜                     2⎟                             \n",
              "                         ⎜        ⎛  11   √505⎞ ⎟                             \n",
              "                         ⎜        ⎜- ── + ────⎟ ⎟                             \n",
              "                         ⎝        ⎝  24    24 ⎠ ⎠                             \n",
              "──────────────────────────────────────────────────────────────────────────────\n",
              "       11   √505                                                              \n",
              "     - ── + ────                                                              \n",
              "       24    24                                                               \n",
              "\n",
              "                                                                              \n",
              "                                                                              \n",
              "                                                                              \n",
              "                                                                              \n",
              "                                                                              \n",
              "                                                                              \n",
              "                                                                              \n",
              "    ⎞⎞                                       ⎛                                \n",
              "____⎟⎟               ______                  ⎜                                \n",
              "505 ⎟⎟              ╱  EI     ___________    ⎜                                \n",
              "    ⎟⎟  -√2⋅ψ⋅t⋅   ╱  ──── ⋅╲╱ 35 - √505     ⎜                ______          \n",
              "    ⎟⎟            ╱    4                     ⎜               ╱  EI     _______\n",
              "────⎟⎟          ╲╱    L ⋅ρ                   ⎜3⋅√2⋅L⋅ψ⋅ρ⋅   ╱  ──── ⋅╲╱ √505 +\n",
              "    ⎠⎟  ──────────────────────────────────   ⎜             ╱    4             \n",
              "     ⎟                  2                    ⎜           ╲╱    L ⋅ρ           \n",
              "─────⎟⋅ℯ                                   + ⎜────────────────────────────────\n",
              "     ⎟                                       ⎜                               ⎛\n",
              "     ⎟                                       ⎜                             2⋅⎜\n",
              "     ⎟                                       ⎜                               ⎜\n",
              "     ⎟                                       ⎜                               ⎜\n",
              "     ⎟                                       ⎜                               ⎜\n",
              "     ⎠                                       ⎝                               ⎝\n",
              "                                                                              \n",
              "    ⎞⎞                                       ⎛                                \n",
              "____⎟⎟               ______                  ⎜                                \n",
              "505 ⎟⎟              ╱  EI     ___________    ⎜                                \n",
              "    ⎟⎟  -√2⋅ψ⋅t⋅   ╱  ──── ⋅╲╱ 35 - √505     ⎜                ______          \n",
              "    ⎟⎟            ╱    4                     ⎜               ╱  EI     _______\n",
              "────⎟⎟          ╲╱    L ⋅ρ                   ⎜3⋅√2⋅L⋅ψ⋅ρ⋅   ╱  ──── ⋅╲╱ √505 +\n",
              "    ⎠⎟  ──────────────────────────────────   ⎜             ╱    4             \n",
              "     ⎟                  2                    ⎜           ╲╱    L ⋅ρ           \n",
              "─────⎟⋅ℯ                                     ⎜────────────────────────────────\n",
              "     ⎟                                       ⎜                               ⎛\n",
              "     ⎟                                       ⎜                             2⋅⎜\n",
              "     ⎟                                       ⎜                               ⎜\n",
              "     ⎟                                       ⎜                               ⎜\n",
              "     ⎟                                       ⎜                               ⎜\n",
              "     ⎠                                       ⎝                               ⎝\n",
              "────────────────────────────────────────── + ─────────────────────────────────\n",
              "                                                                              \n",
              "                                                                              \n",
              "                                                                              \n",
              "\n",
              "                                                                              \n",
              "                                                                              \n",
              "                                                                              \n",
              "                                                                              \n",
              "                                                                              \n",
              "                                                                              \n",
              "                                                                              \n",
              "        ⎛          ______    ________              ⎞                          \n",
              "        ⎜         ╱  EI     ╱      2    ___________⎟                          \n",
              "        ⎜√2⋅t⋅   ╱  ──── ⋅╲╱  1 - ψ  ⋅╲╱ √505 + 35 ⎟                          \n",
              "        ⎜       ╱    4                             ⎟                 ______   \n",
              "____    ⎜     ╲╱    L ⋅ρ                           ⎟                ╱  EI     \n",
              " 35 ⋅cos⎜──────────────────────────────────────────⎟   3⋅√2⋅L⋅ρ⋅   ╱  ──── ⋅╲╱\n",
              "        ⎝                    2                     ⎠              ╱    4      \n",
              "                                                                ╲╱    L ⋅ρ    \n",
              "──────────────────────────────────────────────────── - ───────────────────────\n",
              "    2⋅L⋅ρ             ⎞                                                       \n",
              "────────────── + 3⋅L⋅ρ⎟                                                       \n",
              "             2        ⎟                                                       \n",
              "⎛  √505   11⎞         ⎟                                                       \n",
              "⎜- ──── - ──⎟         ⎟                                                       \n",
              "⎝   24    24⎠         ⎠                                                       \n",
              "                                                                              \n",
              "        ⎛          ______    ________              ⎞                          \n",
              "        ⎜         ╱  EI     ╱      2    ___________⎟                          \n",
              "        ⎜√2⋅t⋅   ╱  ──── ⋅╲╱  1 - ψ  ⋅╲╱ √505 + 35 ⎟                          \n",
              "        ⎜       ╱    4                             ⎟                 ______   \n",
              "____    ⎜     ╲╱    L ⋅ρ                           ⎟                ╱  EI     \n",
              " 35 ⋅cos⎜──────────────────────────────────────────⎟   3⋅√2⋅L⋅ρ⋅   ╱  ──── ⋅╲╱\n",
              "        ⎝                    2                     ⎠              ╱    4      \n",
              "                                                                ╲╱    L ⋅ρ    \n",
              "──────────────────────────────────────────────────── - ───────────────────────\n",
              "    2⋅L⋅ρ             ⎞                                                       \n",
              "────────────── + 3⋅L⋅ρ⎟                                                       \n",
              "             2        ⎟                                                       \n",
              "⎛  √505   11⎞         ⎟                                                       \n",
              "⎜- ──── - ──⎟         ⎟                                                       \n",
              "⎝   24    24⎠         ⎠                                                       \n",
              "──────────────────────────────────────────────────────────────────────────────\n",
              "                                                                         √505 \n",
              "                                                                       - ──── \n",
              "                                                                          24  \n",
              "\n",
              "                                                                              \n",
              "                                                                              \n",
              "                                                                              \n",
              "                                                                              \n",
              "                                                                              \n",
              "                                                                              \n",
              "                                                                              \n",
              "                           ⎛          ______    ________              ⎞⎞      \n",
              "                           ⎜         ╱  EI     ╱      2    ___________⎟⎟      \n",
              "                           ⎜√2⋅t⋅   ╱  ──── ⋅╲╱  1 - ψ  ⋅╲╱ √505 + 35 ⎟⎟      \n",
              " ________                  ⎜       ╱    4                             ⎟⎟  -√2⋅\n",
              "╱      2    ___________    ⎜     ╲╱    L ⋅ρ                           ⎟⎟      \n",
              "  1 - ψ  ⋅╲╱ √505 + 35 ⋅sin⎜──────────────────────────────────────────⎟⎟      \n",
              "                           ⎝                    2                     ⎠⎟  ────\n",
              "                                                                       ⎟      \n",
              "───────────────────────────────────────────────────────────────────────⎟⋅ℯ    \n",
              "             ⎛    2⋅L⋅ρ             ⎞                                  ⎟      \n",
              "           2⋅⎜────────────── + 3⋅L⋅ρ⎟                                  ⎟      \n",
              "             ⎜             2        ⎟                                  ⎟      \n",
              "             ⎜⎛  √505   11⎞         ⎟                                  ⎟      \n",
              "             ⎜⎜- ──── - ──⎟         ⎟                                  ⎟      \n",
              "             ⎝⎝   24    24⎠         ⎠                                  ⎠      \n",
              "                                                                              \n",
              "                           ⎛          ______    ________              ⎞⎞      \n",
              "                           ⎜         ╱  EI     ╱      2    ___________⎟⎟      \n",
              "                           ⎜√2⋅t⋅   ╱  ──── ⋅╲╱  1 - ψ  ⋅╲╱ √505 + 35 ⎟⎟      \n",
              " ________                  ⎜       ╱    4                             ⎟⎟  -√2⋅\n",
              "╱      2    ___________    ⎜     ╲╱    L ⋅ρ                           ⎟⎟      \n",
              "  1 - ψ  ⋅╲╱ √505 + 35 ⋅sin⎜──────────────────────────────────────────⎟⎟      \n",
              "                           ⎝                    2                     ⎠⎟  ────\n",
              "                                                                       ⎟      \n",
              "───────────────────────────────────────────────────────────────────────⎟⋅ℯ    \n",
              "             ⎛    2⋅L⋅ρ             ⎞                                  ⎟      \n",
              "           2⋅⎜────────────── + 3⋅L⋅ρ⎟                                  ⎟      \n",
              "             ⎜             2        ⎟                                  ⎟      \n",
              "             ⎜⎛  √505   11⎞         ⎟                                  ⎟      \n",
              "             ⎜⎜- ──── - ──⎟         ⎟                                  ⎟      \n",
              "             ⎝⎝   24    24⎠         ⎠                                  ⎠      \n",
              "──────────────────────────────────────────────────────────────────────────────\n",
              "  11                                                                          \n",
              "- ──                                                                          \n",
              "  24                                                                          \n",
              "\n",
              "                              ⎤\n",
              "                              ⎥\n",
              "                              ⎥\n",
              "                              ⎥\n",
              "                              ⎥\n",
              "                              ⎥\n",
              "                              ⎥\n",
              "                              ⎥\n",
              "         ______               ⎥\n",
              "        ╱  EI     ___________ ⎥\n",
              "ψ⋅t⋅   ╱  ──── ⋅╲╱ √505 + 35  ⎥\n",
              "      ╱    4                  ⎥\n",
              "    ╲╱    L ⋅ρ                ⎥\n",
              "──────────────────────────────⎥\n",
              "            2                 ⎥\n",
              "                              ⎥\n",
              "                              ⎥\n",
              "                              ⎥\n",
              "                              ⎥\n",
              "                              ⎥\n",
              "                              ⎥\n",
              "                              ⎥\n",
              "                              ⎥\n",
              "                              ⎥\n",
              "         ______               ⎥\n",
              "        ╱  EI     ___________ ⎥\n",
              "ψ⋅t⋅   ╱  ──── ⋅╲╱ √505 + 35  ⎥\n",
              "      ╱    4                  ⎥\n",
              "    ╲╱    L ⋅ρ                ⎥\n",
              "──────────────────────────────⎥\n",
              "            2                 ⎥\n",
              "                              ⎥\n",
              "                              ⎥\n",
              "                              ⎥\n",
              "                              ⎥\n",
              "                              ⎥\n",
              "                              ⎥\n",
              "                              ⎥\n",
              "──────────────────────────────⎥\n",
              "                              ⎥\n",
              "                              ⎥\n",
              "                              ⎦"
            ],
            "text/latex": "$\\displaystyle \\left[\\begin{matrix}- \\frac{\\sqrt{2} \\psi \\sqrt{\\frac{EI}{L^{4} \\rho}} \\sqrt{35 - \\sqrt{505}} \\cdot \\left(\\frac{3 L \\psi \\rho \\sin{\\left(\\frac{\\sqrt{2} t \\sqrt{\\frac{EI}{L^{4} \\rho}} \\sqrt{1 - \\psi^{2}} \\sqrt{35 - \\sqrt{505}}}{2} \\right)}}{\\sqrt{1 - \\psi^{2}} \\cdot \\left(3 L \\rho + \\frac{2 L \\rho}{\\left(- \\frac{11}{24} + \\frac{\\sqrt{505}}{24}\\right)^{2}}\\right)} + \\frac{3 L \\rho \\cos{\\left(\\frac{\\sqrt{2} t \\sqrt{\\frac{EI}{L^{4} \\rho}} \\sqrt{1 - \\psi^{2}} \\sqrt{35 - \\sqrt{505}}}{2} \\right)}}{3 L \\rho + \\frac{2 L \\rho}{\\left(- \\frac{11}{24} + \\frac{\\sqrt{505}}{24}\\right)^{2}}}\\right) e^{- \\frac{\\sqrt{2} \\psi t \\sqrt{\\frac{EI}{L^{4} \\rho}} \\sqrt{35 - \\sqrt{505}}}{2}}}{2} - \\frac{\\sqrt{2} \\psi \\sqrt{\\frac{EI}{L^{4} \\rho}} \\sqrt{\\sqrt{505} + 35} \\cdot \\left(\\frac{3 L \\psi \\rho \\sin{\\left(\\frac{\\sqrt{2} t \\sqrt{\\frac{EI}{L^{4} \\rho}} \\sqrt{1 - \\psi^{2}} \\sqrt{\\sqrt{505} + 35}}{2} \\right)}}{\\sqrt{1 - \\psi^{2}} \\cdot \\left(\\frac{2 L \\rho}{\\left(- \\frac{\\sqrt{505}}{24} - \\frac{11}{24}\\right)^{2}} + 3 L \\rho\\right)} + \\frac{3 L \\rho \\cos{\\left(\\frac{\\sqrt{2} t \\sqrt{\\frac{EI}{L^{4} \\rho}} \\sqrt{1 - \\psi^{2}} \\sqrt{\\sqrt{505} + 35}}{2} \\right)}}{\\frac{2 L \\rho}{\\left(- \\frac{\\sqrt{505}}{24} - \\frac{11}{24}\\right)^{2}} + 3 L \\rho}\\right) e^{- \\frac{\\sqrt{2} \\psi t \\sqrt{\\frac{EI}{L^{4} \\rho}} \\sqrt{\\sqrt{505} + 35}}{2}}}{2} + \\left(\\frac{3 \\sqrt{2} L \\psi \\rho \\sqrt{\\frac{EI}{L^{4} \\rho}} \\sqrt{35 - \\sqrt{505}} \\cos{\\left(\\frac{\\sqrt{2} t \\sqrt{\\frac{EI}{L^{4} \\rho}} \\sqrt{1 - \\psi^{2}} \\sqrt{35 - \\sqrt{505}}}{2} \\right)}}{2 \\cdot \\left(3 L \\rho + \\frac{2 L \\rho}{\\left(- \\frac{11}{24} + \\frac{\\sqrt{505}}{24}\\right)^{2}}\\right)} - \\frac{3 \\sqrt{2} L \\rho \\sqrt{\\frac{EI}{L^{4} \\rho}} \\sqrt{1 - \\psi^{2}} \\sqrt{35 - \\sqrt{505}} \\sin{\\left(\\frac{\\sqrt{2} t \\sqrt{\\frac{EI}{L^{4} \\rho}} \\sqrt{1 - \\psi^{2}} \\sqrt{35 - \\sqrt{505}}}{2} \\right)}}{2 \\cdot \\left(3 L \\rho + \\frac{2 L \\rho}{\\left(- \\frac{11}{24} + \\frac{\\sqrt{505}}{24}\\right)^{2}}\\right)}\\right) e^{- \\frac{\\sqrt{2} \\psi t \\sqrt{\\frac{EI}{L^{4} \\rho}} \\sqrt{35 - \\sqrt{505}}}{2}} + \\left(\\frac{3 \\sqrt{2} L \\psi \\rho \\sqrt{\\frac{EI}{L^{4} \\rho}} \\sqrt{\\sqrt{505} + 35} \\cos{\\left(\\frac{\\sqrt{2} t \\sqrt{\\frac{EI}{L^{4} \\rho}} \\sqrt{1 - \\psi^{2}} \\sqrt{\\sqrt{505} + 35}}{2} \\right)}}{2 \\cdot \\left(\\frac{2 L \\rho}{\\left(- \\frac{\\sqrt{505}}{24} - \\frac{11}{24}\\right)^{2}} + 3 L \\rho\\right)} - \\frac{3 \\sqrt{2} L \\rho \\sqrt{\\frac{EI}{L^{4} \\rho}} \\sqrt{1 - \\psi^{2}} \\sqrt{\\sqrt{505} + 35} \\sin{\\left(\\frac{\\sqrt{2} t \\sqrt{\\frac{EI}{L^{4} \\rho}} \\sqrt{1 - \\psi^{2}} \\sqrt{\\sqrt{505} + 35}}{2} \\right)}}{2 \\cdot \\left(\\frac{2 L \\rho}{\\left(- \\frac{\\sqrt{505}}{24} - \\frac{11}{24}\\right)^{2}} + 3 L \\rho\\right)}\\right) e^{- \\frac{\\sqrt{2} \\psi t \\sqrt{\\frac{EI}{L^{4} \\rho}} \\sqrt{\\sqrt{505} + 35}}{2}}\\\\- \\frac{\\sqrt{2} \\psi \\sqrt{\\frac{EI}{L^{4} \\rho}} \\sqrt{35 - \\sqrt{505}} \\cdot \\left(\\frac{3 L \\psi \\rho \\sin{\\left(\\frac{\\sqrt{2} t \\sqrt{\\frac{EI}{L^{4} \\rho}} \\sqrt{1 - \\psi^{2}} \\sqrt{35 - \\sqrt{505}}}{2} \\right)}}{\\sqrt{1 - \\psi^{2}} \\cdot \\left(3 L \\rho + \\frac{2 L \\rho}{\\left(- \\frac{11}{24} + \\frac{\\sqrt{505}}{24}\\right)^{2}}\\right)} + \\frac{3 L \\rho \\cos{\\left(\\frac{\\sqrt{2} t \\sqrt{\\frac{EI}{L^{4} \\rho}} \\sqrt{1 - \\psi^{2}} \\sqrt{35 - \\sqrt{505}}}{2} \\right)}}{3 L \\rho + \\frac{2 L \\rho}{\\left(- \\frac{11}{24} + \\frac{\\sqrt{505}}{24}\\right)^{2}}}\\right) e^{- \\frac{\\sqrt{2} \\psi t \\sqrt{\\frac{EI}{L^{4} \\rho}} \\sqrt{35 - \\sqrt{505}}}{2}}}{2 \\left(- \\frac{11}{24} + \\frac{\\sqrt{505}}{24}\\right)} - \\frac{\\sqrt{2} \\psi \\sqrt{\\frac{EI}{L^{4} \\rho}} \\sqrt{\\sqrt{505} + 35} \\cdot \\left(\\frac{3 L \\psi \\rho \\sin{\\left(\\frac{\\sqrt{2} t \\sqrt{\\frac{EI}{L^{4} \\rho}} \\sqrt{1 - \\psi^{2}} \\sqrt{\\sqrt{505} + 35}}{2} \\right)}}{\\sqrt{1 - \\psi^{2}} \\cdot \\left(\\frac{2 L \\rho}{\\left(- \\frac{\\sqrt{505}}{24} - \\frac{11}{24}\\right)^{2}} + 3 L \\rho\\right)} + \\frac{3 L \\rho \\cos{\\left(\\frac{\\sqrt{2} t \\sqrt{\\frac{EI}{L^{4} \\rho}} \\sqrt{1 - \\psi^{2}} \\sqrt{\\sqrt{505} + 35}}{2} \\right)}}{\\frac{2 L \\rho}{\\left(- \\frac{\\sqrt{505}}{24} - \\frac{11}{24}\\right)^{2}} + 3 L \\rho}\\right) e^{- \\frac{\\sqrt{2} \\psi t \\sqrt{\\frac{EI}{L^{4} \\rho}} \\sqrt{\\sqrt{505} + 35}}{2}}}{2 \\left(- \\frac{\\sqrt{505}}{24} - \\frac{11}{24}\\right)} + \\frac{\\left(\\frac{3 \\sqrt{2} L \\psi \\rho \\sqrt{\\frac{EI}{L^{4} \\rho}} \\sqrt{35 - \\sqrt{505}} \\cos{\\left(\\frac{\\sqrt{2} t \\sqrt{\\frac{EI}{L^{4} \\rho}} \\sqrt{1 - \\psi^{2}} \\sqrt{35 - \\sqrt{505}}}{2} \\right)}}{2 \\cdot \\left(3 L \\rho + \\frac{2 L \\rho}{\\left(- \\frac{11}{24} + \\frac{\\sqrt{505}}{24}\\right)^{2}}\\right)} - \\frac{3 \\sqrt{2} L \\rho \\sqrt{\\frac{EI}{L^{4} \\rho}} \\sqrt{1 - \\psi^{2}} \\sqrt{35 - \\sqrt{505}} \\sin{\\left(\\frac{\\sqrt{2} t \\sqrt{\\frac{EI}{L^{4} \\rho}} \\sqrt{1 - \\psi^{2}} \\sqrt{35 - \\sqrt{505}}}{2} \\right)}}{2 \\cdot \\left(3 L \\rho + \\frac{2 L \\rho}{\\left(- \\frac{11}{24} + \\frac{\\sqrt{505}}{24}\\right)^{2}}\\right)}\\right) e^{- \\frac{\\sqrt{2} \\psi t \\sqrt{\\frac{EI}{L^{4} \\rho}} \\sqrt{35 - \\sqrt{505}}}{2}}}{- \\frac{11}{24} + \\frac{\\sqrt{505}}{24}} + \\frac{\\left(\\frac{3 \\sqrt{2} L \\psi \\rho \\sqrt{\\frac{EI}{L^{4} \\rho}} \\sqrt{\\sqrt{505} + 35} \\cos{\\left(\\frac{\\sqrt{2} t \\sqrt{\\frac{EI}{L^{4} \\rho}} \\sqrt{1 - \\psi^{2}} \\sqrt{\\sqrt{505} + 35}}{2} \\right)}}{2 \\cdot \\left(\\frac{2 L \\rho}{\\left(- \\frac{\\sqrt{505}}{24} - \\frac{11}{24}\\right)^{2}} + 3 L \\rho\\right)} - \\frac{3 \\sqrt{2} L \\rho \\sqrt{\\frac{EI}{L^{4} \\rho}} \\sqrt{1 - \\psi^{2}} \\sqrt{\\sqrt{505} + 35} \\sin{\\left(\\frac{\\sqrt{2} t \\sqrt{\\frac{EI}{L^{4} \\rho}} \\sqrt{1 - \\psi^{2}} \\sqrt{\\sqrt{505} + 35}}{2} \\right)}}{2 \\cdot \\left(\\frac{2 L \\rho}{\\left(- \\frac{\\sqrt{505}}{24} - \\frac{11}{24}\\right)^{2}} + 3 L \\rho\\right)}\\right) e^{- \\frac{\\sqrt{2} \\psi t \\sqrt{\\frac{EI}{L^{4} \\rho}} \\sqrt{\\sqrt{505} + 35}}{2}}}{- \\frac{\\sqrt{505}}{24} - \\frac{11}{24}}\\end{matrix}\\right]$"
          },
          "metadata": {},
          "execution_count": 53
        }
      ],
      "source": [
        "#Respuesta en velocidad (derivada del desplazamiento con respecto al tiempo)\n",
        "v = diff(u,t)\n",
        "v"
      ]
    },
    {
      "cell_type": "code",
      "source": [
        "#Grafica de la solución del primer gdl\n",
        "t_vec  = np.arange(0, 50, 0.1)\n",
        "if a == 1:  #Solo u1.\n",
        "    v_vec1 = np.array([N(v[0].subs({EI:1,psi:0.1,L:1,rho:1,t:tt})) for tt in t_vec])\n",
        "    v_vec2 = false\n",
        "else:\n",
        "    v_vec1 = np.array([N(v[0].subs({EI:1,psi:0.1,L:1,rho:1,t:tt})) for tt in t_vec])\n",
        "    v_vec2 = np.array([N(v[1].subs({EI:1,psi:0.1,L:1,rho:1,t:tt})) for tt in t_vec])"
      ],
      "metadata": {
        "id": "0Y-AoAsZrckY"
      },
      "execution_count": 54,
      "outputs": []
    },
    {
      "cell_type": "code",
      "source": [
        "if a == 1:  #Solo u1.\n",
        "    plt.plot(t_vec, v_vec1);\n",
        "    plt.show()\n",
        "else:\n",
        "    plt.plot(t_vec, v_vec1);\n",
        "    plt.plot(t_vec, v_vec2);\n",
        "    plt.show()"
      ],
      "metadata": {
        "id": "bXMT-8qGrqtE",
        "colab": {
          "base_uri": "https://localhost:8080/",
          "height": 430
        },
        "outputId": "de186f6b-bffa-4a62-cf3e-c80bd0b719e3"
      },
      "execution_count": 55,
      "outputs": [
        {
          "output_type": "display_data",
          "data": {
            "text/plain": [
              "<Figure size 640x480 with 1 Axes>"
            ],
            "image/png": "[encoded data removed]"
          },
          "metadata": {}
        }
      ]
    },
    {
      "cell_type": "code",
      "execution_count": 56,
      "metadata": {
        "id": "eGqx0p8o4mKa",
        "colab": {
          "base_uri": "https://localhost:8080/",
          "height": 58
        },
        "outputId": "00fa444e-c1a2-4f48-b2dc-85c1d535dd91"
      },
      "outputs": [
        {
          "output_type": "execute_result",
          "data": {
            "text/plain": [
              "⎡cos(ω⋅t)⎤\n",
              "⎢        ⎥\n",
              "⎣   0    ⎦"
            ],
            "text/latex": "$\\displaystyle \\left[\\begin{matrix}\\cos{\\left(\\omega t \\right)}\\\\0\\end{matrix}\\right]$"
          },
          "metadata": {},
          "execution_count": 56
        }
      ],
      "source": [
        "#Respuesta bajo una carga armónica aplicada en el gdl 1\n",
        "if a == 1:  #Solo u1.\n",
        "    p=Matrix([[cos(omega*t)]])\n",
        "else:\n",
        "    p=Matrix([[cos(omega*t)],[0]])\n",
        "p"
      ]
    },
    {
      "cell_type": "code",
      "execution_count": 57,
      "metadata": {
        "id": "xLtgrsSG4mKb",
        "colab": {
          "base_uri": "https://localhost:8080/",
          "height": 39
        },
        "outputId": "73c4675e-2a11-4271-895d-8798f5c5add1"
      },
      "outputs": [
        {
          "output_type": "execute_result",
          "data": {
            "text/plain": [
              "cos(ω⋅t)"
            ],
            "text/latex": "$\\displaystyle \\cos{\\left(\\omega t \\right)}$"
          },
          "metadata": {},
          "execution_count": 57
        }
      ],
      "source": [
        "#Carga asociada al primer modo\n",
        "p1=V1.transpose()*p\n",
        "p1=p1[0]\n",
        "simplify(p1)"
      ]
    },
    {
      "cell_type": "code",
      "execution_count": 58,
      "metadata": {
        "id": "Hs7msLHQ4mKb",
        "colab": {
          "base_uri": "https://localhost:8080/",
          "height": 39
        },
        "outputId": "b01d88b0-e33a-4d77-9e05-e0f16b51ff70"
      },
      "outputs": [
        {
          "output_type": "execute_result",
          "data": {
            "text/plain": [
              "cos(ω⋅t)"
            ],
            "text/latex": "$\\displaystyle \\cos{\\left(\\omega t \\right)}$"
          },
          "metadata": {},
          "execution_count": 58
        }
      ],
      "source": [
        "#Carga asociada al segundo modo\n",
        "if a != 1:\n",
        "    p2=V2.transpose()*p\n",
        "    p2=p2[0]\n",
        "else:\n",
        "    p2 = false\n",
        "simplify(p2)"
      ]
    },
    {
      "cell_type": "code",
      "execution_count": 59,
      "metadata": {
        "id": "deyLoix74mKb",
        "colab": {
          "base_uri": "https://localhost:8080/",
          "height": 94
        },
        "outputId": "dce40b6d-2db4-4781-a40c-6e0f8992070b"
      },
      "outputs": [
        {
          "output_type": "execute_result",
          "data": {
            "text/plain": [
              "                   ⎛                                             ______       \n",
              "    3            2 ⎜                         7/2                ╱  EI         \n",
              "   L ⋅(11 - √505) ⋅⎜- 2⋅√2⋅EI⋅ω⋅ψ⋅(35 - √505)   ⋅cos(ω⋅t) +    ╱  ──── ⋅(35 - \n",
              "                   ⎜                                          ╱    4          \n",
              "                   ⎝                                        ╲╱    L ⋅ρ        \n",
              "──────────────────────────────────────────────────────────────────────────────\n",
              "       ______              ⎛                                                  \n",
              "      ╱  EI              2 ⎜      4  2  2                 ⎛                   \n",
              "3⋅   ╱  ──── ⋅(35 - √505) ⋅⎝8⋅EI⋅L ⋅ω ⋅ψ ⋅ρ⋅(35 - √505) + ⎝EI⋅(35 - √505) - 2⋅\n",
              "    ╱    4                                                                    \n",
              "  ╲╱    L ⋅ρ                                                                  \n",
              "\n",
              "                                            ⎞  \n",
              "     3 ⎛                    4  2  ⎞         ⎟  \n",
              "√505) ⋅⎝EI⋅(35 - √505) - 2⋅L ⋅ω ⋅ρ⎠⋅sin(ω⋅t)⎟  \n",
              "                                            ⎟  \n",
              "                                            ⎠  \n",
              "───────────────────────────────────────────────\n",
              "        2⎞                                     \n",
              " 4  2  ⎞ ⎟ ⎛                          2       ⎞\n",
              "L ⋅ω ⋅ρ⎠ ⎠⋅⎝-384⋅√505 + 23⋅(11 - √505)  + 8832⎠\n",
              "                                               \n",
              "                                               "
            ],
            "text/latex": "$\\displaystyle \\frac{L^{3} \\left(11 - \\sqrt{505}\\right)^{2} \\left(- 2 \\sqrt{2} EI \\omega \\psi \\left(35 - \\sqrt{505}\\right)^{\\frac{7}{2}} \\cos{\\left(\\omega t \\right)} + \\sqrt{\\frac{EI}{L^{4} \\rho}} \\left(35 - \\sqrt{505}\\right)^{3} \\left(EI \\left(35 - \\sqrt{505}\\right) - 2 L^{4} \\omega^{2} \\rho\\right) \\sin{\\left(\\omega t \\right)}\\right)}{3 \\sqrt{\\frac{EI}{L^{4} \\rho}} \\left(35 - \\sqrt{505}\\right)^{2} \\cdot \\left(8 EI L^{4} \\omega^{2} \\psi^{2} \\rho \\left(35 - \\sqrt{505}\\right) + \\left(EI \\left(35 - \\sqrt{505}\\right) - 2 L^{4} \\omega^{2} \\rho\\right)^{2}\\right) \\left(- 384 \\sqrt{505} + 23 \\left(11 - \\sqrt{505}\\right)^{2} + 8832\\right)}$"
          },
          "metadata": {},
          "execution_count": 59
        }
      ],
      "source": [
        "#Respuesta del primer modo\n",
        "omega1=sqrt(freq1)\n",
        "omega1d = omega1*sqrt(1-psi**2)\n",
        "beta1=omega/omega1\n",
        "p1a=p1/cos(omega*t)\n",
        "q1=p1a/K1*((1-beta1**2)/((1-beta1**2)**2+(2*psi*beta1)**2)*sin(omega*t)-2*psi*beta1/((1-beta1**2)**2+(2*psi*beta1)**2)*cos(omega*t))\n",
        "q1=simplify(q1)\n",
        "q1"
      ]
    },
    {
      "cell_type": "code",
      "execution_count": 60,
      "metadata": {
        "id": "2ZvGPFO74mKc",
        "colab": {
          "base_uri": "https://localhost:8080/",
          "height": 94
        },
        "outputId": "1a90d7a7-f515-4aff-ebb0-1fd9a46b2d95"
      },
      "outputs": [
        {
          "output_type": "execute_result",
          "data": {
            "text/plain": [
              "                  ⎛                                             ______        \n",
              "   3            2 ⎜                         7/2                ╱  EI          \n",
              "  L ⋅(11 + √505) ⋅⎜- 2⋅√2⋅EI⋅ω⋅ψ⋅(√505 + 35)   ⋅cos(ω⋅t) +    ╱  ──── ⋅(√505 +\n",
              "                  ⎜                                          ╱    4           \n",
              "                  ⎝                                        ╲╱    L ⋅ρ         \n",
              "──────────────────────────────────────────────────────────────────────────────\n",
              "       ______              ⎛                                                  \n",
              "      ╱  EI              2 ⎜      4  2  2                 ⎛                   \n",
              "3⋅   ╱  ──── ⋅(√505 + 35) ⋅⎝8⋅EI⋅L ⋅ω ⋅ψ ⋅ρ⋅(√505 + 35) + ⎝EI⋅(√505 + 35) - 2⋅\n",
              "    ╱    4                                                                    \n",
              "  ╲╱    L ⋅ρ                                                                  \n",
              "\n",
              "                                           ⎞  \n",
              "    3 ⎛                    4  2  ⎞         ⎟  \n",
              " 35) ⋅⎝EI⋅(√505 + 35) - 2⋅L ⋅ω ⋅ρ⎠⋅sin(ω⋅t)⎟  \n",
              "                                           ⎟  \n",
              "                                           ⎠  \n",
              "──────────────────────────────────────────────\n",
              "        2⎞                                    \n",
              " 4  2  ⎞ ⎟ ⎛                                2⎞\n",
              "L ⋅ω ⋅ρ⎠ ⎠⋅⎝384⋅√505 + 8832 + 23⋅(11 + √505) ⎠\n",
              "                                              \n",
              "                                              "
            ],
            "text/latex": "$\\displaystyle \\frac{L^{3} \\left(11 + \\sqrt{505}\\right)^{2} \\left(- 2 \\sqrt{2} EI \\omega \\psi \\left(\\sqrt{505} + 35\\right)^{\\frac{7}{2}} \\cos{\\left(\\omega t \\right)} + \\sqrt{\\frac{EI}{L^{4} \\rho}} \\left(\\sqrt{505} + 35\\right)^{3} \\left(EI \\left(\\sqrt{505} + 35\\right) - 2 L^{4} \\omega^{2} \\rho\\right) \\sin{\\left(\\omega t \\right)}\\right)}{3 \\sqrt{\\frac{EI}{L^{4} \\rho}} \\left(\\sqrt{505} + 35\\right)^{2} \\cdot \\left(8 EI L^{4} \\omega^{2} \\psi^{2} \\rho \\left(\\sqrt{505} + 35\\right) + \\left(EI \\left(\\sqrt{505} + 35\\right) - 2 L^{4} \\omega^{2} \\rho\\right)^{2}\\right) \\left(384 \\sqrt{505} + 8832 + 23 \\left(11 + \\sqrt{505}\\right)^{2}\\right)}$"
          },
          "metadata": {},
          "execution_count": 60
        }
      ],
      "source": [
        "if a != 1:\n",
        "    omega2=sqrt(freq2)\n",
        "    omega2d = omega2*sqrt(1-psi**2)\n",
        "    beta2=omega/omega2\n",
        "    p2a=p2/cos(omega*t)\n",
        "    q2=p2a/K2*((1-beta2**2)/((1-beta2**2)**2+(2*psi*beta2)**2)*sin(omega*t)-2*psi*beta2/((1-beta2**2)**2+(2*psi*beta2)**2)*cos(omega*t))\n",
        "else:\n",
        "    q2 = false\n",
        "simplify(q2)"
      ]
    },
    {
      "cell_type": "code",
      "execution_count": 61,
      "metadata": {
        "id": "9DKQ6UcL4mKc",
        "colab": {
          "base_uri": "https://localhost:8080/",
          "height": 355
        },
        "outputId": "a33fef4c-0950-4ce0-8064-1dbec3378542"
      },
      "outputs": [
        {
          "output_type": "error",
          "ename": "KeyboardInterrupt",
          "evalue": "",
          "traceback": [
            "\u001b[0;31m---------------------------------------------------------------------------\u001b[0m",
            "\u001b[0;31mKeyboardInterrupt\u001b[0m                         Traceback (most recent call last)",
            "\u001b[0;32m<ipython-input-61-6d940dd77aa1>\u001b[0m in \u001b[0;36m<cell line: 5>\u001b[0;34m()\u001b[0m\n\u001b[1;32m      3\u001b[0m \u001b[0;32melse\u001b[0m\u001b[0;34m:\u001b[0m\u001b[0;34m\u001b[0m\u001b[0;34m\u001b[0m\u001b[0m\n\u001b[1;32m      4\u001b[0m     \u001b[0mu\u001b[0m \u001b[0;34m=\u001b[0m \u001b[0mV1\u001b[0m\u001b[0;34m*\u001b[0m\u001b[0mq1\u001b[0m\u001b[0;34m\u001b[0m\u001b[0;34m\u001b[0m\u001b[0m\n\u001b[0;32m----> 5\u001b[0;31m \u001b[0msimplify\u001b[0m\u001b[0;34m(\u001b[0m\u001b[0mu\u001b[0m\u001b[0;34m)\u001b[0m\u001b[0;34m\u001b[0m\u001b[0;34m\u001b[0m\u001b[0m\n\u001b[0m",
            "\u001b[0;32m/usr/local/lib/python3.10/dist-packages/sympy/simplify/simplify.py\u001b[0m in \u001b[0;36msimplify\u001b[0;34m(expr, ratio, measure, rational, inverse, doit, **kwargs)\u001b[0m\n\u001b[1;32m    599\u001b[0m     \u001b[0m_eval_simplify\u001b[0m \u001b[0;34m=\u001b[0m \u001b[0mgetattr\u001b[0m\u001b[0;34m(\u001b[0m\u001b[0mexpr\u001b[0m\u001b[0;34m,\u001b[0m \u001b[0;34m'_eval_simplify'\u001b[0m\u001b[0;34m,\u001b[0m \u001b[0;32mNone\u001b[0m\u001b[0;34m)\u001b[0m\u001b[0;34m\u001b[0m\u001b[0;34m\u001b[0m\u001b[0m\n\u001b[1;32m    600\u001b[0m     \u001b[0;32mif\u001b[0m \u001b[0m_eval_simplify\u001b[0m \u001b[0;32mis\u001b[0m \u001b[0;32mnot\u001b[0m \u001b[0;32mNone\u001b[0m\u001b[0;34m:\u001b[0m\u001b[0;34m\u001b[0m\u001b[0;34m\u001b[0m\u001b[0m\n\u001b[0;32m--> 601\u001b[0;31m         \u001b[0;32mreturn\u001b[0m \u001b[0m_eval_simplify\u001b[0m\u001b[0;34m(\u001b[0m\u001b[0;34m**\u001b[0m\u001b[0mkwargs\u001b[0m\u001b[0;34m)\u001b[0m\u001b[0;34m\u001b[0m\u001b[0;34m\u001b[0m\u001b[0m\n\u001b[0m\u001b[1;32m    602\u001b[0m \u001b[0;34m\u001b[0m\u001b[0m\n\u001b[1;32m    603\u001b[0m     \u001b[0moriginal_expr\u001b[0m \u001b[0;34m=\u001b[0m \u001b[0mexpr\u001b[0m \u001b[0;34m=\u001b[0m \u001b[0mcollect_abs\u001b[0m\u001b[0;34m(\u001b[0m\u001b[0msignsimp\u001b[0m\u001b[0;34m(\u001b[0m\u001b[0mexpr\u001b[0m\u001b[0;34m)\u001b[0m\u001b[0;34m)\u001b[0m\u001b[0;34m\u001b[0m\u001b[0;34m\u001b[0m\u001b[0m\n",
            "\u001b[0;32m/usr/local/lib/python3.10/dist-packages/sympy/matrices/common.py\u001b[0m in \u001b[0;36m_eval_simplify\u001b[0;34m(self, **kwargs)\u001b[0m\n\u001b[1;32m   2444\u001b[0m         \u001b[0;31m# XXX: We can't use self.simplify here as mutable subclasses will\u001b[0m\u001b[0;34m\u001b[0m\u001b[0;34m\u001b[0m\u001b[0m\n\u001b[1;32m   2445\u001b[0m         \u001b[0;31m# override simplify and have it return None\u001b[0m\u001b[0;34m\u001b[0m\u001b[0;34m\u001b[0m\u001b[0m\n\u001b[0;32m-> 2446\u001b[0;31m         \u001b[0;32mreturn\u001b[0m \u001b[0mMatrixOperations\u001b[0m\u001b[0;34m.\u001b[0m\u001b[0msimplify\u001b[0m\u001b[0;34m(\u001b[0m\u001b[0mself\u001b[0m\u001b[0;34m,\u001b[0m \u001b[0;34m**\u001b[0m\u001b[0mkwargs\u001b[0m\u001b[0;34m)\u001b[0m\u001b[0;34m\u001b[0m\u001b[0;34m\u001b[0m\u001b[0m\n\u001b[0m\u001b[1;32m   2447\u001b[0m \u001b[0;34m\u001b[0m\u001b[0m\n\u001b[1;32m   2448\u001b[0m     \u001b[0;32mdef\u001b[0m \u001b[0m_eval_trigsimp\u001b[0m\u001b[0;34m(\u001b[0m\u001b[0mself\u001b[0m\u001b[0;34m,\u001b[0m \u001b[0;34m**\u001b[0m\u001b[0mopts\u001b[0m\u001b[0;34m)\u001b[0m\u001b[0;34m:\u001b[0m\u001b[0;34m\u001b[0m\u001b[0;34m\u001b[0m\u001b[0m\n",
            "\u001b[0;32m/usr/local/lib/python3.10/dist-packages/sympy/matrices/common.py\u001b[0m in \u001b[0;36msimplify\u001b[0;34m(self, **kwargs)\u001b[0m\n\u001b[1;32m   2334\u001b[0m         \u001b[0mMatrix\u001b[0m\u001b[0;34m(\u001b[0m\u001b[0;34m[\u001b[0m\u001b[0;34m[\u001b[0m\u001b[0mx\u001b[0m\u001b[0;34m]\u001b[0m\u001b[0;34m]\u001b[0m\u001b[0;34m)\u001b[0m\u001b[0;34m\u001b[0m\u001b[0;34m\u001b[0m\u001b[0m\n\u001b[1;32m   2335\u001b[0m         \"\"\"\n\u001b[0;32m-> 2336\u001b[0;31m         \u001b[0;32mreturn\u001b[0m \u001b[0mself\u001b[0m\u001b[0;34m.\u001b[0m\u001b[0mapplyfunc\u001b[0m\u001b[0;34m(\u001b[0m\u001b[0;32mlambda\u001b[0m \u001b[0mx\u001b[0m\u001b[0;34m:\u001b[0m \u001b[0mx\u001b[0m\u001b[0;34m.\u001b[0m\u001b[0msimplify\u001b[0m\u001b[0;34m(\u001b[0m\u001b[0;34m**\u001b[0m\u001b[0mkwargs\u001b[0m\u001b[0;34m)\u001b[0m\u001b[0;34m)\u001b[0m\u001b[0;34m\u001b[0m\u001b[0;34m\u001b[0m\u001b[0m\n\u001b[0m\u001b[1;32m   2337\u001b[0m \u001b[0;34m\u001b[0m\u001b[0m\n\u001b[1;32m   2338\u001b[0m     \u001b[0;32mdef\u001b[0m \u001b[0msubs\u001b[0m\u001b[0;34m(\u001b[0m\u001b[0mself\u001b[0m\u001b[0;34m,\u001b[0m \u001b[0;34m*\u001b[0m\u001b[0margs\u001b[0m\u001b[0;34m,\u001b[0m \u001b[0;34m**\u001b[0m\u001b[0mkwargs\u001b[0m\u001b[0;34m)\u001b[0m\u001b[0;34m:\u001b[0m  \u001b[0;31m# should mirror core.basic.subs\u001b[0m\u001b[0;34m\u001b[0m\u001b[0;34m\u001b[0m\u001b[0m\n",
            "\u001b[0;32m/usr/local/lib/python3.10/dist-packages/sympy/matrices/common.py\u001b[0m in \u001b[0;36mapplyfunc\u001b[0;34m(self, f)\u001b[0m\n\u001b[1;32m   1987\u001b[0m             \u001b[0;32mraise\u001b[0m \u001b[0mTypeError\u001b[0m\u001b[0;34m(\u001b[0m\u001b[0;34m\"`f` must be callable.\"\u001b[0m\u001b[0;34m)\u001b[0m\u001b[0;34m\u001b[0m\u001b[0;34m\u001b[0m\u001b[0m\n\u001b[1;32m   1988\u001b[0m \u001b[0;34m\u001b[0m\u001b[0m\n\u001b[0;32m-> 1989\u001b[0;31m         \u001b[0;32mreturn\u001b[0m \u001b[0mself\u001b[0m\u001b[0;34m.\u001b[0m\u001b[0m_eval_applyfunc\u001b[0m\u001b[0;34m(\u001b[0m\u001b[0mf\u001b[0m\u001b[0;34m)\u001b[0m\u001b[0;34m\u001b[0m\u001b[0;34m\u001b[0m\u001b[0m\n\u001b[0m\u001b[1;32m   1990\u001b[0m \u001b[0;34m\u001b[0m\u001b[0m\n\u001b[1;32m   1991\u001b[0m     \u001b[0;32mdef\u001b[0m \u001b[0mas_real_imag\u001b[0m\u001b[0;34m(\u001b[0m\u001b[0mself\u001b[0m\u001b[0;34m,\u001b[0m \u001b[0mdeep\u001b[0m\u001b[0;34m=\u001b[0m\u001b[0;32mTrue\u001b[0m\u001b[0;34m,\u001b[0m \u001b[0;34m**\u001b[0m\u001b[0mhints\u001b[0m\u001b[0;34m)\u001b[0m\u001b[0;34m:\u001b[0m\u001b[0;34m\u001b[0m\u001b[0;34m\u001b[0m\u001b[0m\n",
            "\u001b[0;32m/usr/local/lib/python3.10/dist-packages/sympy/matrices/common.py\u001b[0m in \u001b[0;36m_eval_applyfunc\u001b[0;34m(self, f)\u001b[0m\n\u001b[1;32m   1929\u001b[0m \u001b[0;34m\u001b[0m\u001b[0m\n\u001b[1;32m   1930\u001b[0m     \u001b[0;32mdef\u001b[0m \u001b[0m_eval_applyfunc\u001b[0m\u001b[0;34m(\u001b[0m\u001b[0mself\u001b[0m\u001b[0;34m,\u001b[0m \u001b[0mf\u001b[0m\u001b[0;34m)\u001b[0m\u001b[0;34m:\u001b[0m\u001b[0;34m\u001b[0m\u001b[0;34m\u001b[0m\u001b[0m\n\u001b[0;32m-> 1931\u001b[0;31m         \u001b[0mout\u001b[0m \u001b[0;34m=\u001b[0m \u001b[0mself\u001b[0m\u001b[0;34m.\u001b[0m\u001b[0m_new\u001b[0m\u001b[0;34m(\u001b[0m\u001b[0mself\u001b[0m\u001b[0;34m.\u001b[0m\u001b[0mrows\u001b[0m\u001b[0;34m,\u001b[0m \u001b[0mself\u001b[0m\u001b[0;34m.\u001b[0m\u001b[0mcols\u001b[0m\u001b[0;34m,\u001b[0m \u001b[0;34m[\u001b[0m\u001b[0mf\u001b[0m\u001b[0;34m(\u001b[0m\u001b[0mx\u001b[0m\u001b[0;34m)\u001b[0m \u001b[0;32mfor\u001b[0m \u001b[0mx\u001b[0m \u001b[0;32min\u001b[0m \u001b[0mself\u001b[0m\u001b[0;34m]\u001b[0m\u001b[0;34m)\u001b[0m\u001b[0;34m\u001b[0m\u001b[0;34m\u001b[0m\u001b[0m\n\u001b[0m\u001b[1;32m   1932\u001b[0m         \u001b[0;32mreturn\u001b[0m \u001b[0mout\u001b[0m\u001b[0;34m\u001b[0m\u001b[0;34m\u001b[0m\u001b[0m\n\u001b[1;32m   1933\u001b[0m \u001b[0;34m\u001b[0m\u001b[0m\n",
            "\u001b[0;32m/usr/local/lib/python3.10/dist-packages/sympy/matrices/common.py\u001b[0m in \u001b[0;36m<listcomp>\u001b[0;34m(.0)\u001b[0m\n\u001b[1;32m   1929\u001b[0m \u001b[0;34m\u001b[0m\u001b[0m\n\u001b[1;32m   1930\u001b[0m     \u001b[0;32mdef\u001b[0m \u001b[0m_eval_applyfunc\u001b[0m\u001b[0;34m(\u001b[0m\u001b[0mself\u001b[0m\u001b[0;34m,\u001b[0m \u001b[0mf\u001b[0m\u001b[0;34m)\u001b[0m\u001b[0;34m:\u001b[0m\u001b[0;34m\u001b[0m\u001b[0;34m\u001b[0m\u001b[0m\n\u001b[0;32m-> 1931\u001b[0;31m         \u001b[0mout\u001b[0m \u001b[0;34m=\u001b[0m \u001b[0mself\u001b[0m\u001b[0;34m.\u001b[0m\u001b[0m_new\u001b[0m\u001b[0;34m(\u001b[0m\u001b[0mself\u001b[0m\u001b[0;34m.\u001b[0m\u001b[0mrows\u001b[0m\u001b[0;34m,\u001b[0m \u001b[0mself\u001b[0m\u001b[0;34m.\u001b[0m\u001b[0mcols\u001b[0m\u001b[0;34m,\u001b[0m \u001b[0;34m[\u001b[0m\u001b[0mf\u001b[0m\u001b[0;34m(\u001b[0m\u001b[0mx\u001b[0m\u001b[0;34m)\u001b[0m \u001b[0;32mfor\u001b[0m \u001b[0mx\u001b[0m \u001b[0;32min\u001b[0m \u001b[0mself\u001b[0m\u001b[0;34m]\u001b[0m\u001b[0;34m)\u001b[0m\u001b[0;34m\u001b[0m\u001b[0;34m\u001b[0m\u001b[0m\n\u001b[0m\u001b[1;32m   1932\u001b[0m         \u001b[0;32mreturn\u001b[0m \u001b[0mout\u001b[0m\u001b[0;34m\u001b[0m\u001b[0;34m\u001b[0m\u001b[0m\n\u001b[1;32m   1933\u001b[0m \u001b[0;34m\u001b[0m\u001b[0m\n",
            "\u001b[0;32m/usr/local/lib/python3.10/dist-packages/sympy/matrices/common.py\u001b[0m in \u001b[0;36m<lambda>\u001b[0;34m(x)\u001b[0m\n\u001b[1;32m   2334\u001b[0m         \u001b[0mMatrix\u001b[0m\u001b[0;34m(\u001b[0m\u001b[0;34m[\u001b[0m\u001b[0;34m[\u001b[0m\u001b[0mx\u001b[0m\u001b[0;34m]\u001b[0m\u001b[0;34m]\u001b[0m\u001b[0;34m)\u001b[0m\u001b[0;34m\u001b[0m\u001b[0;34m\u001b[0m\u001b[0m\n\u001b[1;32m   2335\u001b[0m         \"\"\"\n\u001b[0;32m-> 2336\u001b[0;31m         \u001b[0;32mreturn\u001b[0m \u001b[0mself\u001b[0m\u001b[0;34m.\u001b[0m\u001b[0mapplyfunc\u001b[0m\u001b[0;34m(\u001b[0m\u001b[0;32mlambda\u001b[0m \u001b[0mx\u001b[0m\u001b[0;34m:\u001b[0m \u001b[0mx\u001b[0m\u001b[0;34m.\u001b[0m\u001b[0msimplify\u001b[0m\u001b[0;34m(\u001b[0m\u001b[0;34m**\u001b[0m\u001b[0mkwargs\u001b[0m\u001b[0;34m)\u001b[0m\u001b[0;34m)\u001b[0m\u001b[0;34m\u001b[0m\u001b[0;34m\u001b[0m\u001b[0m\n\u001b[0m\u001b[1;32m   2337\u001b[0m \u001b[0;34m\u001b[0m\u001b[0m\n\u001b[1;32m   2338\u001b[0m     \u001b[0;32mdef\u001b[0m \u001b[0msubs\u001b[0m\u001b[0;34m(\u001b[0m\u001b[0mself\u001b[0m\u001b[0;34m,\u001b[0m \u001b[0;34m*\u001b[0m\u001b[0margs\u001b[0m\u001b[0;34m,\u001b[0m \u001b[0;34m**\u001b[0m\u001b[0mkwargs\u001b[0m\u001b[0;34m)\u001b[0m\u001b[0;34m:\u001b[0m  \u001b[0;31m# should mirror core.basic.subs\u001b[0m\u001b[0;34m\u001b[0m\u001b[0;34m\u001b[0m\u001b[0m\n",
            "\u001b[0;32m/usr/local/lib/python3.10/dist-packages/sympy/core/basic.py\u001b[0m in \u001b[0;36msimplify\u001b[0;34m(self, **kwargs)\u001b[0m\n\u001b[1;32m   1851\u001b[0m         \u001b[0;34m\"\"\"See the simplify function in sympy.simplify\"\"\"\u001b[0m\u001b[0;34m\u001b[0m\u001b[0;34m\u001b[0m\u001b[0m\n\u001b[1;32m   1852\u001b[0m         \u001b[0;32mfrom\u001b[0m \u001b[0msympy\u001b[0m\u001b[0;34m.\u001b[0m\u001b[0msimplify\u001b[0m\u001b[0;34m.\u001b[0m\u001b[0msimplify\u001b[0m \u001b[0;32mimport\u001b[0m \u001b[0msimplify\u001b[0m\u001b[0;34m\u001b[0m\u001b[0;34m\u001b[0m\u001b[0m\n\u001b[0;32m-> 1853\u001b[0;31m         \u001b[0;32mreturn\u001b[0m \u001b[0msimplify\u001b[0m\u001b[0;34m(\u001b[0m\u001b[0mself\u001b[0m\u001b[0;34m,\u001b[0m \u001b[0;34m**\u001b[0m\u001b[0mkwargs\u001b[0m\u001b[0;34m)\u001b[0m\u001b[0;34m\u001b[0m\u001b[0;34m\u001b[0m\u001b[0m\n\u001b[0m\u001b[1;32m   1854\u001b[0m \u001b[0;34m\u001b[0m\u001b[0m\n\u001b[1;32m   1855\u001b[0m     \u001b[0;32mdef\u001b[0m \u001b[0mrefine\u001b[0m\u001b[0;34m(\u001b[0m\u001b[0mself\u001b[0m\u001b[0;34m,\u001b[0m \u001b[0massumption\u001b[0m\u001b[0;34m=\u001b[0m\u001b[0;32mTrue\u001b[0m\u001b[0;34m)\u001b[0m\u001b[0;34m:\u001b[0m\u001b[0;34m\u001b[0m\u001b[0;34m\u001b[0m\u001b[0m\n",
            "\u001b[0;32m/usr/local/lib/python3.10/dist-packages/sympy/simplify/simplify.py\u001b[0m in \u001b[0;36msimplify\u001b[0;34m(expr, ratio, measure, rational, inverse, doit, **kwargs)\u001b[0m\n\u001b[1;32m    697\u001b[0m \u001b[0;34m\u001b[0m\u001b[0m\n\u001b[1;32m    698\u001b[0m     \u001b[0;32mif\u001b[0m \u001b[0mexpr\u001b[0m\u001b[0;34m.\u001b[0m\u001b[0mhas\u001b[0m\u001b[0;34m(\u001b[0m\u001b[0mTrigonometricFunction\u001b[0m\u001b[0;34m,\u001b[0m \u001b[0mHyperbolicFunction\u001b[0m\u001b[0;34m)\u001b[0m\u001b[0;34m:\u001b[0m\u001b[0;34m\u001b[0m\u001b[0;34m\u001b[0m\u001b[0m\n\u001b[0;32m--> 699\u001b[0;31m         \u001b[0mexpr\u001b[0m \u001b[0;34m=\u001b[0m \u001b[0mtrigsimp\u001b[0m\u001b[0;34m(\u001b[0m\u001b[0mexpr\u001b[0m\u001b[0;34m,\u001b[0m \u001b[0mdeep\u001b[0m\u001b[0;34m=\u001b[0m\u001b[0;32mTrue\u001b[0m\u001b[0;34m)\u001b[0m\u001b[0;34m\u001b[0m\u001b[0;34m\u001b[0m\u001b[0m\n\u001b[0m\u001b[1;32m    700\u001b[0m \u001b[0;34m\u001b[0m\u001b[0m\n\u001b[1;32m    701\u001b[0m     \u001b[0;32mif\u001b[0m \u001b[0mexpr\u001b[0m\u001b[0;34m.\u001b[0m\u001b[0mhas\u001b[0m\u001b[0;34m(\u001b[0m\u001b[0mlog\u001b[0m\u001b[0;34m)\u001b[0m\u001b[0;34m:\u001b[0m\u001b[0;34m\u001b[0m\u001b[0;34m\u001b[0m\u001b[0m\n",
            "\u001b[0;32m/usr/local/lib/python3.10/dist-packages/sympy/simplify/trigsimp.py\u001b[0m in \u001b[0;36mtrigsimp\u001b[0;34m(expr, inverse, **opts)\u001b[0m\n\u001b[1;32m    562\u001b[0m                    }[method]\n\u001b[1;32m    563\u001b[0m \u001b[0;34m\u001b[0m\u001b[0m\n\u001b[0;32m--> 564\u001b[0;31m     \u001b[0mexpr_simplified\u001b[0m \u001b[0;34m=\u001b[0m \u001b[0mtrigsimpfunc\u001b[0m\u001b[0;34m(\u001b[0m\u001b[0mexpr\u001b[0m\u001b[0;34m)\u001b[0m\u001b[0;34m\u001b[0m\u001b[0;34m\u001b[0m\u001b[0m\n\u001b[0m\u001b[1;32m    565\u001b[0m     \u001b[0;32mif\u001b[0m \u001b[0minverse\u001b[0m\u001b[0;34m:\u001b[0m\u001b[0;34m\u001b[0m\u001b[0;34m\u001b[0m\u001b[0m\n\u001b[1;32m    566\u001b[0m         \u001b[0mexpr_simplified\u001b[0m \u001b[0;34m=\u001b[0m \u001b[0m_trigsimp_inverse\u001b[0m\u001b[0;34m(\u001b[0m\u001b[0mexpr_simplified\u001b[0m\u001b[0;34m)\u001b[0m\u001b[0;34m\u001b[0m\u001b[0;34m\u001b[0m\u001b[0m\n",
            "\u001b[0;32m/usr/local/lib/python3.10/dist-packages/sympy/simplify/trigsimp.py\u001b[0m in \u001b[0;36m<lambda>\u001b[0;34m(x)\u001b[0m\n\u001b[1;32m    555\u001b[0m     trigsimpfunc = {\n\u001b[1;32m    556\u001b[0m         \u001b[0;34m'fu'\u001b[0m\u001b[0;34m:\u001b[0m \u001b[0;34m(\u001b[0m\u001b[0;32mlambda\u001b[0m \u001b[0mx\u001b[0m\u001b[0;34m:\u001b[0m \u001b[0mfu\u001b[0m\u001b[0;34m(\u001b[0m\u001b[0mx\u001b[0m\u001b[0;34m,\u001b[0m \u001b[0;34m**\u001b[0m\u001b[0mopts\u001b[0m\u001b[0;34m)\u001b[0m\u001b[0;34m)\u001b[0m\u001b[0;34m,\u001b[0m\u001b[0;34m\u001b[0m\u001b[0;34m\u001b[0m\u001b[0m\n\u001b[0;32m--> 557\u001b[0;31m         \u001b[0;34m'matching'\u001b[0m\u001b[0;34m:\u001b[0m \u001b[0;34m(\u001b[0m\u001b[0;32mlambda\u001b[0m \u001b[0mx\u001b[0m\u001b[0;34m:\u001b[0m \u001b[0mfutrig\u001b[0m\u001b[0;34m(\u001b[0m\u001b[0mx\u001b[0m\u001b[0;34m)\u001b[0m\u001b[0;34m)\u001b[0m\u001b[0;34m,\u001b[0m\u001b[0;34m\u001b[0m\u001b[0;34m\u001b[0m\u001b[0m\n\u001b[0m\u001b[1;32m    558\u001b[0m         \u001b[0;34m'groebner'\u001b[0m\u001b[0;34m:\u001b[0m \u001b[0;34m(\u001b[0m\u001b[0;32mlambda\u001b[0m \u001b[0mx\u001b[0m\u001b[0;34m:\u001b[0m \u001b[0mgroebnersimp\u001b[0m\u001b[0;34m(\u001b[0m\u001b[0mx\u001b[0m\u001b[0;34m,\u001b[0m \u001b[0;34m**\u001b[0m\u001b[0mopts\u001b[0m\u001b[0;34m)\u001b[0m\u001b[0;34m)\u001b[0m\u001b[0;34m,\u001b[0m\u001b[0;34m\u001b[0m\u001b[0;34m\u001b[0m\u001b[0m\n\u001b[1;32m    559\u001b[0m         'combined': (lambda x: futrig(groebnersimp(x,\n",
            "\u001b[0;32m/usr/local/lib/python3.10/dist-packages/sympy/simplify/trigsimp.py\u001b[0m in \u001b[0;36mfutrig\u001b[0;34m(e, hyper, **kwargs)\u001b[0m\n\u001b[1;32m   1156\u001b[0m \u001b[0;34m\u001b[0m\u001b[0m\n\u001b[1;32m   1157\u001b[0m     \u001b[0mold\u001b[0m \u001b[0;34m=\u001b[0m \u001b[0me\u001b[0m\u001b[0;34m\u001b[0m\u001b[0;34m\u001b[0m\u001b[0m\n\u001b[0;32m-> 1158\u001b[0;31m     \u001b[0me\u001b[0m \u001b[0;34m=\u001b[0m \u001b[0mbottom_up\u001b[0m\u001b[0;34m(\u001b[0m\u001b[0me\u001b[0m\u001b[0;34m,\u001b[0m \u001b[0m_futrig\u001b[0m\u001b[0;34m)\u001b[0m\u001b[0;34m\u001b[0m\u001b[0;34m\u001b[0m\u001b[0m\n\u001b[0m\u001b[1;32m   1159\u001b[0m \u001b[0;34m\u001b[0m\u001b[0m\n\u001b[1;32m   1160\u001b[0m     \u001b[0;32mif\u001b[0m \u001b[0mhyper\u001b[0m \u001b[0;32mand\u001b[0m \u001b[0me\u001b[0m\u001b[0;34m.\u001b[0m\u001b[0mhas\u001b[0m\u001b[0;34m(\u001b[0m\u001b[0mHyperbolicFunction\u001b[0m\u001b[0;34m)\u001b[0m\u001b[0;34m:\u001b[0m\u001b[0;34m\u001b[0m\u001b[0;34m\u001b[0m\u001b[0m\n",
            "\u001b[0;32m/usr/local/lib/python3.10/dist-packages/sympy/core/traversal.py\u001b[0m in \u001b[0;36mbottom_up\u001b[0;34m(rv, F, atoms, nonbasic)\u001b[0m\n\u001b[1;32m    237\u001b[0m             \u001b[0;32mif\u001b[0m \u001b[0margs\u001b[0m \u001b[0;34m!=\u001b[0m \u001b[0mrv\u001b[0m\u001b[0;34m.\u001b[0m\u001b[0margs\u001b[0m\u001b[0;34m:\u001b[0m\u001b[0;34m\u001b[0m\u001b[0;34m\u001b[0m\u001b[0m\n\u001b[1;32m    238\u001b[0m                 \u001b[0mrv\u001b[0m \u001b[0;34m=\u001b[0m \u001b[0mrv\u001b[0m\u001b[0;34m.\u001b[0m\u001b[0mfunc\u001b[0m\u001b[0;34m(\u001b[0m\u001b[0;34m*\u001b[0m\u001b[0margs\u001b[0m\u001b[0;34m)\u001b[0m\u001b[0;34m\u001b[0m\u001b[0;34m\u001b[0m\u001b[0m\n\u001b[0;32m--> 239\u001b[0;31m             \u001b[0mrv\u001b[0m \u001b[0;34m=\u001b[0m \u001b[0mF\u001b[0m\u001b[0;34m(\u001b[0m\u001b[0mrv\u001b[0m\u001b[0;34m)\u001b[0m\u001b[0;34m\u001b[0m\u001b[0;34m\u001b[0m\u001b[0m\n\u001b[0m\u001b[1;32m    240\u001b[0m         \u001b[0;32melif\u001b[0m \u001b[0matoms\u001b[0m\u001b[0;34m:\u001b[0m\u001b[0;34m\u001b[0m\u001b[0;34m\u001b[0m\u001b[0m\n\u001b[1;32m    241\u001b[0m             \u001b[0mrv\u001b[0m \u001b[0;34m=\u001b[0m \u001b[0mF\u001b[0m\u001b[0;34m(\u001b[0m\u001b[0mrv\u001b[0m\u001b[0;34m)\u001b[0m\u001b[0;34m\u001b[0m\u001b[0;34m\u001b[0m\u001b[0m\n",
            "\u001b[0;32m/usr/local/lib/python3.10/dist-packages/sympy/simplify/trigsimp.py\u001b[0m in \u001b[0;36m_futrig\u001b[0;34m(e)\u001b[0m\n\u001b[1;32m   1223\u001b[0m             factor_terms, TR12(x), trigs)],  # expand tan of sum\n\u001b[1;32m   1224\u001b[0m         )]\n\u001b[0;32m-> 1225\u001b[0;31m     \u001b[0me\u001b[0m \u001b[0;34m=\u001b[0m \u001b[0mgreedy\u001b[0m\u001b[0;34m(\u001b[0m\u001b[0mtree\u001b[0m\u001b[0;34m,\u001b[0m \u001b[0mobjective\u001b[0m\u001b[0;34m=\u001b[0m\u001b[0mLops\u001b[0m\u001b[0;34m)\u001b[0m\u001b[0;34m(\u001b[0m\u001b[0me\u001b[0m\u001b[0;34m)\u001b[0m\u001b[0;34m\u001b[0m\u001b[0;34m\u001b[0m\u001b[0m\n\u001b[0m\u001b[1;32m   1226\u001b[0m \u001b[0;34m\u001b[0m\u001b[0m\n\u001b[1;32m   1227\u001b[0m     \u001b[0;32mif\u001b[0m \u001b[0mcoeff\u001b[0m \u001b[0;32mis\u001b[0m \u001b[0;32mnot\u001b[0m \u001b[0;32mNone\u001b[0m\u001b[0;34m:\u001b[0m\u001b[0;34m\u001b[0m\u001b[0;34m\u001b[0m\u001b[0m\n",
            "\u001b[0;32m/usr/local/lib/python3.10/dist-packages/sympy/strategies/core.py\u001b[0m in \u001b[0;36mminrule\u001b[0;34m(expr)\u001b[0m\n\u001b[1;32m    148\u001b[0m     \"\"\"\n\u001b[1;32m    149\u001b[0m     \u001b[0;32mdef\u001b[0m \u001b[0mminrule\u001b[0m\u001b[0;34m(\u001b[0m\u001b[0mexpr\u001b[0m\u001b[0;34m:\u001b[0m \u001b[0m_S\u001b[0m\u001b[0;34m)\u001b[0m \u001b[0;34m->\u001b[0m \u001b[0m_T\u001b[0m\u001b[0;34m:\u001b[0m\u001b[0;34m\u001b[0m\u001b[0;34m\u001b[0m\u001b[0m\n\u001b[0;32m--> 150\u001b[0;31m         \u001b[0;32mreturn\u001b[0m \u001b[0mmin\u001b[0m\u001b[0;34m(\u001b[0m\u001b[0;34m[\u001b[0m\u001b[0mrule\u001b[0m\u001b[0;34m(\u001b[0m\u001b[0mexpr\u001b[0m\u001b[0;34m)\u001b[0m \u001b[0;32mfor\u001b[0m \u001b[0mrule\u001b[0m \u001b[0;32min\u001b[0m \u001b[0mrules\u001b[0m\u001b[0;34m]\u001b[0m\u001b[0;34m,\u001b[0m \u001b[0mkey\u001b[0m\u001b[0;34m=\u001b[0m\u001b[0mobjective\u001b[0m\u001b[0;34m)\u001b[0m\u001b[0;34m\u001b[0m\u001b[0;34m\u001b[0m\u001b[0m\n\u001b[0m\u001b[1;32m    151\u001b[0m     \u001b[0;32mreturn\u001b[0m \u001b[0mminrule\u001b[0m\u001b[0;34m\u001b[0m\u001b[0;34m\u001b[0m\u001b[0m\n",
            "\u001b[0;32m/usr/local/lib/python3.10/dist-packages/sympy/strategies/core.py\u001b[0m in \u001b[0;36m<listcomp>\u001b[0;34m(.0)\u001b[0m\n\u001b[1;32m    148\u001b[0m     \"\"\"\n\u001b[1;32m    149\u001b[0m     \u001b[0;32mdef\u001b[0m \u001b[0mminrule\u001b[0m\u001b[0;34m(\u001b[0m\u001b[0mexpr\u001b[0m\u001b[0;34m:\u001b[0m \u001b[0m_S\u001b[0m\u001b[0;34m)\u001b[0m \u001b[0;34m->\u001b[0m \u001b[0m_T\u001b[0m\u001b[0;34m:\u001b[0m\u001b[0;34m\u001b[0m\u001b[0;34m\u001b[0m\u001b[0m\n\u001b[0;32m--> 150\u001b[0;31m         \u001b[0;32mreturn\u001b[0m \u001b[0mmin\u001b[0m\u001b[0;34m(\u001b[0m\u001b[0;34m[\u001b[0m\u001b[0mrule\u001b[0m\u001b[0;34m(\u001b[0m\u001b[0mexpr\u001b[0m\u001b[0;34m)\u001b[0m \u001b[0;32mfor\u001b[0m \u001b[0mrule\u001b[0m \u001b[0;32min\u001b[0m \u001b[0mrules\u001b[0m\u001b[0;34m]\u001b[0m\u001b[0;34m,\u001b[0m \u001b[0mkey\u001b[0m\u001b[0;34m=\u001b[0m\u001b[0mobjective\u001b[0m\u001b[0;34m)\u001b[0m\u001b[0;34m\u001b[0m\u001b[0;34m\u001b[0m\u001b[0m\n\u001b[0m\u001b[1;32m    151\u001b[0m     \u001b[0;32mreturn\u001b[0m \u001b[0mminrule\u001b[0m\u001b[0;34m\u001b[0m\u001b[0;34m\u001b[0m\u001b[0m\n",
            "\u001b[0;32m/usr/local/lib/python3.10/dist-packages/sympy/strategies/core.py\u001b[0m in \u001b[0;36mchain_rl\u001b[0;34m(expr)\u001b[0m\n\u001b[1;32m     62\u001b[0m     \u001b[0;32mdef\u001b[0m \u001b[0mchain_rl\u001b[0m\u001b[0;34m(\u001b[0m\u001b[0mexpr\u001b[0m\u001b[0;34m:\u001b[0m \u001b[0m_T\u001b[0m\u001b[0;34m)\u001b[0m \u001b[0;34m->\u001b[0m \u001b[0m_T\u001b[0m\u001b[0;34m:\u001b[0m\u001b[0;34m\u001b[0m\u001b[0;34m\u001b[0m\u001b[0m\n\u001b[1;32m     63\u001b[0m         \u001b[0;32mfor\u001b[0m \u001b[0mrule\u001b[0m \u001b[0;32min\u001b[0m \u001b[0mrules\u001b[0m\u001b[0;34m:\u001b[0m\u001b[0;34m\u001b[0m\u001b[0;34m\u001b[0m\u001b[0m\n\u001b[0;32m---> 64\u001b[0;31m             \u001b[0mexpr\u001b[0m \u001b[0;34m=\u001b[0m \u001b[0mrule\u001b[0m\u001b[0;34m(\u001b[0m\u001b[0mexpr\u001b[0m\u001b[0;34m)\u001b[0m\u001b[0;34m\u001b[0m\u001b[0;34m\u001b[0m\u001b[0m\n\u001b[0m\u001b[1;32m     65\u001b[0m         \u001b[0;32mreturn\u001b[0m \u001b[0mexpr\u001b[0m\u001b[0;34m\u001b[0m\u001b[0;34m\u001b[0m\u001b[0m\n\u001b[1;32m     66\u001b[0m     \u001b[0;32mreturn\u001b[0m \u001b[0mchain_rl\u001b[0m\u001b[0;34m\u001b[0m\u001b[0;34m\u001b[0m\u001b[0m\n",
            "\u001b[0;32m/usr/local/lib/python3.10/dist-packages/sympy/simplify/trigsimp.py\u001b[0m in \u001b[0;36m<lambda>\u001b[0;34m(x)\u001b[0m\n\u001b[1;32m   1195\u001b[0m         \u001b[0;34m[\u001b[0m\u001b[0midentity\u001b[0m\u001b[0;34m,\u001b[0m \u001b[0;32mlambda\u001b[0m \u001b[0mx\u001b[0m\u001b[0;34m:\u001b[0m \u001b[0m_eapply\u001b[0m\u001b[0;34m(\u001b[0m\u001b[0m_mexpand\u001b[0m\u001b[0;34m,\u001b[0m \u001b[0mx\u001b[0m\u001b[0;34m,\u001b[0m \u001b[0mtrigs\u001b[0m\u001b[0;34m)\u001b[0m\u001b[0;34m]\u001b[0m\u001b[0;34m,\u001b[0m\u001b[0;34m\u001b[0m\u001b[0;34m\u001b[0m\u001b[0m\n\u001b[1;32m   1196\u001b[0m         \u001b[0mTR2i\u001b[0m\u001b[0;34m,\u001b[0m  \u001b[0;31m# sin-cos ratio -> tan\u001b[0m\u001b[0;34m\u001b[0m\u001b[0;34m\u001b[0m\u001b[0m\n\u001b[0;32m-> 1197\u001b[0;31m         \u001b[0;32mlambda\u001b[0m \u001b[0mx\u001b[0m\u001b[0;34m:\u001b[0m \u001b[0m_eapply\u001b[0m\u001b[0;34m(\u001b[0m\u001b[0;32mlambda\u001b[0m \u001b[0mi\u001b[0m\u001b[0;34m:\u001b[0m \u001b[0mfactor\u001b[0m\u001b[0;34m(\u001b[0m\u001b[0mi\u001b[0m\u001b[0;34m.\u001b[0m\u001b[0mnormal\u001b[0m\u001b[0;34m(\u001b[0m\u001b[0;34m)\u001b[0m\u001b[0;34m)\u001b[0m\u001b[0;34m,\u001b[0m \u001b[0mx\u001b[0m\u001b[0;34m,\u001b[0m \u001b[0mtrigs\u001b[0m\u001b[0;34m)\u001b[0m\u001b[0;34m,\u001b[0m\u001b[0;34m\u001b[0m\u001b[0;34m\u001b[0m\u001b[0m\n\u001b[0m\u001b[1;32m   1198\u001b[0m         \u001b[0mTR14\u001b[0m\u001b[0;34m,\u001b[0m  \u001b[0;31m# factored identities\u001b[0m\u001b[0;34m\u001b[0m\u001b[0;34m\u001b[0m\u001b[0m\n\u001b[1;32m   1199\u001b[0m         \u001b[0mTR5\u001b[0m\u001b[0;34m,\u001b[0m  \u001b[0;31m# sin-pow -> cos_pow\u001b[0m\u001b[0;34m\u001b[0m\u001b[0;34m\u001b[0m\u001b[0m\n",
            "\u001b[0;32m/usr/local/lib/python3.10/dist-packages/sympy/simplify/trigsimp.py\u001b[0m in \u001b[0;36m_eapply\u001b[0;34m(func, e, cond)\u001b[0m\n\u001b[1;32m   1247\u001b[0m         \u001b[0;32mreturn\u001b[0m \u001b[0me\u001b[0m\u001b[0;34m\u001b[0m\u001b[0;34m\u001b[0m\u001b[0m\n\u001b[1;32m   1248\u001b[0m     \u001b[0;32mif\u001b[0m \u001b[0m_is_Expr\u001b[0m\u001b[0;34m(\u001b[0m\u001b[0me\u001b[0m\u001b[0;34m)\u001b[0m \u001b[0;32mor\u001b[0m \u001b[0;32mnot\u001b[0m \u001b[0me\u001b[0m\u001b[0;34m.\u001b[0m\u001b[0margs\u001b[0m\u001b[0;34m:\u001b[0m\u001b[0;34m\u001b[0m\u001b[0;34m\u001b[0m\u001b[0m\n\u001b[0;32m-> 1249\u001b[0;31m         \u001b[0;32mreturn\u001b[0m \u001b[0mfunc\u001b[0m\u001b[0;34m(\u001b[0m\u001b[0me\u001b[0m\u001b[0;34m)\u001b[0m\u001b[0;34m\u001b[0m\u001b[0;34m\u001b[0m\u001b[0m\n\u001b[0m\u001b[1;32m   1250\u001b[0m     return e.func(*[\n\u001b[1;32m   1251\u001b[0m         \u001b[0m_eapply\u001b[0m\u001b[0;34m(\u001b[0m\u001b[0mfunc\u001b[0m\u001b[0;34m,\u001b[0m \u001b[0mei\u001b[0m\u001b[0;34m)\u001b[0m \u001b[0;32mif\u001b[0m \u001b[0;34m(\u001b[0m\u001b[0mcond\u001b[0m \u001b[0;32mis\u001b[0m \u001b[0;32mNone\u001b[0m \u001b[0;32mor\u001b[0m \u001b[0mcond\u001b[0m\u001b[0;34m(\u001b[0m\u001b[0mei\u001b[0m\u001b[0;34m)\u001b[0m\u001b[0;34m)\u001b[0m \u001b[0;32melse\u001b[0m \u001b[0mei\u001b[0m\u001b[0;34m\u001b[0m\u001b[0;34m\u001b[0m\u001b[0m\n",
            "\u001b[0;32m/usr/local/lib/python3.10/dist-packages/sympy/simplify/trigsimp.py\u001b[0m in \u001b[0;36m<lambda>\u001b[0;34m(i)\u001b[0m\n\u001b[1;32m   1195\u001b[0m         \u001b[0;34m[\u001b[0m\u001b[0midentity\u001b[0m\u001b[0;34m,\u001b[0m \u001b[0;32mlambda\u001b[0m \u001b[0mx\u001b[0m\u001b[0;34m:\u001b[0m \u001b[0m_eapply\u001b[0m\u001b[0;34m(\u001b[0m\u001b[0m_mexpand\u001b[0m\u001b[0;34m,\u001b[0m \u001b[0mx\u001b[0m\u001b[0;34m,\u001b[0m \u001b[0mtrigs\u001b[0m\u001b[0;34m)\u001b[0m\u001b[0;34m]\u001b[0m\u001b[0;34m,\u001b[0m\u001b[0;34m\u001b[0m\u001b[0;34m\u001b[0m\u001b[0m\n\u001b[1;32m   1196\u001b[0m         \u001b[0mTR2i\u001b[0m\u001b[0;34m,\u001b[0m  \u001b[0;31m# sin-cos ratio -> tan\u001b[0m\u001b[0;34m\u001b[0m\u001b[0;34m\u001b[0m\u001b[0m\n\u001b[0;32m-> 1197\u001b[0;31m         \u001b[0;32mlambda\u001b[0m \u001b[0mx\u001b[0m\u001b[0;34m:\u001b[0m \u001b[0m_eapply\u001b[0m\u001b[0;34m(\u001b[0m\u001b[0;32mlambda\u001b[0m \u001b[0mi\u001b[0m\u001b[0;34m:\u001b[0m \u001b[0mfactor\u001b[0m\u001b[0;34m(\u001b[0m\u001b[0mi\u001b[0m\u001b[0;34m.\u001b[0m\u001b[0mnormal\u001b[0m\u001b[0;34m(\u001b[0m\u001b[0;34m)\u001b[0m\u001b[0;34m)\u001b[0m\u001b[0;34m,\u001b[0m \u001b[0mx\u001b[0m\u001b[0;34m,\u001b[0m \u001b[0mtrigs\u001b[0m\u001b[0;34m)\u001b[0m\u001b[0;34m,\u001b[0m\u001b[0;34m\u001b[0m\u001b[0;34m\u001b[0m\u001b[0m\n\u001b[0m\u001b[1;32m   1198\u001b[0m         \u001b[0mTR14\u001b[0m\u001b[0;34m,\u001b[0m  \u001b[0;31m# factored identities\u001b[0m\u001b[0;34m\u001b[0m\u001b[0;34m\u001b[0m\u001b[0m\n\u001b[1;32m   1199\u001b[0m         \u001b[0mTR5\u001b[0m\u001b[0;34m,\u001b[0m  \u001b[0;31m# sin-pow -> cos_pow\u001b[0m\u001b[0;34m\u001b[0m\u001b[0;34m\u001b[0m\u001b[0m\n",
            "\u001b[0;32m/usr/local/lib/python3.10/dist-packages/sympy/polys/polytools.py\u001b[0m in \u001b[0;36mfactor\u001b[0;34m(f, deep, *gens, **args)\u001b[0m\n\u001b[1;32m   6540\u001b[0m \u001b[0;34m\u001b[0m\u001b[0m\n\u001b[1;32m   6541\u001b[0m     \u001b[0;32mtry\u001b[0m\u001b[0;34m:\u001b[0m\u001b[0;34m\u001b[0m\u001b[0;34m\u001b[0m\u001b[0m\n\u001b[0;32m-> 6542\u001b[0;31m         \u001b[0;32mreturn\u001b[0m \u001b[0m_generic_factor\u001b[0m\u001b[0;34m(\u001b[0m\u001b[0mf\u001b[0m\u001b[0;34m,\u001b[0m \u001b[0mgens\u001b[0m\u001b[0;34m,\u001b[0m \u001b[0margs\u001b[0m\u001b[0;34m,\u001b[0m \u001b[0mmethod\u001b[0m\u001b[0;34m=\u001b[0m\u001b[0;34m'factor'\u001b[0m\u001b[0;34m)\u001b[0m\u001b[0;34m\u001b[0m\u001b[0;34m\u001b[0m\u001b[0m\n\u001b[0m\u001b[1;32m   6543\u001b[0m     \u001b[0;32mexcept\u001b[0m \u001b[0mPolynomialError\u001b[0m \u001b[0;32mas\u001b[0m \u001b[0mmsg\u001b[0m\u001b[0;34m:\u001b[0m\u001b[0;34m\u001b[0m\u001b[0;34m\u001b[0m\u001b[0m\n\u001b[1;32m   6544\u001b[0m         \u001b[0;32mif\u001b[0m \u001b[0;32mnot\u001b[0m \u001b[0mf\u001b[0m\u001b[0;34m.\u001b[0m\u001b[0mis_commutative\u001b[0m\u001b[0;34m:\u001b[0m\u001b[0;34m\u001b[0m\u001b[0;34m\u001b[0m\u001b[0m\n",
            "\u001b[0;32m/usr/local/lib/python3.10/dist-packages/sympy/polys/polytools.py\u001b[0m in \u001b[0;36m_generic_factor\u001b[0;34m(expr, gens, args, method)\u001b[0m\n\u001b[1;32m   6221\u001b[0m     \u001b[0mopt\u001b[0m \u001b[0;34m=\u001b[0m \u001b[0moptions\u001b[0m\u001b[0;34m.\u001b[0m\u001b[0mbuild_options\u001b[0m\u001b[0;34m(\u001b[0m\u001b[0mgens\u001b[0m\u001b[0;34m,\u001b[0m \u001b[0margs\u001b[0m\u001b[0;34m)\u001b[0m\u001b[0;34m\u001b[0m\u001b[0;34m\u001b[0m\u001b[0m\n\u001b[1;32m   6222\u001b[0m     \u001b[0mopt\u001b[0m\u001b[0;34m[\u001b[0m\u001b[0;34m'fraction'\u001b[0m\u001b[0;34m]\u001b[0m \u001b[0;34m=\u001b[0m \u001b[0mfraction\u001b[0m\u001b[0;34m\u001b[0m\u001b[0;34m\u001b[0m\u001b[0m\n\u001b[0;32m-> 6223\u001b[0;31m     \u001b[0;32mreturn\u001b[0m \u001b[0m_symbolic_factor\u001b[0m\u001b[0;34m(\u001b[0m\u001b[0msympify\u001b[0m\u001b[0;34m(\u001b[0m\u001b[0mexpr\u001b[0m\u001b[0;34m)\u001b[0m\u001b[0;34m,\u001b[0m \u001b[0mopt\u001b[0m\u001b[0;34m,\u001b[0m \u001b[0mmethod\u001b[0m\u001b[0;34m)\u001b[0m\u001b[0;34m\u001b[0m\u001b[0;34m\u001b[0m\u001b[0m\n\u001b[0m\u001b[1;32m   6224\u001b[0m \u001b[0;34m\u001b[0m\u001b[0m\n\u001b[1;32m   6225\u001b[0m \u001b[0;34m\u001b[0m\u001b[0m\n",
            "\u001b[0;32m/usr/local/lib/python3.10/dist-packages/sympy/polys/polytools.py\u001b[0m in \u001b[0;36m_symbolic_factor\u001b[0;34m(expr, opt, method)\u001b[0m\n\u001b[1;32m   6161\u001b[0m         \u001b[0;32mif\u001b[0m \u001b[0mhasattr\u001b[0m\u001b[0;34m(\u001b[0m\u001b[0mexpr\u001b[0m\u001b[0;34m,\u001b[0m\u001b[0;34m'_eval_factor'\u001b[0m\u001b[0;34m)\u001b[0m\u001b[0;34m:\u001b[0m\u001b[0;34m\u001b[0m\u001b[0;34m\u001b[0m\u001b[0m\n\u001b[1;32m   6162\u001b[0m             \u001b[0;32mreturn\u001b[0m \u001b[0mexpr\u001b[0m\u001b[0;34m.\u001b[0m\u001b[0m_eval_factor\u001b[0m\u001b[0;34m(\u001b[0m\u001b[0;34m)\u001b[0m\u001b[0;34m\u001b[0m\u001b[0;34m\u001b[0m\u001b[0m\n\u001b[0;32m-> 6163\u001b[0;31m         \u001b[0mcoeff\u001b[0m\u001b[0;34m,\u001b[0m \u001b[0mfactors\u001b[0m \u001b[0;34m=\u001b[0m \u001b[0m_symbolic_factor_list\u001b[0m\u001b[0;34m(\u001b[0m\u001b[0mtogether\u001b[0m\u001b[0;34m(\u001b[0m\u001b[0mexpr\u001b[0m\u001b[0;34m,\u001b[0m \u001b[0mfraction\u001b[0m\u001b[0;34m=\u001b[0m\u001b[0mopt\u001b[0m\u001b[0;34m[\u001b[0m\u001b[0;34m'fraction'\u001b[0m\u001b[0;34m]\u001b[0m\u001b[0;34m)\u001b[0m\u001b[0;34m,\u001b[0m \u001b[0mopt\u001b[0m\u001b[0;34m,\u001b[0m \u001b[0mmethod\u001b[0m\u001b[0;34m)\u001b[0m\u001b[0;34m\u001b[0m\u001b[0;34m\u001b[0m\u001b[0m\n\u001b[0m\u001b[1;32m   6164\u001b[0m         \u001b[0;32mreturn\u001b[0m \u001b[0m_keep_coeff\u001b[0m\u001b[0;34m(\u001b[0m\u001b[0mcoeff\u001b[0m\u001b[0;34m,\u001b[0m \u001b[0m_factors_product\u001b[0m\u001b[0;34m(\u001b[0m\u001b[0mfactors\u001b[0m\u001b[0;34m)\u001b[0m\u001b[0;34m)\u001b[0m\u001b[0;34m\u001b[0m\u001b[0;34m\u001b[0m\u001b[0m\n\u001b[1;32m   6165\u001b[0m     \u001b[0;32melif\u001b[0m \u001b[0mhasattr\u001b[0m\u001b[0;34m(\u001b[0m\u001b[0mexpr\u001b[0m\u001b[0;34m,\u001b[0m \u001b[0;34m'args'\u001b[0m\u001b[0;34m)\u001b[0m\u001b[0;34m:\u001b[0m\u001b[0;34m\u001b[0m\u001b[0;34m\u001b[0m\u001b[0m\n",
            "\u001b[0;32m/usr/local/lib/python3.10/dist-packages/sympy/polys/polytools.py\u001b[0m in \u001b[0;36m_symbolic_factor_list\u001b[0;34m(expr, opt, method)\u001b[0m\n\u001b[1;32m   6126\u001b[0m             \u001b[0mfunc\u001b[0m \u001b[0;34m=\u001b[0m \u001b[0mgetattr\u001b[0m\u001b[0;34m(\u001b[0m\u001b[0mpoly\u001b[0m\u001b[0;34m,\u001b[0m \u001b[0mmethod\u001b[0m \u001b[0;34m+\u001b[0m \u001b[0;34m'_list'\u001b[0m\u001b[0;34m)\u001b[0m\u001b[0;34m\u001b[0m\u001b[0;34m\u001b[0m\u001b[0m\n\u001b[1;32m   6127\u001b[0m \u001b[0;34m\u001b[0m\u001b[0m\n\u001b[0;32m-> 6128\u001b[0;31m             \u001b[0m_coeff\u001b[0m\u001b[0;34m,\u001b[0m \u001b[0m_factors\u001b[0m \u001b[0;34m=\u001b[0m \u001b[0mfunc\u001b[0m\u001b[0;34m(\u001b[0m\u001b[0;34m)\u001b[0m\u001b[0;34m\u001b[0m\u001b[0;34m\u001b[0m\u001b[0m\n\u001b[0m\u001b[1;32m   6129\u001b[0m             \u001b[0;32mif\u001b[0m \u001b[0m_coeff\u001b[0m \u001b[0;32mis\u001b[0m \u001b[0;32mnot\u001b[0m \u001b[0mS\u001b[0m\u001b[0;34m.\u001b[0m\u001b[0mOne\u001b[0m\u001b[0;34m:\u001b[0m\u001b[0;34m\u001b[0m\u001b[0;34m\u001b[0m\u001b[0m\n\u001b[1;32m   6130\u001b[0m                 \u001b[0;32mif\u001b[0m \u001b[0mexp\u001b[0m\u001b[0;34m.\u001b[0m\u001b[0mis_Integer\u001b[0m\u001b[0;34m:\u001b[0m\u001b[0;34m\u001b[0m\u001b[0;34m\u001b[0m\u001b[0m\n",
            "\u001b[0;32m/usr/local/lib/python3.10/dist-packages/sympy/polys/polytools.py\u001b[0m in \u001b[0;36mfactor_list\u001b[0;34m(f)\u001b[0m\n\u001b[1;32m   3348\u001b[0m         \u001b[0;32mif\u001b[0m \u001b[0mhasattr\u001b[0m\u001b[0;34m(\u001b[0m\u001b[0mf\u001b[0m\u001b[0;34m.\u001b[0m\u001b[0mrep\u001b[0m\u001b[0;34m,\u001b[0m \u001b[0;34m'factor_list'\u001b[0m\u001b[0;34m)\u001b[0m\u001b[0;34m:\u001b[0m\u001b[0;34m\u001b[0m\u001b[0;34m\u001b[0m\u001b[0m\n\u001b[1;32m   3349\u001b[0m             \u001b[0;32mtry\u001b[0m\u001b[0;34m:\u001b[0m\u001b[0;34m\u001b[0m\u001b[0;34m\u001b[0m\u001b[0m\n\u001b[0;32m-> 3350\u001b[0;31m                 \u001b[0mcoeff\u001b[0m\u001b[0;34m,\u001b[0m \u001b[0mfactors\u001b[0m \u001b[0;34m=\u001b[0m \u001b[0mf\u001b[0m\u001b[0;34m.\u001b[0m\u001b[0mrep\u001b[0m\u001b[0;34m.\u001b[0m\u001b[0mfactor_list\u001b[0m\u001b[0;34m(\u001b[0m\u001b[0;34m)\u001b[0m\u001b[0;34m\u001b[0m\u001b[0;34m\u001b[0m\u001b[0m\n\u001b[0m\u001b[1;32m   3351\u001b[0m             \u001b[0;32mexcept\u001b[0m \u001b[0mDomainError\u001b[0m\u001b[0;34m:\u001b[0m\u001b[0;34m\u001b[0m\u001b[0;34m\u001b[0m\u001b[0m\n\u001b[1;32m   3352\u001b[0m                 \u001b[0;32mreturn\u001b[0m \u001b[0mS\u001b[0m\u001b[0;34m.\u001b[0m\u001b[0mOne\u001b[0m\u001b[0;34m,\u001b[0m \u001b[0;34m[\u001b[0m\u001b[0;34m(\u001b[0m\u001b[0mf\u001b[0m\u001b[0;34m,\u001b[0m \u001b[0;36m1\u001b[0m\u001b[0;34m)\u001b[0m\u001b[0;34m]\u001b[0m\u001b[0;34m\u001b[0m\u001b[0;34m\u001b[0m\u001b[0m\n",
            "\u001b[0;32m/usr/local/lib/python3.10/dist-packages/sympy/polys/polyclasses.py\u001b[0m in \u001b[0;36mfactor_list\u001b[0;34m(f)\u001b[0m\n\u001b[1;32m    821\u001b[0m     \u001b[0;32mdef\u001b[0m \u001b[0mfactor_list\u001b[0m\u001b[0;34m(\u001b[0m\u001b[0mf\u001b[0m\u001b[0;34m)\u001b[0m\u001b[0;34m:\u001b[0m\u001b[0;34m\u001b[0m\u001b[0;34m\u001b[0m\u001b[0m\n\u001b[1;32m    822\u001b[0m         \u001b[0;34m\"\"\"Returns a list of irreducible factors of ``f``. \"\"\"\u001b[0m\u001b[0;34m\u001b[0m\u001b[0;34m\u001b[0m\u001b[0m\n\u001b[0;32m--> 823\u001b[0;31m         \u001b[0mcoeff\u001b[0m\u001b[0;34m,\u001b[0m \u001b[0mfactors\u001b[0m \u001b[0;34m=\u001b[0m \u001b[0mdmp_factor_list\u001b[0m\u001b[0;34m(\u001b[0m\u001b[0mf\u001b[0m\u001b[0;34m.\u001b[0m\u001b[0mrep\u001b[0m\u001b[0;34m,\u001b[0m \u001b[0mf\u001b[0m\u001b[0;34m.\u001b[0m\u001b[0mlev\u001b[0m\u001b[0;34m,\u001b[0m \u001b[0mf\u001b[0m\u001b[0;34m.\u001b[0m\u001b[0mdom\u001b[0m\u001b[0;34m)\u001b[0m\u001b[0;34m\u001b[0m\u001b[0;34m\u001b[0m\u001b[0m\n\u001b[0m\u001b[1;32m    824\u001b[0m         \u001b[0;32mreturn\u001b[0m \u001b[0mcoeff\u001b[0m\u001b[0;34m,\u001b[0m \u001b[0;34m[\u001b[0m \u001b[0;34m(\u001b[0m\u001b[0mf\u001b[0m\u001b[0;34m.\u001b[0m\u001b[0mper\u001b[0m\u001b[0;34m(\u001b[0m\u001b[0mg\u001b[0m\u001b[0;34m)\u001b[0m\u001b[0;34m,\u001b[0m \u001b[0mk\u001b[0m\u001b[0;34m)\u001b[0m \u001b[0;32mfor\u001b[0m \u001b[0mg\u001b[0m\u001b[0;34m,\u001b[0m \u001b[0mk\u001b[0m \u001b[0;32min\u001b[0m \u001b[0mfactors\u001b[0m \u001b[0;34m]\u001b[0m\u001b[0;34m\u001b[0m\u001b[0;34m\u001b[0m\u001b[0m\n\u001b[1;32m    825\u001b[0m \u001b[0;34m\u001b[0m\u001b[0m\n",
            "\u001b[0;32m/usr/local/lib/python3.10/dist-packages/sympy/polys/factortools.py\u001b[0m in \u001b[0;36mdmp_factor_list\u001b[0;34m(f, u, K0)\u001b[0m\n\u001b[1;32m   1421\u001b[0m         \u001b[0;32mif\u001b[0m \u001b[0mK\u001b[0m\u001b[0;34m.\u001b[0m\u001b[0mis_ZZ\u001b[0m\u001b[0;34m:\u001b[0m\u001b[0;34m\u001b[0m\u001b[0;34m\u001b[0m\u001b[0m\n\u001b[1;32m   1422\u001b[0m             \u001b[0mlevels\u001b[0m\u001b[0;34m,\u001b[0m \u001b[0mf\u001b[0m\u001b[0;34m,\u001b[0m \u001b[0mv\u001b[0m \u001b[0;34m=\u001b[0m \u001b[0mdmp_exclude\u001b[0m\u001b[0;34m(\u001b[0m\u001b[0mf\u001b[0m\u001b[0;34m,\u001b[0m \u001b[0mu\u001b[0m\u001b[0;34m,\u001b[0m \u001b[0mK\u001b[0m\u001b[0;34m)\u001b[0m\u001b[0;34m\u001b[0m\u001b[0;34m\u001b[0m\u001b[0m\n\u001b[0;32m-> 1423\u001b[0;31m             \u001b[0mcoeff\u001b[0m\u001b[0;34m,\u001b[0m \u001b[0mfactors\u001b[0m \u001b[0;34m=\u001b[0m \u001b[0mdmp_zz_factor\u001b[0m\u001b[0;34m(\u001b[0m\u001b[0mf\u001b[0m\u001b[0;34m,\u001b[0m \u001b[0mv\u001b[0m\u001b[0;34m,\u001b[0m \u001b[0mK\u001b[0m\u001b[0;34m)\u001b[0m\u001b[0;34m\u001b[0m\u001b[0;34m\u001b[0m\u001b[0m\n\u001b[0m\u001b[1;32m   1424\u001b[0m \u001b[0;34m\u001b[0m\u001b[0m\n\u001b[1;32m   1425\u001b[0m             \u001b[0;32mfor\u001b[0m \u001b[0mi\u001b[0m\u001b[0;34m,\u001b[0m \u001b[0;34m(\u001b[0m\u001b[0mf\u001b[0m\u001b[0;34m,\u001b[0m \u001b[0mk\u001b[0m\u001b[0;34m)\u001b[0m \u001b[0;32min\u001b[0m \u001b[0menumerate\u001b[0m\u001b[0;34m(\u001b[0m\u001b[0mfactors\u001b[0m\u001b[0;34m)\u001b[0m\u001b[0;34m:\u001b[0m\u001b[0;34m\u001b[0m\u001b[0;34m\u001b[0m\u001b[0m\n",
            "\u001b[0;32m/usr/local/lib/python3.10/dist-packages/sympy/polys/factortools.py\u001b[0m in \u001b[0;36mdmp_zz_factor\u001b[0;34m(f, u, K)\u001b[0m\n\u001b[1;32m   1158\u001b[0m     \u001b[0;32mif\u001b[0m \u001b[0mdmp_degree\u001b[0m\u001b[0;34m(\u001b[0m\u001b[0mg\u001b[0m\u001b[0;34m,\u001b[0m \u001b[0mu\u001b[0m\u001b[0;34m)\u001b[0m \u001b[0;34m>\u001b[0m \u001b[0;36m0\u001b[0m\u001b[0;34m:\u001b[0m\u001b[0;34m\u001b[0m\u001b[0;34m\u001b[0m\u001b[0m\n\u001b[1;32m   1159\u001b[0m         \u001b[0mg\u001b[0m \u001b[0;34m=\u001b[0m \u001b[0mdmp_sqf_part\u001b[0m\u001b[0;34m(\u001b[0m\u001b[0mg\u001b[0m\u001b[0;34m,\u001b[0m \u001b[0mu\u001b[0m\u001b[0;34m,\u001b[0m \u001b[0mK\u001b[0m\u001b[0;34m)\u001b[0m\u001b[0;34m\u001b[0m\u001b[0;34m\u001b[0m\u001b[0m\n\u001b[0;32m-> 1160\u001b[0;31m         \u001b[0mH\u001b[0m \u001b[0;34m=\u001b[0m \u001b[0mdmp_zz_wang\u001b[0m\u001b[0;34m(\u001b[0m\u001b[0mg\u001b[0m\u001b[0;34m,\u001b[0m \u001b[0mu\u001b[0m\u001b[0;34m,\u001b[0m \u001b[0mK\u001b[0m\u001b[0;34m)\u001b[0m\u001b[0;34m\u001b[0m\u001b[0;34m\u001b[0m\u001b[0m\n\u001b[0m\u001b[1;32m   1161\u001b[0m         \u001b[0mfactors\u001b[0m \u001b[0;34m=\u001b[0m \u001b[0mdmp_trial_division\u001b[0m\u001b[0;34m(\u001b[0m\u001b[0mf\u001b[0m\u001b[0;34m,\u001b[0m \u001b[0mH\u001b[0m\u001b[0;34m,\u001b[0m \u001b[0mu\u001b[0m\u001b[0;34m,\u001b[0m \u001b[0mK\u001b[0m\u001b[0;34m)\u001b[0m\u001b[0;34m\u001b[0m\u001b[0;34m\u001b[0m\u001b[0m\n\u001b[1;32m   1162\u001b[0m \u001b[0;34m\u001b[0m\u001b[0m\n",
            "\u001b[0;32m/usr/local/lib/python3.10/dist-packages/sympy/polys/factortools.py\u001b[0m in \u001b[0;36mdmp_zz_wang\u001b[0;34m(f, u, K, mod, seed)\u001b[0m\n\u001b[1;32m   1081\u001b[0m     \u001b[0;32mtry\u001b[0m\u001b[0;34m:\u001b[0m\u001b[0;34m\u001b[0m\u001b[0;34m\u001b[0m\u001b[0m\n\u001b[1;32m   1082\u001b[0m         \u001b[0mf\u001b[0m\u001b[0;34m,\u001b[0m \u001b[0mH\u001b[0m\u001b[0;34m,\u001b[0m \u001b[0mLC\u001b[0m \u001b[0;34m=\u001b[0m \u001b[0mdmp_zz_wang_lead_coeffs\u001b[0m\u001b[0;34m(\u001b[0m\u001b[0mf\u001b[0m\u001b[0;34m,\u001b[0m \u001b[0mT\u001b[0m\u001b[0;34m,\u001b[0m \u001b[0mcs\u001b[0m\u001b[0;34m,\u001b[0m \u001b[0mE\u001b[0m\u001b[0;34m,\u001b[0m \u001b[0mH\u001b[0m\u001b[0;34m,\u001b[0m \u001b[0mA\u001b[0m\u001b[0;34m,\u001b[0m \u001b[0mu\u001b[0m\u001b[0;34m,\u001b[0m \u001b[0mK\u001b[0m\u001b[0;34m)\u001b[0m\u001b[0;34m\u001b[0m\u001b[0;34m\u001b[0m\u001b[0m\n\u001b[0;32m-> 1083\u001b[0;31m         \u001b[0mfactors\u001b[0m \u001b[0;34m=\u001b[0m \u001b[0mdmp_zz_wang_hensel_lifting\u001b[0m\u001b[0;34m(\u001b[0m\u001b[0mf\u001b[0m\u001b[0;34m,\u001b[0m \u001b[0mH\u001b[0m\u001b[0;34m,\u001b[0m \u001b[0mLC\u001b[0m\u001b[0;34m,\u001b[0m \u001b[0mA\u001b[0m\u001b[0;34m,\u001b[0m \u001b[0mp\u001b[0m\u001b[0;34m,\u001b[0m \u001b[0mu\u001b[0m\u001b[0;34m,\u001b[0m \u001b[0mK\u001b[0m\u001b[0;34m)\u001b[0m\u001b[0;34m\u001b[0m\u001b[0;34m\u001b[0m\u001b[0m\n\u001b[0m\u001b[1;32m   1084\u001b[0m     \u001b[0;32mexcept\u001b[0m \u001b[0mExtraneousFactors\u001b[0m\u001b[0;34m:\u001b[0m  \u001b[0;31m# pragma: no cover\u001b[0m\u001b[0;34m\u001b[0m\u001b[0;34m\u001b[0m\u001b[0m\n\u001b[1;32m   1085\u001b[0m         \u001b[0;32mif\u001b[0m \u001b[0mquery\u001b[0m\u001b[0;34m(\u001b[0m\u001b[0;34m'EEZ_RESTART_IF_NEEDED'\u001b[0m\u001b[0;34m)\u001b[0m\u001b[0;34m:\u001b[0m\u001b[0;34m\u001b[0m\u001b[0;34m\u001b[0m\u001b[0m\n",
            "\u001b[0;32m/usr/local/lib/python3.10/dist-packages/sympy/polys/factortools.py\u001b[0m in \u001b[0;36mdmp_zz_wang_hensel_lifting\u001b[0;34m(f, H, LC, A, p, u, K)\u001b[0m\n\u001b[1;32m    945\u001b[0m             \u001b[0;32mif\u001b[0m \u001b[0;32mnot\u001b[0m \u001b[0mdmp_zero_p\u001b[0m\u001b[0;34m(\u001b[0m\u001b[0mC\u001b[0m\u001b[0;34m,\u001b[0m \u001b[0mw\u001b[0m \u001b[0;34m-\u001b[0m \u001b[0;36m1\u001b[0m\u001b[0;34m)\u001b[0m\u001b[0;34m:\u001b[0m\u001b[0;34m\u001b[0m\u001b[0;34m\u001b[0m\u001b[0m\n\u001b[1;32m    946\u001b[0m                 \u001b[0mC\u001b[0m \u001b[0;34m=\u001b[0m \u001b[0mdmp_quo_ground\u001b[0m\u001b[0;34m(\u001b[0m\u001b[0mC\u001b[0m\u001b[0;34m,\u001b[0m \u001b[0mK\u001b[0m\u001b[0;34m.\u001b[0m\u001b[0mfactorial\u001b[0m\u001b[0;34m(\u001b[0m\u001b[0mk\u001b[0m \u001b[0;34m+\u001b[0m \u001b[0;36m1\u001b[0m\u001b[0;34m)\u001b[0m\u001b[0;34m,\u001b[0m \u001b[0mw\u001b[0m \u001b[0;34m-\u001b[0m \u001b[0;36m1\u001b[0m\u001b[0;34m,\u001b[0m \u001b[0mK\u001b[0m\u001b[0;34m)\u001b[0m\u001b[0;34m\u001b[0m\u001b[0;34m\u001b[0m\u001b[0m\n\u001b[0;32m--> 947\u001b[0;31m                 \u001b[0mT\u001b[0m \u001b[0;34m=\u001b[0m \u001b[0mdmp_zz_diophantine\u001b[0m\u001b[0;34m(\u001b[0m\u001b[0mG\u001b[0m\u001b[0;34m,\u001b[0m \u001b[0mC\u001b[0m\u001b[0;34m,\u001b[0m \u001b[0mI\u001b[0m\u001b[0;34m,\u001b[0m \u001b[0md\u001b[0m\u001b[0;34m,\u001b[0m \u001b[0mp\u001b[0m\u001b[0;34m,\u001b[0m \u001b[0mw\u001b[0m \u001b[0;34m-\u001b[0m \u001b[0;36m1\u001b[0m\u001b[0;34m,\u001b[0m \u001b[0mK\u001b[0m\u001b[0;34m)\u001b[0m\u001b[0;34m\u001b[0m\u001b[0;34m\u001b[0m\u001b[0m\n\u001b[0m\u001b[1;32m    948\u001b[0m \u001b[0;34m\u001b[0m\u001b[0m\n\u001b[1;32m    949\u001b[0m                 \u001b[0;32mfor\u001b[0m \u001b[0mi\u001b[0m\u001b[0;34m,\u001b[0m \u001b[0;34m(\u001b[0m\u001b[0mh\u001b[0m\u001b[0;34m,\u001b[0m \u001b[0mt\u001b[0m\u001b[0;34m)\u001b[0m \u001b[0;32min\u001b[0m \u001b[0menumerate\u001b[0m\u001b[0;34m(\u001b[0m\u001b[0mzip\u001b[0m\u001b[0;34m(\u001b[0m\u001b[0mH\u001b[0m\u001b[0;34m,\u001b[0m \u001b[0mT\u001b[0m\u001b[0;34m)\u001b[0m\u001b[0;34m)\u001b[0m\u001b[0;34m:\u001b[0m\u001b[0;34m\u001b[0m\u001b[0;34m\u001b[0m\u001b[0m\n",
            "\u001b[0;32m/usr/local/lib/python3.10/dist-packages/sympy/polys/factortools.py\u001b[0m in \u001b[0;36mdmp_zz_diophantine\u001b[0;34m(F, c, A, d, p, u, K)\u001b[0m\n\u001b[1;32m    870\u001b[0m         \u001b[0mv\u001b[0m \u001b[0;34m=\u001b[0m \u001b[0mu\u001b[0m \u001b[0;34m-\u001b[0m \u001b[0;36m1\u001b[0m\u001b[0;34m\u001b[0m\u001b[0;34m\u001b[0m\u001b[0m\n\u001b[1;32m    871\u001b[0m \u001b[0;34m\u001b[0m\u001b[0m\n\u001b[0;32m--> 872\u001b[0;31m         \u001b[0mS\u001b[0m \u001b[0;34m=\u001b[0m \u001b[0mdmp_zz_diophantine\u001b[0m\u001b[0;34m(\u001b[0m\u001b[0mG\u001b[0m\u001b[0;34m,\u001b[0m \u001b[0mC\u001b[0m\u001b[0;34m,\u001b[0m \u001b[0mA\u001b[0m\u001b[0;34m,\u001b[0m \u001b[0md\u001b[0m\u001b[0;34m,\u001b[0m \u001b[0mp\u001b[0m\u001b[0;34m,\u001b[0m \u001b[0mv\u001b[0m\u001b[0;34m,\u001b[0m \u001b[0mK\u001b[0m\u001b[0;34m)\u001b[0m\u001b[0;34m\u001b[0m\u001b[0;34m\u001b[0m\u001b[0m\n\u001b[0m\u001b[1;32m    873\u001b[0m         \u001b[0mS\u001b[0m \u001b[0;34m=\u001b[0m \u001b[0;34m[\u001b[0m \u001b[0mdmp_raise\u001b[0m\u001b[0;34m(\u001b[0m\u001b[0ms\u001b[0m\u001b[0;34m,\u001b[0m \u001b[0;36m1\u001b[0m\u001b[0;34m,\u001b[0m \u001b[0mv\u001b[0m\u001b[0;34m,\u001b[0m \u001b[0mK\u001b[0m\u001b[0;34m)\u001b[0m \u001b[0;32mfor\u001b[0m \u001b[0ms\u001b[0m \u001b[0;32min\u001b[0m \u001b[0mS\u001b[0m \u001b[0;34m]\u001b[0m\u001b[0;34m\u001b[0m\u001b[0;34m\u001b[0m\u001b[0m\n\u001b[1;32m    874\u001b[0m \u001b[0;34m\u001b[0m\u001b[0m\n",
            "\u001b[0;32m/usr/local/lib/python3.10/dist-packages/sympy/polys/factortools.py\u001b[0m in \u001b[0;36mdmp_zz_diophantine\u001b[0;34m(F, c, A, d, p, u, K)\u001b[0m\n\u001b[1;32m    890\u001b[0m             \u001b[0;32mif\u001b[0m \u001b[0;32mnot\u001b[0m \u001b[0mdmp_zero_p\u001b[0m\u001b[0;34m(\u001b[0m\u001b[0mC\u001b[0m\u001b[0;34m,\u001b[0m \u001b[0mv\u001b[0m\u001b[0;34m)\u001b[0m\u001b[0;34m:\u001b[0m\u001b[0;34m\u001b[0m\u001b[0;34m\u001b[0m\u001b[0m\n\u001b[1;32m    891\u001b[0m                 \u001b[0mC\u001b[0m \u001b[0;34m=\u001b[0m \u001b[0mdmp_quo_ground\u001b[0m\u001b[0;34m(\u001b[0m\u001b[0mC\u001b[0m\u001b[0;34m,\u001b[0m \u001b[0mK\u001b[0m\u001b[0;34m.\u001b[0m\u001b[0mfactorial\u001b[0m\u001b[0;34m(\u001b[0m\u001b[0mk\u001b[0m \u001b[0;34m+\u001b[0m \u001b[0;36m1\u001b[0m\u001b[0;34m)\u001b[0m\u001b[0;34m,\u001b[0m \u001b[0mv\u001b[0m\u001b[0;34m,\u001b[0m \u001b[0mK\u001b[0m\u001b[0;34m)\u001b[0m\u001b[0;34m\u001b[0m\u001b[0;34m\u001b[0m\u001b[0m\n\u001b[0;32m--> 892\u001b[0;31m                 \u001b[0mT\u001b[0m \u001b[0;34m=\u001b[0m \u001b[0mdmp_zz_diophantine\u001b[0m\u001b[0;34m(\u001b[0m\u001b[0mG\u001b[0m\u001b[0;34m,\u001b[0m \u001b[0mC\u001b[0m\u001b[0;34m,\u001b[0m \u001b[0mA\u001b[0m\u001b[0;34m,\u001b[0m \u001b[0md\u001b[0m\u001b[0;34m,\u001b[0m \u001b[0mp\u001b[0m\u001b[0;34m,\u001b[0m \u001b[0mv\u001b[0m\u001b[0;34m,\u001b[0m \u001b[0mK\u001b[0m\u001b[0;34m)\u001b[0m\u001b[0;34m\u001b[0m\u001b[0;34m\u001b[0m\u001b[0m\n\u001b[0m\u001b[1;32m    893\u001b[0m \u001b[0;34m\u001b[0m\u001b[0m\n\u001b[1;32m    894\u001b[0m                 \u001b[0;32mfor\u001b[0m \u001b[0mi\u001b[0m\u001b[0;34m,\u001b[0m \u001b[0mt\u001b[0m \u001b[0;32min\u001b[0m \u001b[0menumerate\u001b[0m\u001b[0;34m(\u001b[0m\u001b[0mT\u001b[0m\u001b[0;34m)\u001b[0m\u001b[0;34m:\u001b[0m\u001b[0;34m\u001b[0m\u001b[0;34m\u001b[0m\u001b[0m\n",
            "\u001b[0;32m/usr/local/lib/python3.10/dist-packages/sympy/polys/factortools.py\u001b[0m in \u001b[0;36mdmp_zz_diophantine\u001b[0;34m(F, c, A, d, p, u, K)\u001b[0m\n\u001b[1;32m    890\u001b[0m             \u001b[0;32mif\u001b[0m \u001b[0;32mnot\u001b[0m \u001b[0mdmp_zero_p\u001b[0m\u001b[0;34m(\u001b[0m\u001b[0mC\u001b[0m\u001b[0;34m,\u001b[0m \u001b[0mv\u001b[0m\u001b[0;34m)\u001b[0m\u001b[0;34m:\u001b[0m\u001b[0;34m\u001b[0m\u001b[0;34m\u001b[0m\u001b[0m\n\u001b[1;32m    891\u001b[0m                 \u001b[0mC\u001b[0m \u001b[0;34m=\u001b[0m \u001b[0mdmp_quo_ground\u001b[0m\u001b[0;34m(\u001b[0m\u001b[0mC\u001b[0m\u001b[0;34m,\u001b[0m \u001b[0mK\u001b[0m\u001b[0;34m.\u001b[0m\u001b[0mfactorial\u001b[0m\u001b[0;34m(\u001b[0m\u001b[0mk\u001b[0m \u001b[0;34m+\u001b[0m \u001b[0;36m1\u001b[0m\u001b[0;34m)\u001b[0m\u001b[0;34m,\u001b[0m \u001b[0mv\u001b[0m\u001b[0;34m,\u001b[0m \u001b[0mK\u001b[0m\u001b[0;34m)\u001b[0m\u001b[0;34m\u001b[0m\u001b[0;34m\u001b[0m\u001b[0m\n\u001b[0;32m--> 892\u001b[0;31m                 \u001b[0mT\u001b[0m \u001b[0;34m=\u001b[0m \u001b[0mdmp_zz_diophantine\u001b[0m\u001b[0;34m(\u001b[0m\u001b[0mG\u001b[0m\u001b[0;34m,\u001b[0m \u001b[0mC\u001b[0m\u001b[0;34m,\u001b[0m \u001b[0mA\u001b[0m\u001b[0;34m,\u001b[0m \u001b[0md\u001b[0m\u001b[0;34m,\u001b[0m \u001b[0mp\u001b[0m\u001b[0;34m,\u001b[0m \u001b[0mv\u001b[0m\u001b[0;34m,\u001b[0m \u001b[0mK\u001b[0m\u001b[0;34m)\u001b[0m\u001b[0;34m\u001b[0m\u001b[0;34m\u001b[0m\u001b[0m\n\u001b[0m\u001b[1;32m    893\u001b[0m \u001b[0;34m\u001b[0m\u001b[0m\n\u001b[1;32m    894\u001b[0m                 \u001b[0;32mfor\u001b[0m \u001b[0mi\u001b[0m\u001b[0;34m,\u001b[0m \u001b[0mt\u001b[0m \u001b[0;32min\u001b[0m \u001b[0menumerate\u001b[0m\u001b[0;34m(\u001b[0m\u001b[0mT\u001b[0m\u001b[0;34m)\u001b[0m\u001b[0;34m:\u001b[0m\u001b[0;34m\u001b[0m\u001b[0;34m\u001b[0m\u001b[0m\n",
            "\u001b[0;32m/usr/local/lib/python3.10/dist-packages/sympy/polys/factortools.py\u001b[0m in \u001b[0;36mdmp_zz_diophantine\u001b[0;34m(F, c, A, d, p, u, K)\u001b[0m\n\u001b[1;32m    870\u001b[0m         \u001b[0mv\u001b[0m \u001b[0;34m=\u001b[0m \u001b[0mu\u001b[0m \u001b[0;34m-\u001b[0m \u001b[0;36m1\u001b[0m\u001b[0;34m\u001b[0m\u001b[0;34m\u001b[0m\u001b[0m\n\u001b[1;32m    871\u001b[0m \u001b[0;34m\u001b[0m\u001b[0m\n\u001b[0;32m--> 872\u001b[0;31m         \u001b[0mS\u001b[0m \u001b[0;34m=\u001b[0m \u001b[0mdmp_zz_diophantine\u001b[0m\u001b[0;34m(\u001b[0m\u001b[0mG\u001b[0m\u001b[0;34m,\u001b[0m \u001b[0mC\u001b[0m\u001b[0;34m,\u001b[0m \u001b[0mA\u001b[0m\u001b[0;34m,\u001b[0m \u001b[0md\u001b[0m\u001b[0;34m,\u001b[0m \u001b[0mp\u001b[0m\u001b[0;34m,\u001b[0m \u001b[0mv\u001b[0m\u001b[0;34m,\u001b[0m \u001b[0mK\u001b[0m\u001b[0;34m)\u001b[0m\u001b[0;34m\u001b[0m\u001b[0;34m\u001b[0m\u001b[0m\n\u001b[0m\u001b[1;32m    873\u001b[0m         \u001b[0mS\u001b[0m \u001b[0;34m=\u001b[0m \u001b[0;34m[\u001b[0m \u001b[0mdmp_raise\u001b[0m\u001b[0;34m(\u001b[0m\u001b[0ms\u001b[0m\u001b[0;34m,\u001b[0m \u001b[0;36m1\u001b[0m\u001b[0;34m,\u001b[0m \u001b[0mv\u001b[0m\u001b[0;34m,\u001b[0m \u001b[0mK\u001b[0m\u001b[0;34m)\u001b[0m \u001b[0;32mfor\u001b[0m \u001b[0ms\u001b[0m \u001b[0;32min\u001b[0m \u001b[0mS\u001b[0m \u001b[0;34m]\u001b[0m\u001b[0;34m\u001b[0m\u001b[0;34m\u001b[0m\u001b[0m\n\u001b[1;32m    874\u001b[0m \u001b[0;34m\u001b[0m\u001b[0m\n",
            "\u001b[0;32m/usr/local/lib/python3.10/dist-packages/sympy/polys/factortools.py\u001b[0m in \u001b[0;36mdmp_zz_diophantine\u001b[0;34m(F, c, A, d, p, u, K)\u001b[0m\n\u001b[1;32m    870\u001b[0m         \u001b[0mv\u001b[0m \u001b[0;34m=\u001b[0m \u001b[0mu\u001b[0m \u001b[0;34m-\u001b[0m \u001b[0;36m1\u001b[0m\u001b[0;34m\u001b[0m\u001b[0;34m\u001b[0m\u001b[0m\n\u001b[1;32m    871\u001b[0m \u001b[0;34m\u001b[0m\u001b[0m\n\u001b[0;32m--> 872\u001b[0;31m         \u001b[0mS\u001b[0m \u001b[0;34m=\u001b[0m \u001b[0mdmp_zz_diophantine\u001b[0m\u001b[0;34m(\u001b[0m\u001b[0mG\u001b[0m\u001b[0;34m,\u001b[0m \u001b[0mC\u001b[0m\u001b[0;34m,\u001b[0m \u001b[0mA\u001b[0m\u001b[0;34m,\u001b[0m \u001b[0md\u001b[0m\u001b[0;34m,\u001b[0m \u001b[0mp\u001b[0m\u001b[0;34m,\u001b[0m \u001b[0mv\u001b[0m\u001b[0;34m,\u001b[0m \u001b[0mK\u001b[0m\u001b[0;34m)\u001b[0m\u001b[0;34m\u001b[0m\u001b[0;34m\u001b[0m\u001b[0m\n\u001b[0m\u001b[1;32m    873\u001b[0m         \u001b[0mS\u001b[0m \u001b[0;34m=\u001b[0m \u001b[0;34m[\u001b[0m \u001b[0mdmp_raise\u001b[0m\u001b[0;34m(\u001b[0m\u001b[0ms\u001b[0m\u001b[0;34m,\u001b[0m \u001b[0;36m1\u001b[0m\u001b[0;34m,\u001b[0m \u001b[0mv\u001b[0m\u001b[0;34m,\u001b[0m \u001b[0mK\u001b[0m\u001b[0;34m)\u001b[0m \u001b[0;32mfor\u001b[0m \u001b[0ms\u001b[0m \u001b[0;32min\u001b[0m \u001b[0mS\u001b[0m \u001b[0;34m]\u001b[0m\u001b[0;34m\u001b[0m\u001b[0;34m\u001b[0m\u001b[0m\n\u001b[1;32m    874\u001b[0m \u001b[0;34m\u001b[0m\u001b[0m\n",
            "\u001b[0;32m/usr/local/lib/python3.10/dist-packages/sympy/polys/factortools.py\u001b[0m in \u001b[0;36mdmp_zz_diophantine\u001b[0;34m(F, c, A, d, p, u, K)\u001b[0m\n\u001b[1;32m    890\u001b[0m             \u001b[0;32mif\u001b[0m \u001b[0;32mnot\u001b[0m \u001b[0mdmp_zero_p\u001b[0m\u001b[0;34m(\u001b[0m\u001b[0mC\u001b[0m\u001b[0;34m,\u001b[0m \u001b[0mv\u001b[0m\u001b[0;34m)\u001b[0m\u001b[0;34m:\u001b[0m\u001b[0;34m\u001b[0m\u001b[0;34m\u001b[0m\u001b[0m\n\u001b[1;32m    891\u001b[0m                 \u001b[0mC\u001b[0m \u001b[0;34m=\u001b[0m \u001b[0mdmp_quo_ground\u001b[0m\u001b[0;34m(\u001b[0m\u001b[0mC\u001b[0m\u001b[0;34m,\u001b[0m \u001b[0mK\u001b[0m\u001b[0;34m.\u001b[0m\u001b[0mfactorial\u001b[0m\u001b[0;34m(\u001b[0m\u001b[0mk\u001b[0m \u001b[0;34m+\u001b[0m \u001b[0;36m1\u001b[0m\u001b[0;34m)\u001b[0m\u001b[0;34m,\u001b[0m \u001b[0mv\u001b[0m\u001b[0;34m,\u001b[0m \u001b[0mK\u001b[0m\u001b[0;34m)\u001b[0m\u001b[0;34m\u001b[0m\u001b[0;34m\u001b[0m\u001b[0m\n\u001b[0;32m--> 892\u001b[0;31m                 \u001b[0mT\u001b[0m \u001b[0;34m=\u001b[0m \u001b[0mdmp_zz_diophantine\u001b[0m\u001b[0;34m(\u001b[0m\u001b[0mG\u001b[0m\u001b[0;34m,\u001b[0m \u001b[0mC\u001b[0m\u001b[0;34m,\u001b[0m \u001b[0mA\u001b[0m\u001b[0;34m,\u001b[0m \u001b[0md\u001b[0m\u001b[0;34m,\u001b[0m \u001b[0mp\u001b[0m\u001b[0;34m,\u001b[0m \u001b[0mv\u001b[0m\u001b[0;34m,\u001b[0m \u001b[0mK\u001b[0m\u001b[0;34m)\u001b[0m\u001b[0;34m\u001b[0m\u001b[0;34m\u001b[0m\u001b[0m\n\u001b[0m\u001b[1;32m    893\u001b[0m \u001b[0;34m\u001b[0m\u001b[0m\n\u001b[1;32m    894\u001b[0m                 \u001b[0;32mfor\u001b[0m \u001b[0mi\u001b[0m\u001b[0;34m,\u001b[0m \u001b[0mt\u001b[0m \u001b[0;32min\u001b[0m \u001b[0menumerate\u001b[0m\u001b[0;34m(\u001b[0m\u001b[0mT\u001b[0m\u001b[0;34m)\u001b[0m\u001b[0;34m:\u001b[0m\u001b[0;34m\u001b[0m\u001b[0;34m\u001b[0m\u001b[0m\n",
            "\u001b[0;32m/usr/local/lib/python3.10/dist-packages/sympy/polys/factortools.py\u001b[0m in \u001b[0;36mdmp_zz_diophantine\u001b[0;34m(F, c, A, d, p, u, K)\u001b[0m\n\u001b[1;32m    890\u001b[0m             \u001b[0;32mif\u001b[0m \u001b[0;32mnot\u001b[0m \u001b[0mdmp_zero_p\u001b[0m\u001b[0;34m(\u001b[0m\u001b[0mC\u001b[0m\u001b[0;34m,\u001b[0m \u001b[0mv\u001b[0m\u001b[0;34m)\u001b[0m\u001b[0;34m:\u001b[0m\u001b[0;34m\u001b[0m\u001b[0;34m\u001b[0m\u001b[0m\n\u001b[1;32m    891\u001b[0m                 \u001b[0mC\u001b[0m \u001b[0;34m=\u001b[0m \u001b[0mdmp_quo_ground\u001b[0m\u001b[0;34m(\u001b[0m\u001b[0mC\u001b[0m\u001b[0;34m,\u001b[0m \u001b[0mK\u001b[0m\u001b[0;34m.\u001b[0m\u001b[0mfactorial\u001b[0m\u001b[0;34m(\u001b[0m\u001b[0mk\u001b[0m \u001b[0;34m+\u001b[0m \u001b[0;36m1\u001b[0m\u001b[0;34m)\u001b[0m\u001b[0;34m,\u001b[0m \u001b[0mv\u001b[0m\u001b[0;34m,\u001b[0m \u001b[0mK\u001b[0m\u001b[0;34m)\u001b[0m\u001b[0;34m\u001b[0m\u001b[0;34m\u001b[0m\u001b[0m\n\u001b[0;32m--> 892\u001b[0;31m                 \u001b[0mT\u001b[0m \u001b[0;34m=\u001b[0m \u001b[0mdmp_zz_diophantine\u001b[0m\u001b[0;34m(\u001b[0m\u001b[0mG\u001b[0m\u001b[0;34m,\u001b[0m \u001b[0mC\u001b[0m\u001b[0;34m,\u001b[0m \u001b[0mA\u001b[0m\u001b[0;34m,\u001b[0m \u001b[0md\u001b[0m\u001b[0;34m,\u001b[0m \u001b[0mp\u001b[0m\u001b[0;34m,\u001b[0m \u001b[0mv\u001b[0m\u001b[0;34m,\u001b[0m \u001b[0mK\u001b[0m\u001b[0;34m)\u001b[0m\u001b[0;34m\u001b[0m\u001b[0;34m\u001b[0m\u001b[0m\n\u001b[0m\u001b[1;32m    893\u001b[0m \u001b[0;34m\u001b[0m\u001b[0m\n\u001b[1;32m    894\u001b[0m                 \u001b[0;32mfor\u001b[0m \u001b[0mi\u001b[0m\u001b[0;34m,\u001b[0m \u001b[0mt\u001b[0m \u001b[0;32min\u001b[0m \u001b[0menumerate\u001b[0m\u001b[0;34m(\u001b[0m\u001b[0mT\u001b[0m\u001b[0;34m)\u001b[0m\u001b[0;34m:\u001b[0m\u001b[0;34m\u001b[0m\u001b[0;34m\u001b[0m\u001b[0m\n",
            "\u001b[0;32m/usr/local/lib/python3.10/dist-packages/sympy/polys/factortools.py\u001b[0m in \u001b[0;36mdmp_zz_diophantine\u001b[0;34m(F, c, A, d, p, u, K)\u001b[0m\n\u001b[1;32m    890\u001b[0m             \u001b[0;32mif\u001b[0m \u001b[0;32mnot\u001b[0m \u001b[0mdmp_zero_p\u001b[0m\u001b[0;34m(\u001b[0m\u001b[0mC\u001b[0m\u001b[0;34m,\u001b[0m \u001b[0mv\u001b[0m\u001b[0;34m)\u001b[0m\u001b[0;34m:\u001b[0m\u001b[0;34m\u001b[0m\u001b[0;34m\u001b[0m\u001b[0m\n\u001b[1;32m    891\u001b[0m                 \u001b[0mC\u001b[0m \u001b[0;34m=\u001b[0m \u001b[0mdmp_quo_ground\u001b[0m\u001b[0;34m(\u001b[0m\u001b[0mC\u001b[0m\u001b[0;34m,\u001b[0m \u001b[0mK\u001b[0m\u001b[0;34m.\u001b[0m\u001b[0mfactorial\u001b[0m\u001b[0;34m(\u001b[0m\u001b[0mk\u001b[0m \u001b[0;34m+\u001b[0m \u001b[0;36m1\u001b[0m\u001b[0;34m)\u001b[0m\u001b[0;34m,\u001b[0m \u001b[0mv\u001b[0m\u001b[0;34m,\u001b[0m \u001b[0mK\u001b[0m\u001b[0;34m)\u001b[0m\u001b[0;34m\u001b[0m\u001b[0;34m\u001b[0m\u001b[0m\n\u001b[0;32m--> 892\u001b[0;31m                 \u001b[0mT\u001b[0m \u001b[0;34m=\u001b[0m \u001b[0mdmp_zz_diophantine\u001b[0m\u001b[0;34m(\u001b[0m\u001b[0mG\u001b[0m\u001b[0;34m,\u001b[0m \u001b[0mC\u001b[0m\u001b[0;34m,\u001b[0m \u001b[0mA\u001b[0m\u001b[0;34m,\u001b[0m \u001b[0md\u001b[0m\u001b[0;34m,\u001b[0m \u001b[0mp\u001b[0m\u001b[0;34m,\u001b[0m \u001b[0mv\u001b[0m\u001b[0;34m,\u001b[0m \u001b[0mK\u001b[0m\u001b[0;34m)\u001b[0m\u001b[0;34m\u001b[0m\u001b[0;34m\u001b[0m\u001b[0m\n\u001b[0m\u001b[1;32m    893\u001b[0m \u001b[0;34m\u001b[0m\u001b[0m\n\u001b[1;32m    894\u001b[0m                 \u001b[0;32mfor\u001b[0m \u001b[0mi\u001b[0m\u001b[0;34m,\u001b[0m \u001b[0mt\u001b[0m \u001b[0;32min\u001b[0m \u001b[0menumerate\u001b[0m\u001b[0;34m(\u001b[0m\u001b[0mT\u001b[0m\u001b[0;34m)\u001b[0m\u001b[0;34m:\u001b[0m\u001b[0;34m\u001b[0m\u001b[0;34m\u001b[0m\u001b[0m\n",
            "\u001b[0;32m/usr/local/lib/python3.10/dist-packages/sympy/polys/factortools.py\u001b[0m in \u001b[0;36mdmp_zz_diophantine\u001b[0;34m(F, c, A, d, p, u, K)\u001b[0m\n\u001b[1;32m    870\u001b[0m         \u001b[0mv\u001b[0m \u001b[0;34m=\u001b[0m \u001b[0mu\u001b[0m \u001b[0;34m-\u001b[0m \u001b[0;36m1\u001b[0m\u001b[0;34m\u001b[0m\u001b[0;34m\u001b[0m\u001b[0m\n\u001b[1;32m    871\u001b[0m \u001b[0;34m\u001b[0m\u001b[0m\n\u001b[0;32m--> 872\u001b[0;31m         \u001b[0mS\u001b[0m \u001b[0;34m=\u001b[0m \u001b[0mdmp_zz_diophantine\u001b[0m\u001b[0;34m(\u001b[0m\u001b[0mG\u001b[0m\u001b[0;34m,\u001b[0m \u001b[0mC\u001b[0m\u001b[0;34m,\u001b[0m \u001b[0mA\u001b[0m\u001b[0;34m,\u001b[0m \u001b[0md\u001b[0m\u001b[0;34m,\u001b[0m \u001b[0mp\u001b[0m\u001b[0;34m,\u001b[0m \u001b[0mv\u001b[0m\u001b[0;34m,\u001b[0m \u001b[0mK\u001b[0m\u001b[0;34m)\u001b[0m\u001b[0;34m\u001b[0m\u001b[0;34m\u001b[0m\u001b[0m\n\u001b[0m\u001b[1;32m    873\u001b[0m         \u001b[0mS\u001b[0m \u001b[0;34m=\u001b[0m \u001b[0;34m[\u001b[0m \u001b[0mdmp_raise\u001b[0m\u001b[0;34m(\u001b[0m\u001b[0ms\u001b[0m\u001b[0;34m,\u001b[0m \u001b[0;36m1\u001b[0m\u001b[0;34m,\u001b[0m \u001b[0mv\u001b[0m\u001b[0;34m,\u001b[0m \u001b[0mK\u001b[0m\u001b[0;34m)\u001b[0m \u001b[0;32mfor\u001b[0m \u001b[0ms\u001b[0m \u001b[0;32min\u001b[0m \u001b[0mS\u001b[0m \u001b[0;34m]\u001b[0m\u001b[0;34m\u001b[0m\u001b[0;34m\u001b[0m\u001b[0m\n\u001b[1;32m    874\u001b[0m \u001b[0;34m\u001b[0m\u001b[0m\n",
            "\u001b[0;32m/usr/local/lib/python3.10/dist-packages/sympy/polys/factortools.py\u001b[0m in \u001b[0;36mdmp_zz_diophantine\u001b[0;34m(F, c, A, d, p, u, K)\u001b[0m\n\u001b[1;32m    850\u001b[0m                 \u001b[0;32mcontinue\u001b[0m\u001b[0;34m\u001b[0m\u001b[0;34m\u001b[0m\u001b[0m\n\u001b[1;32m    851\u001b[0m \u001b[0;34m\u001b[0m\u001b[0m\n\u001b[0;32m--> 852\u001b[0;31m             \u001b[0mT\u001b[0m \u001b[0;34m=\u001b[0m \u001b[0mdup_zz_diophantine\u001b[0m\u001b[0;34m(\u001b[0m\u001b[0mF\u001b[0m\u001b[0;34m,\u001b[0m \u001b[0mn\u001b[0m \u001b[0;34m-\u001b[0m \u001b[0mi\u001b[0m\u001b[0;34m,\u001b[0m \u001b[0mp\u001b[0m\u001b[0;34m,\u001b[0m \u001b[0mK\u001b[0m\u001b[0;34m)\u001b[0m\u001b[0;34m\u001b[0m\u001b[0;34m\u001b[0m\u001b[0m\n\u001b[0m\u001b[1;32m    853\u001b[0m \u001b[0;34m\u001b[0m\u001b[0m\n\u001b[1;32m    854\u001b[0m             \u001b[0;32mfor\u001b[0m \u001b[0mj\u001b[0m\u001b[0;34m,\u001b[0m \u001b[0;34m(\u001b[0m\u001b[0ms\u001b[0m\u001b[0;34m,\u001b[0m \u001b[0mt\u001b[0m\u001b[0;34m)\u001b[0m \u001b[0;32min\u001b[0m \u001b[0menumerate\u001b[0m\u001b[0;34m(\u001b[0m\u001b[0mzip\u001b[0m\u001b[0;34m(\u001b[0m\u001b[0mS\u001b[0m\u001b[0;34m,\u001b[0m \u001b[0mT\u001b[0m\u001b[0;34m)\u001b[0m\u001b[0;34m)\u001b[0m\u001b[0;34m:\u001b[0m\u001b[0;34m\u001b[0m\u001b[0;34m\u001b[0m\u001b[0m\n",
            "\u001b[0;32m/usr/local/lib/python3.10/dist-packages/sympy/polys/factortools.py\u001b[0m in \u001b[0;36mdup_zz_diophantine\u001b[0;34m(F, m, p, K)\u001b[0m\n\u001b[1;32m    800\u001b[0m         \u001b[0mg\u001b[0m \u001b[0;34m=\u001b[0m \u001b[0mgf_from_int_poly\u001b[0m\u001b[0;34m(\u001b[0m\u001b[0mb\u001b[0m\u001b[0;34m,\u001b[0m \u001b[0mp\u001b[0m\u001b[0;34m)\u001b[0m\u001b[0;34m\u001b[0m\u001b[0;34m\u001b[0m\u001b[0m\n\u001b[1;32m    801\u001b[0m \u001b[0;34m\u001b[0m\u001b[0m\n\u001b[0;32m--> 802\u001b[0;31m         \u001b[0ms\u001b[0m\u001b[0;34m,\u001b[0m \u001b[0mt\u001b[0m\u001b[0;34m,\u001b[0m \u001b[0mG\u001b[0m \u001b[0;34m=\u001b[0m \u001b[0mgf_gcdex\u001b[0m\u001b[0;34m(\u001b[0m\u001b[0mg\u001b[0m\u001b[0;34m,\u001b[0m \u001b[0mf\u001b[0m\u001b[0;34m,\u001b[0m \u001b[0mp\u001b[0m\u001b[0;34m,\u001b[0m \u001b[0mK\u001b[0m\u001b[0;34m)\u001b[0m\u001b[0;34m\u001b[0m\u001b[0;34m\u001b[0m\u001b[0m\n\u001b[0m\u001b[1;32m    803\u001b[0m \u001b[0;34m\u001b[0m\u001b[0m\n\u001b[1;32m    804\u001b[0m         \u001b[0ms\u001b[0m \u001b[0;34m=\u001b[0m \u001b[0mgf_lshift\u001b[0m\u001b[0;34m(\u001b[0m\u001b[0ms\u001b[0m\u001b[0;34m,\u001b[0m \u001b[0mm\u001b[0m\u001b[0;34m,\u001b[0m \u001b[0mK\u001b[0m\u001b[0;34m)\u001b[0m\u001b[0;34m\u001b[0m\u001b[0;34m\u001b[0m\u001b[0m\n",
            "\u001b[0;32m/usr/local/lib/python3.10/dist-packages/sympy/polys/galoistools.py\u001b[0m in \u001b[0;36mgf_gcdex\u001b[0;34m(f, g, p, K)\u001b[0m\n\u001b[1;32m   1107\u001b[0m         \u001b[0;32mreturn\u001b[0m \u001b[0;34m[\u001b[0m\u001b[0mK\u001b[0m\u001b[0;34m.\u001b[0m\u001b[0mone\u001b[0m\u001b[0;34m]\u001b[0m\u001b[0;34m,\u001b[0m \u001b[0;34m[\u001b[0m\u001b[0;34m]\u001b[0m\u001b[0;34m,\u001b[0m \u001b[0;34m[\u001b[0m\u001b[0;34m]\u001b[0m\u001b[0;34m\u001b[0m\u001b[0;34m\u001b[0m\u001b[0m\n\u001b[1;32m   1108\u001b[0m \u001b[0;34m\u001b[0m\u001b[0m\n\u001b[0;32m-> 1109\u001b[0;31m     \u001b[0mp0\u001b[0m\u001b[0;34m,\u001b[0m \u001b[0mr0\u001b[0m \u001b[0;34m=\u001b[0m \u001b[0mgf_monic\u001b[0m\u001b[0;34m(\u001b[0m\u001b[0mf\u001b[0m\u001b[0;34m,\u001b[0m \u001b[0mp\u001b[0m\u001b[0;34m,\u001b[0m \u001b[0mK\u001b[0m\u001b[0;34m)\u001b[0m\u001b[0;34m\u001b[0m\u001b[0;34m\u001b[0m\u001b[0m\n\u001b[0m\u001b[1;32m   1110\u001b[0m     \u001b[0mp1\u001b[0m\u001b[0;34m,\u001b[0m \u001b[0mr1\u001b[0m \u001b[0;34m=\u001b[0m \u001b[0mgf_monic\u001b[0m\u001b[0;34m(\u001b[0m\u001b[0mg\u001b[0m\u001b[0;34m,\u001b[0m \u001b[0mp\u001b[0m\u001b[0;34m,\u001b[0m \u001b[0mK\u001b[0m\u001b[0;34m)\u001b[0m\u001b[0;34m\u001b[0m\u001b[0;34m\u001b[0m\u001b[0m\n\u001b[1;32m   1111\u001b[0m \u001b[0;34m\u001b[0m\u001b[0m\n",
            "\u001b[0;32m/usr/local/lib/python3.10/dist-packages/sympy/polys/galoistools.py\u001b[0m in \u001b[0;36mgf_monic\u001b[0;34m(f, p, K)\u001b[0m\n\u001b[1;32m   1137\u001b[0m \u001b[0;34m\u001b[0m\u001b[0m\n\u001b[1;32m   1138\u001b[0m \u001b[0;34m\u001b[0m\u001b[0m\n\u001b[0;32m-> 1139\u001b[0;31m \u001b[0;32mdef\u001b[0m \u001b[0mgf_monic\u001b[0m\u001b[0;34m(\u001b[0m\u001b[0mf\u001b[0m\u001b[0;34m,\u001b[0m \u001b[0mp\u001b[0m\u001b[0;34m,\u001b[0m \u001b[0mK\u001b[0m\u001b[0;34m)\u001b[0m\u001b[0;34m:\u001b[0m\u001b[0;34m\u001b[0m\u001b[0;34m\u001b[0m\u001b[0m\n\u001b[0m\u001b[1;32m   1140\u001b[0m     \"\"\"\n\u001b[1;32m   1141\u001b[0m     \u001b[0mCompute\u001b[0m \u001b[0mLC\u001b[0m \u001b[0;32mand\u001b[0m \u001b[0ma\u001b[0m \u001b[0mmonic\u001b[0m \u001b[0mpolynomial\u001b[0m \u001b[0;32min\u001b[0m\u001b[0;31m \u001b[0m\u001b[0;31m`\u001b[0m\u001b[0;31m`\u001b[0m\u001b[0mGF\u001b[0m\u001b[0;34m(\u001b[0m\u001b[0mp\u001b[0m\u001b[0;34m)\u001b[0m\u001b[0;34m[\u001b[0m\u001b[0mx\u001b[0m\u001b[0;34m]\u001b[0m\u001b[0;31m`\u001b[0m\u001b[0;31m`\u001b[0m\u001b[0;34m.\u001b[0m\u001b[0;34m\u001b[0m\u001b[0;34m\u001b[0m\u001b[0m\n",
            "\u001b[0;31mKeyboardInterrupt\u001b[0m: "
          ]
        }
      ],
      "source": [
        "if a != 1:\n",
        "    u = V1*q1+V2*q2\n",
        "else:\n",
        "    u = V1*q1\n",
        "simplify(u)"
      ]
    },
    {
      "cell_type": "code",
      "execution_count": null,
      "metadata": {
        "id": "xI_uA2dU4mKc"
      },
      "outputs": [],
      "source": [
        "N(u.subs({EI:1,psi:0.1,L:1,rho:1,omega:10}))"
      ]
    },
    {
      "cell_type": "code",
      "execution_count": null,
      "metadata": {
        "id": "QPS64L_24mKc"
      },
      "outputs": [],
      "source": [
        "t_vec = np.arange(0, 3, 0.01)\n",
        "if a == 1:  #Solo u1.\n",
        "    u_vec1 = np.array([N(u[0].subs({EI:1,psi:0.1,L:1,rho:1,omega:10,t:tt})) for tt in t_vec])\n",
        "else:\n",
        "    u_vec1 = np.array([N(u[0].subs({EI:1,psi:0.1,L:1,rho:1,omega:10,t:tt})) for tt in t_vec])\n",
        "    u_vec2 = np.array([N(u[1].subs({EI:1,psi:0.1,L:1,rho:1,omega:10,t:tt})) for tt in t_vec])"
      ]
    },
    {
      "cell_type": "code",
      "execution_count": null,
      "metadata": {
        "id": "Hl6fZ_E74mKd"
      },
      "outputs": [],
      "source": [
        "if a == 1:  #Solo u1.\n",
        "    plt.plot(t_vec, u_vec1);\n",
        "    plt.show()\n",
        "else:\n",
        "    plt.plot(t_vec, u_vec1);\n",
        "    plt.plot(t_vec, u_vec2);\n",
        "    plt.show()"
      ]
    }
  ],
  "metadata": {
    "kernelspec": {
      "display_name": "Python 3 (ipykernel)",
      "language": "python",
      "name": "python3"
    },
    "language_info": {
      "codemirror_mode": {
        "name": "ipython",
        "version": 3
      },
      "file_extension": ".py",
      "mimetype": "text/x-python",
      "name": "python",
      "nbconvert_exporter": "python",
      "pygments_lexer": "ipython3",
      "version": "3.8.10"
    },
    "colab": {
      "provenance": [],
      "include_colab_link": true
    }
  },
  "nbformat": 4,
  "nbformat_minor": 0
}