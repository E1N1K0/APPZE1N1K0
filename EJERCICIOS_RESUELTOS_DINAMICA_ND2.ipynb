{
  "nbformat": 4,
  "nbformat_minor": 0,
  "metadata": {
    "colab": {
      "provenance": [],
      "include_colab_link": true
    },
    "kernelspec": {
      "name": "python3",
      "display_name": "Python 3"
    },
    "language_info": {
      "name": "python"
    }
  },
  "cells": [
    {
      "cell_type": "markdown",
      "metadata": {
        "id": "view-in-github",
        "colab_type": "text"
      },
      "source": [
        "<a href=\"https://colab.research.google.com/github/E1N1K0/APPZE1N1K0/blob/main/EJERCICIOS_RESUELTOS_DINAMICA_ND2.ipynb\" target=\"_parent\"><img src=\"https://colab.research.google.com/assets/colab-badge.svg\" alt=\"Open In Colab\"/></a>"
      ]
    },
    {
      "cell_type": "markdown",
      "source": [
        "**TAREA SMGdl**\n",
        "\n",
        "---\n",
        "\n"
      ],
      "metadata": {
        "id": "YPec3gbzuf_H"
      }
    },
    {
      "cell_type": "markdown",
      "source": [
        "**DATOS INICIALES**"
      ],
      "metadata": {
        "id": "1xUzilcWuLIW"
      }
    },
    {
      "cell_type": "code",
      "execution_count": 91,
      "metadata": {
        "id": "Mtu5pOmJtDDu"
      },
      "outputs": [],
      "source": [
        "# IMPORTAR LIBRERIAS\n",
        "from sympy import *\n",
        "import numpy as np"
      ]
    },
    {
      "cell_type": "code",
      "source": [
        "# DEFINICION DE SIMBOLOS\n",
        "init_printing()\n",
        "\n",
        "#EI: Rigidez a la flexión:\n",
        "EI = symbols(\"EI\")\n",
        "#L: Longitud:\n",
        "L = symbols(\"L\")\n",
        "#rho: Densidad:\n",
        "rho = symbols(\"rho\")\n",
        "#omega: Frecuencia natural:\n",
        "omega = symbols(\"omega\")\n",
        "#u1, u2, u3: Desplazamientos:\n",
        "u1, u2, u3 = symbols(\"u1, u2, u3\")\n",
        "#psi: Función de forma:\n",
        "psi = symbols(\"psi\")\n",
        "#t: Tiempo:\n",
        "t = symbols(\"t\")\n",
        "#po: Carga aplicada:\n",
        "po = symbols(\"po\")\n",
        "#omegabar: Frecuencia reducida:\n",
        "omegabar = symbols(\"omegabar\")\n",
        "phi1 = symbols('phi1')\n",
        "phi2 = symbols('phi2')\n",
        "phi11 = symbols('phi11')\n",
        "phi12 = symbols('phi12')\n",
        "phi21 = symbols('phi21')\n",
        "phi22 = symbols('phi22')"
      ],
      "metadata": {
        "id": "vGOIUXxqvILX"
      },
      "execution_count": 92,
      "outputs": []
    },
    {
      "cell_type": "code",
      "source": [
        "# CIFRAS PERSONALIZADAS\n",
        "C1 = 1\n",
        "C2 = 0.89\n",
        "C3 = 0.9\n",
        "C4 = 1.1\n",
        "\n",
        "estructuras = [f\"Se evaluará la estructura numero {num}.\" for num in [\n",
        "    1 if C1 % 2 == 0 else 2,\n",
        "    3 if C2 % 2 == 0 else 4,\n",
        "    5 if C3 % 2 == 0 else 6\n",
        "]]\n",
        "\n",
        "for estructura in estructuras:\n",
        "    print(estructura)"
      ],
      "metadata": {
        "colab": {
          "base_uri": "https://localhost:8080/"
        },
        "id": "jLm7gq_KtM0q",
        "outputId": "14675a8b-d323-4d61-e482-e8e08213efe9"
      },
      "execution_count": 93,
      "outputs": [
        {
          "output_type": "stream",
          "name": "stdout",
          "text": [
            "Se evaluará la estructura numero 2.\n",
            "Se evaluará la estructura numero 4.\n",
            "Se evaluará la estructura numero 6.\n"
          ]
        }
      ]
    },
    {
      "cell_type": "markdown",
      "source": [
        "**SOLUCION DEL EJERCICIO**"
      ],
      "metadata": {
        "id": "P7oxXFNH1B6w"
      }
    },
    {
      "cell_type": "markdown",
      "source": [
        "Ingreso de datos del ejercicio anterior:\n",
        "\n"
      ],
      "metadata": {
        "id": "j6IZXx0w1JT-"
      }
    },
    {
      "cell_type": "code",
      "source": [
        "# Definir la matriz de masa y rigidez original para cada ejercicio:\n",
        "\n",
        "Ej = \"Ej4\"\n",
        "\n",
        "if Ej == \"Ej1\":\n",
        "    M=Matrix([[rho*L/2,0,0],[0,0,0],[0,0,0]])\n",
        "    K=Matrix([[12*EI/L**3, -6*EI/L**2, -6*EI/L**2],[-6*EI/L**2, 4*EI/L**1,2*EI/L**1],[-6*EI/L**2,2*EI/L**1, 12*EI/L**1]])\n",
        "\n",
        "elif Ej == \"Ej2\":\n",
        "    M=Matrix([[rho*L/2,0,0],[0,0,0],[0,0,0]])\n",
        "    K=Matrix([[12*EI/L**3, -6*EI/L**2, 0],[-6*EI/L**2, 12*EI/L**1,4*EI/L**1],[0,4*EI/L**1, 8*EI/L**1]])\n",
        "\n",
        "elif Ej == \"Ej3\":\n",
        "    M=Matrix([[rho*L/2,0,0,0],[0,rho*L,0,0],[0,0,0,0],[0,0,0,0]])\n",
        "    K=Matrix([[12*EI/(L**3), -12*EI/(L**3), -6*EI/(L**2), 0], [-12*EI/(L**3), 36*EI/(L**3), -6*EI/(L**2), -12*EI/(L**2)], [-6*EI/(L**2), -6*EI/(L**2), 12*EI/(L**1), 4*EI/(L**1)], [0, -12*EI/(L**2), 4*EI/(L**1), 8*EI/(L**1)]])\n",
        "\n",
        "elif Ej == \"Ej4\":\n",
        "    M=Matrix([[rho*L/2,0,0,0],[0,rho*L/2,0,0],[0,0,0,0],[0,0,0,0]])\n",
        "    K=Matrix([[24*EI/(L**3), 0, -12*EI/(L**2), 0], [0, 12*EI/(L**3), 6*EI/(L**2), 6*EI/(L**2)], [-12*EI/(L**2), 6*EI/(L**2), 12*EI/(L**1), 2*EI/(L**1)], [0, 6*EI/(L**2), 2*EI/(L**1), 4*EI/(L**1)]])\n",
        "\n",
        "elif Ej == \"Ej5\":\n",
        "    M=Matrix([[3*rho*L,0,0],[0,2*rho*L,0],[0,0,0],[0,0,0]])\n",
        "    K=Matrix([[96*EI/L**3, -24*EI/L**3, 18*EI/L**2],[-24*EI/L**3, 24*EI/L**3, 0],[18*EI/L**2,0, 12*EI/L**1]])\n",
        "\n",
        "elif Ej == \"Ej6\":\n",
        "    M=Matrix([[5*rho*L/2,0,0],[0,rho*L/2,0],[0,0,0],[0,0,0]])\n",
        "    K=Matrix([[48*EI/L**3, -12*EI/L**3, 6*EI/L**2],[-12*EI/L**3, 12*EI/L**3, 0],[6*EI/L**2,0, 4*EI/L**1]])\n",
        "\n",
        "elif Ej == \"Ej3x3\":\n",
        "    M = Matrix([[1, 2, 3], [4, 5, 6], [7, 8, 9]])\n",
        "    K = Matrix([[1, 2, 3], [4, 5, 6], [7, 8, 9]])\n",
        "\n",
        "elif Ej == \"Ej4x4\":\n",
        "    M = Matrix([[1, 2, 3, 4], [5, 6, 7, 8], [9, 10, 11, 12], [13, 14, 15, 16]])\n",
        "    K = Matrix([[1, 2, 3, 4], [5, 6, 7, 8], [9, 10, 11, 12], [13, 14, 15, 16]])\n",
        "\n",
        "else:\n",
        "    M = None\n",
        "    K = None\n",
        "\n",
        "#EjLibro: Falta\n",
        "#M=Matrix([[rho*L/4,0,0,0],[0,rho*L/2,0,0],[0,0,0,0]])\n",
        "#K=4*EI/L**3*Matrix([[24, -24, -6*L, -6*L],[-24, 48, 6*L, 0],[-6*L, 6*L, 2*L**2, L**2],[-6*L, 0, L**2, 4*L**2]])"
      ],
      "metadata": {
        "id": "ODIb8xgxIMOy"
      },
      "execution_count": 94,
      "outputs": []
    },
    {
      "cell_type": "code",
      "source": [
        "# Matriz de masa original\n",
        "M"
      ],
      "metadata": {
        "colab": {
          "base_uri": "https://localhost:8080/",
          "height": 101
        },
        "id": "nVzgrnMhoVZn",
        "outputId": "f9cc6837-ae69-4399-fbae-3da544ffcb64"
      },
      "execution_count": 95,
      "outputs": [
        {
          "output_type": "execute_result",
          "data": {
            "text/plain": [
              "⎡L⋅ρ           ⎤\n",
              "⎢───   0   0  0⎥\n",
              "⎢ 2            ⎥\n",
              "⎢              ⎥\n",
              "⎢     L⋅ρ      ⎥\n",
              "⎢ 0   ───  0  0⎥\n",
              "⎢      2       ⎥\n",
              "⎢              ⎥\n",
              "⎢ 0    0   0  0⎥\n",
              "⎢              ⎥\n",
              "⎣ 0    0   0  0⎦"
            ],
            "text/latex": "$\\displaystyle \\left[\\begin{matrix}\\frac{L \\rho}{2} & 0 & 0 & 0\\\\0 & \\frac{L \\rho}{2} & 0 & 0\\\\0 & 0 & 0 & 0\\\\0 & 0 & 0 & 0\\end{matrix}\\right]$"
          },
          "metadata": {},
          "execution_count": 95
        }
      ]
    },
    {
      "cell_type": "code",
      "source": [
        "# Matriz de rigidez original\n",
        "K"
      ],
      "metadata": {
        "colab": {
          "base_uri": "https://localhost:8080/",
          "height": 101
        },
        "id": "mWesv8FctZfF",
        "outputId": "06ebba60-ae0b-491d-bf68-046c56d9e89b"
      },
      "execution_count": 96,
      "outputs": [
        {
          "output_type": "execute_result",
          "data": {
            "text/plain": [
              "⎡ 24⋅EI          -12⋅EI       ⎤\n",
              "⎢ ─────     0    ───────   0  ⎥\n",
              "⎢    3               2        ⎥\n",
              "⎢   L               L         ⎥\n",
              "⎢                             ⎥\n",
              "⎢         12⋅EI   6⋅EI    6⋅EI⎥\n",
              "⎢   0     ─────   ────    ────⎥\n",
              "⎢            3      2       2 ⎥\n",
              "⎢           L      L       L  ⎥\n",
              "⎢                             ⎥\n",
              "⎢-12⋅EI   6⋅EI    12⋅EI   2⋅EI⎥\n",
              "⎢───────  ────    ─────   ────⎥\n",
              "⎢    2      2       L      L  ⎥\n",
              "⎢   L      L                  ⎥\n",
              "⎢                             ⎥\n",
              "⎢         6⋅EI    2⋅EI    4⋅EI⎥\n",
              "⎢   0     ────    ────    ────⎥\n",
              "⎢           2      L       L  ⎥\n",
              "⎣          L                  ⎦"
            ],
            "text/latex": "$\\displaystyle \\left[\\begin{matrix}\\frac{24 EI}{L^{3}} & 0 & - \\frac{12 EI}{L^{2}} & 0\\\\0 & \\frac{12 EI}{L^{3}} & \\frac{6 EI}{L^{2}} & \\frac{6 EI}{L^{2}}\\\\- \\frac{12 EI}{L^{2}} & \\frac{6 EI}{L^{2}} & \\frac{12 EI}{L} & \\frac{2 EI}{L}\\\\0 & \\frac{6 EI}{L^{2}} & \\frac{2 EI}{L} & \\frac{4 EI}{L}\\end{matrix}\\right]$"
          },
          "metadata": {},
          "execution_count": 96
        }
      ]
    },
    {
      "cell_type": "markdown",
      "source": [
        "**DESARROLLO:**"
      ],
      "metadata": {
        "id": "DXCp28_qLmrc"
      }
    },
    {
      "cell_type": "code",
      "source": [
        "#Para automatizar el proceso, definir aceleraciones, u¨:\n",
        "#segun criterio: Si no tiene masa la aceleracion es 0.\n",
        "a = b = 1 if np.count_nonzero(M) == 1 else 2\n",
        "print(f'Se reducirá a una matriz de {a,b}')"
      ],
      "metadata": {
        "colab": {
          "base_uri": "https://localhost:8080/"
        },
        "id": "CTtiLBbzLg_H",
        "outputId": "2e39bb0c-4a2b-45fd-956b-2cdd60c5e89e"
      },
      "execution_count": 97,
      "outputs": [
        {
          "output_type": "stream",
          "name": "stdout",
          "text": [
            "Se reducirá a una matriz de (2, 2)\n"
          ]
        }
      ]
    },
    {
      "cell_type": "code",
      "source": [
        "# Matriz de Masa Mtt\n",
        "# Acceder a la submatriz en la esquina superior izquierda\n",
        "Mtt= M[:a, :b]\n",
        "Mtt"
      ],
      "metadata": {
        "colab": {
          "base_uri": "https://localhost:8080/",
          "height": 61
        },
        "id": "hsVR4IgCJAvQ",
        "outputId": "b5ff0206-af4f-43a0-8502-4c123711e7bb"
      },
      "execution_count": 98,
      "outputs": [
        {
          "output_type": "execute_result",
          "data": {
            "text/plain": [
              "⎡L⋅ρ     ⎤\n",
              "⎢───   0 ⎥\n",
              "⎢ 2      ⎥\n",
              "⎢        ⎥\n",
              "⎢     L⋅ρ⎥\n",
              "⎢ 0   ───⎥\n",
              "⎣      2 ⎦"
            ],
            "text/latex": "$\\displaystyle \\left[\\begin{matrix}\\frac{L \\rho}{2} & 0\\\\0 & \\frac{L \\rho}{2}\\end{matrix}\\right]$"
          },
          "metadata": {},
          "execution_count": 98
        }
      ]
    },
    {
      "cell_type": "code",
      "source": [
        "# Calculo de los terminos de la matriz de Rigidez\n",
        "# Acceder a la submatriz en la esquina superior izquierda\n",
        "Ktt= K[:a, :b]\n",
        "Ktt"
      ],
      "metadata": {
        "colab": {
          "base_uri": "https://localhost:8080/",
          "height": 59
        },
        "id": "9Uvo4h0On54b",
        "outputId": "e13d39cf-5fa9-414f-88e2-d366ae5633f3"
      },
      "execution_count": 99,
      "outputs": [
        {
          "output_type": "execute_result",
          "data": {
            "text/plain": [
              "⎡24⋅EI       ⎤\n",
              "⎢─────    0  ⎥\n",
              "⎢   3        ⎥\n",
              "⎢  L         ⎥\n",
              "⎢            ⎥\n",
              "⎢       12⋅EI⎥\n",
              "⎢  0    ─────⎥\n",
              "⎢          3 ⎥\n",
              "⎣         L  ⎦"
            ],
            "text/latex": "$\\displaystyle \\left[\\begin{matrix}\\frac{24 EI}{L^{3}} & 0\\\\0 & \\frac{12 EI}{L^{3}}\\end{matrix}\\right]$"
          },
          "metadata": {},
          "execution_count": 99
        }
      ]
    },
    {
      "cell_type": "code",
      "source": [
        "# Acceder a la submatriz en la esquina inferior izquierda\n",
        "Kot= K[a:, :b]\n",
        "Kot"
      ],
      "metadata": {
        "colab": {
          "base_uri": "https://localhost:8080/",
          "height": 59
        },
        "id": "sHHDDgHpn9FG",
        "outputId": "bc2e0de9-676a-4dd9-f14a-560ddd4f0578"
      },
      "execution_count": 100,
      "outputs": [
        {
          "output_type": "execute_result",
          "data": {
            "text/plain": [
              "⎡-12⋅EI   6⋅EI⎤\n",
              "⎢───────  ────⎥\n",
              "⎢    2      2 ⎥\n",
              "⎢   L      L  ⎥\n",
              "⎢             ⎥\n",
              "⎢         6⋅EI⎥\n",
              "⎢   0     ────⎥\n",
              "⎢           2 ⎥\n",
              "⎣          L  ⎦"
            ],
            "text/latex": "$\\displaystyle \\left[\\begin{matrix}- \\frac{12 EI}{L^{2}} & \\frac{6 EI}{L^{2}}\\\\0 & \\frac{6 EI}{L^{2}}\\end{matrix}\\right]$"
          },
          "metadata": {},
          "execution_count": 100
        }
      ]
    },
    {
      "cell_type": "code",
      "source": [
        "# Acceder a la submatriz en la esquina inferior derecha\n",
        "Koo= K[(a):, (b):]\n",
        "Koo"
      ],
      "metadata": {
        "colab": {
          "base_uri": "https://localhost:8080/",
          "height": 59
        },
        "id": "VgMFzU6_oBU2",
        "outputId": "e1aa4b29-9f38-40e0-f0b2-ceb9bd54160c"
      },
      "execution_count": 101,
      "outputs": [
        {
          "output_type": "execute_result",
          "data": {
            "text/plain": [
              "⎡12⋅EI  2⋅EI⎤\n",
              "⎢─────  ────⎥\n",
              "⎢  L     L  ⎥\n",
              "⎢           ⎥\n",
              "⎢2⋅EI   4⋅EI⎥\n",
              "⎢────   ────⎥\n",
              "⎣ L      L  ⎦"
            ],
            "text/latex": "$\\displaystyle \\left[\\begin{matrix}\\frac{12 EI}{L} & \\frac{2 EI}{L}\\\\\\frac{2 EI}{L} & \\frac{4 EI}{L}\\end{matrix}\\right]$"
          },
          "metadata": {},
          "execution_count": 101
        }
      ]
    },
    {
      "cell_type": "code",
      "source": [
        "# Matriz de Rigidez Condensada\n",
        "Kcond=Ktt-Kot.transpose()*Koo.inv()*Kot\n",
        "Kcond"
      ],
      "metadata": {
        "colab": {
          "base_uri": "https://localhost:8080/",
          "height": 59
        },
        "id": "enOlW2jGo3Kg",
        "outputId": "06316cac-e4da-4580-998f-a570690b0c00"
      },
      "execution_count": 102,
      "outputs": [
        {
          "output_type": "execute_result",
          "data": {
            "text/plain": [
              "⎡120⋅EI  36⋅EI⎤\n",
              "⎢──────  ─────⎥\n",
              "⎢    3       3⎥\n",
              "⎢11⋅L    11⋅L ⎥\n",
              "⎢             ⎥\n",
              "⎢36⋅EI   24⋅EI⎥\n",
              "⎢─────   ─────⎥\n",
              "⎢    3       3⎥\n",
              "⎣11⋅L    11⋅L ⎦"
            ],
            "text/latex": "$\\displaystyle \\left[\\begin{matrix}\\frac{120 EI}{11 L^{3}} & \\frac{36 EI}{11 L^{3}}\\\\\\frac{36 EI}{11 L^{3}} & \\frac{24 EI}{11 L^{3}}\\end{matrix}\\right]$"
          },
          "metadata": {},
          "execution_count": 102
        }
      ]
    },
    {
      "cell_type": "markdown",
      "source": [
        "#Bien hasta aqui."
      ],
      "metadata": {
        "id": "Ml7b4VRzpI1m"
      }
    },
    {
      "cell_type": "markdown",
      "source": [
        "**FRECUENCIAS DE VIBRACION**\n",
        "\n",
        "Una vez determinada la matriz de rigidez condensada, se obtienen las frecuencias naturales al desarrollar el determinante e igualado a 0."
      ],
      "metadata": {
        "id": "wmt7hQ3UDkjL"
      }
    },
    {
      "cell_type": "markdown",
      "source": [
        "Ktt^=Kcond<br>\n",
        "[Kcond - omega ** 2 * mtt] * fi = 0 <br>\n",
        "Para fi distinto de 0 => det[kcond - omega ** 2 * m] = 0"
      ],
      "metadata": {
        "id": "FzLRrtyOGi6B"
      }
    },
    {
      "cell_type": "code",
      "source": [
        "# FRECUENCIAS DE VIBRACION\n",
        "# Calculo del determinante\n",
        "det = det(Kcond - omega**2 * Mtt)\n",
        "det"
      ],
      "metadata": {
        "colab": {
          "base_uri": "https://localhost:8080/",
          "height": 54
        },
        "id": "a8qFTFW6DlvV",
        "outputId": "0f38a59c-2686-40b2-9971-abdf715c11f0"
      },
      "execution_count": 103,
      "outputs": [
        {
          "output_type": "execute_result",
          "data": {
            "text/plain": [
              "      2           4  2         8  4  2\n",
              "576⋅EI  - 288⋅EI⋅L ⋅ω ⋅ρ + 11⋅L ⋅ω ⋅ρ \n",
              "──────────────────────────────────────\n",
              "                    6                 \n",
              "                44⋅L                  "
            ],
            "text/latex": "$\\displaystyle \\frac{576 EI^{2} - 288 EI L^{4} \\omega^{2} \\rho + 11 L^{8} \\omega^{4} \\rho^{2}}{44 L^{6}}$"
          },
          "metadata": {},
          "execution_count": 103
        }
      ]
    },
    {
      "cell_type": "markdown",
      "source": [
        "**MODO DE VIBRACION**\n"
      ],
      "metadata": {
        "id": "l62MgWskJ_Ec"
      }
    },
    {
      "cell_type": "code",
      "source": [
        "#Modo de vibracion\n",
        "if np.count_nonzero(M) == 1:\n",
        "    omega_1 , omega1 = solve(det,omega)\n",
        "    oomega1 = omega1.evalf(5)\n",
        "    numbers1 = {atom for atom in oomega1.atoms() if atom.is_number};numbers1\n",
        "    n1list = list(numbers1)\n",
        "    n1 = (n1list[0])\n",
        "else:\n",
        "    omega_1 , omega1, omega_2, omega2 = solve(det,omega)\n",
        "    oomega2 = omega2.evalf(5)\n",
        "    numbers2 = {atom for atom in oomega2.atoms() if atom.is_number};numbers2\n",
        "    n2list = list(numbers2)\n",
        "    n2 = (n2list[1])"
      ],
      "metadata": {
        "id": "ptuf8cr2VI_I"
      },
      "execution_count": 104,
      "outputs": []
    },
    {
      "cell_type": "code",
      "source": [
        "omega1.evalf(5)"
      ],
      "metadata": {
        "colab": {
          "base_uri": "https://localhost:8080/",
          "height": 69
        },
        "id": "d9HMYyLXVh5w",
        "outputId": "5f1320bc-88a4-49be-868c-89c0ea2acae5"
      },
      "execution_count": 105,
      "outputs": [
        {
          "output_type": "execute_result",
          "data": {
            "text/plain": [
              "          0.5\n",
              "      ⎛EI⎞   \n",
              "4.899⋅⎜──⎟   \n",
              "      ⎝ρ ⎠   \n",
              "─────────────\n",
              "       2     \n",
              "      L      "
            ],
            "text/latex": "$\\displaystyle \\frac{4.899 \\left(\\frac{EI}{\\rho}\\right)^{0.5}}{L^{2}}$"
          },
          "metadata": {},
          "execution_count": 105
        }
      ]
    },
    {
      "cell_type": "code",
      "source": [
        "if np.count_nonzero(M) == 1:\n",
        "    pass\n",
        "else:\n",
        "    display(omega2.evalf(5))"
      ],
      "metadata": {
        "colab": {
          "base_uri": "https://localhost:8080/",
          "height": 69
        },
        "id": "GmpurDPDVuTR",
        "outputId": "b5b67c1b-b043-475c-b96d-5e7209266131"
      },
      "execution_count": 106,
      "outputs": [
        {
          "output_type": "display_data",
          "data": {
            "text/plain": [
              "           0.5\n",
              "       ⎛EI⎞   \n",
              "1.4771⋅⎜──⎟   \n",
              "       ⎝ρ ⎠   \n",
              "──────────────\n",
              "       2      \n",
              "      L       "
            ],
            "text/latex": "$\\displaystyle \\frac{1.4771 \\left(\\frac{EI}{\\rho}\\right)^{0.5}}{L^{2}}$"
          },
          "metadata": {}
        }
      ]
    },
    {
      "cell_type": "markdown",
      "source": [
        "Para obtener el vector de modo de vibración en la frecuencia natural 1, se iguala uno de los términos a 1 y con la Ec 5, se obtienen ambos vectores φ𝑖."
      ],
      "metadata": {
        "id": "Q5htBjZSBNaR"
      }
    },
    {
      "cell_type": "code",
      "source": [
        "if np.count_nonzero(M) == 1:\n",
        "    phi1 = Matrix([[phi12]])\n",
        "else:\n",
        "    phi1 = Matrix([[1],[phi12]])\n",
        "\n",
        "phi1"
      ],
      "metadata": {
        "colab": {
          "base_uri": "https://localhost:8080/",
          "height": 58
        },
        "id": "QV9UTtOEV0Sb",
        "outputId": "22cbf2e6-7d2e-4d10-a5d3-eab454ced2b1"
      },
      "execution_count": 107,
      "outputs": [
        {
          "output_type": "execute_result",
          "data": {
            "text/plain": [
              "⎡ 1 ⎤\n",
              "⎢   ⎥\n",
              "⎣φ₁₂⎦"
            ],
            "text/latex": "$\\displaystyle \\left[\\begin{matrix}1\\\\\\phi_{12}\\end{matrix}\\right]$"
          },
          "metadata": {},
          "execution_count": 107
        }
      ]
    },
    {
      "cell_type": "code",
      "source": [
        "fdet = ((Kcond - ((omega1**2) * Mtt)) * phi1)\n",
        "fdet"
      ],
      "metadata": {
        "colab": {
          "base_uri": "https://localhost:8080/",
          "height": 61
        },
        "id": "z4iIk-JZV8zT",
        "outputId": "a1fb81ae-5e9d-4afa-9e44-bc49fc5e855f"
      },
      "execution_count": 108,
      "outputs": [
        {
          "output_type": "execute_result",
          "data": {
            "text/plain": [
              "⎡ 36⋅EI⋅φ₁₂   12⋅EI  ⎤\n",
              "⎢ ───────── - ─────  ⎥\n",
              "⎢       3         3  ⎥\n",
              "⎢   11⋅L      11⋅L   ⎥\n",
              "⎢                    ⎥\n",
              "⎢  108⋅EI⋅φ₁₂   36⋅EI⎥\n",
              "⎢- ────────── + ─────⎥\n",
              "⎢        3          3⎥\n",
              "⎣    11⋅L       11⋅L ⎦"
            ],
            "text/latex": "$\\displaystyle \\left[\\begin{matrix}\\frac{36 EI \\phi_{12}}{11 L^{3}} - \\frac{12 EI}{11 L^{3}}\\\\- \\frac{108 EI \\phi_{12}}{11 L^{3}} + \\frac{36 EI}{11 L^{3}}\\end{matrix}\\right]$"
          },
          "metadata": {},
          "execution_count": 108
        }
      ]
    },
    {
      "cell_type": "code",
      "source": [
        "phi12 = solve(fdet, phi12)"
      ],
      "metadata": {
        "id": "670lNDJ2X3aa"
      },
      "execution_count": 109,
      "outputs": []
    },
    {
      "cell_type": "code",
      "source": [
        "phi12 = list(phi12.values())\n",
        "phi12 = (phi12[0].evalf(5))\n",
        "phi12"
      ],
      "metadata": {
        "colab": {
          "base_uri": "https://localhost:8080/",
          "height": 37
        },
        "id": "61PyMdn5ZAl-",
        "outputId": "136b00b8-4ed2-403d-d40a-6fc9a8eff4fe"
      },
      "execution_count": 110,
      "outputs": [
        {
          "output_type": "execute_result",
          "data": {
            "text/plain": [
              "0.33333"
            ],
            "text/latex": "$\\displaystyle 0.33333$"
          },
          "metadata": {},
          "execution_count": 110
        }
      ]
    },
    {
      "cell_type": "code",
      "source": [
        "phi2 = Matrix([[1],[phi22]])\n",
        "phi2"
      ],
      "metadata": {
        "colab": {
          "base_uri": "https://localhost:8080/",
          "height": 58
        },
        "id": "924GMqRTY3mL",
        "outputId": "779e3dbe-b979-414a-aed0-1a7e0947ba8b"
      },
      "execution_count": 111,
      "outputs": [
        {
          "output_type": "execute_result",
          "data": {
            "text/plain": [
              "⎡ 1 ⎤\n",
              "⎢   ⎥\n",
              "⎣φ₂₂⎦"
            ],
            "text/latex": "$\\displaystyle \\left[\\begin{matrix}1\\\\\\phi_{22}\\end{matrix}\\right]$"
          },
          "metadata": {},
          "execution_count": 111
        }
      ]
    },
    {
      "cell_type": "code",
      "source": [
        "fdet2 = ((Kcond - ((omega2**2) * Mtt)) * phi2);fdet2"
      ],
      "metadata": {
        "colab": {
          "base_uri": "https://localhost:8080/",
          "height": 61
        },
        "id": "UYdIqOxNZNJ6",
        "outputId": "33cae980-7a9c-42d4-b891-98c09895d3db"
      },
      "execution_count": 112,
      "outputs": [
        {
          "output_type": "execute_result",
          "data": {
            "text/plain": [
              "⎡36⋅EI⋅φ₂₂   108⋅EI⎤\n",
              "⎢───────── + ──────⎥\n",
              "⎢      3         3 ⎥\n",
              "⎢  11⋅L      11⋅L  ⎥\n",
              "⎢                  ⎥\n",
              "⎢12⋅EI⋅φ₂₂   36⋅EI ⎥\n",
              "⎢───────── + ───── ⎥\n",
              "⎢      3         3 ⎥\n",
              "⎣  11⋅L      11⋅L  ⎦"
            ],
            "text/latex": "$\\displaystyle \\left[\\begin{matrix}\\frac{36 EI \\phi_{22}}{11 L^{3}} + \\frac{108 EI}{11 L^{3}}\\\\\\frac{12 EI \\phi_{22}}{11 L^{3}} + \\frac{36 EI}{11 L^{3}}\\end{matrix}\\right]$"
          },
          "metadata": {},
          "execution_count": 112
        }
      ]
    },
    {
      "cell_type": "code",
      "source": [
        "phi22 = solve(fdet2, phi22)"
      ],
      "metadata": {
        "id": "T__dtzLZZWdn"
      },
      "execution_count": 113,
      "outputs": []
    },
    {
      "cell_type": "code",
      "source": [
        "phi22 = list(phi22.values())\n",
        "phi22 = (phi22[0].evalf(5))\n",
        "phi22"
      ],
      "metadata": {
        "colab": {
          "base_uri": "https://localhost:8080/",
          "height": 37
        },
        "id": "op1M6r4PZaBu",
        "outputId": "2baeb3f5-642d-40c5-acd0-40cbe5aff5a8"
      },
      "execution_count": 114,
      "outputs": [
        {
          "output_type": "execute_result",
          "data": {
            "text/plain": [
              "-3.0000"
            ],
            "text/latex": "$\\displaystyle -3.0$"
          },
          "metadata": {},
          "execution_count": 114
        }
      ]
    },
    {
      "cell_type": "code",
      "source": [
        "phi1 = Matrix([[1],[phi12]])\n",
        "phi1"
      ],
      "metadata": {
        "colab": {
          "base_uri": "https://localhost:8080/",
          "height": 58
        },
        "id": "OqyXtIa3ZlBI",
        "outputId": "67289fa4-3d81-4654-817d-1730a95b2b52"
      },
      "execution_count": 115,
      "outputs": [
        {
          "output_type": "execute_result",
          "data": {
            "text/plain": [
              "⎡   1   ⎤\n",
              "⎢       ⎥\n",
              "⎣0.33333⎦"
            ],
            "text/latex": "$\\displaystyle \\left[\\begin{matrix}1\\\\0.33333\\end{matrix}\\right]$"
          },
          "metadata": {},
          "execution_count": 115
        }
      ]
    },
    {
      "cell_type": "code",
      "source": [
        "phi2 = Matrix([[1],[phi22]])\n",
        "phi2"
      ],
      "metadata": {
        "colab": {
          "base_uri": "https://localhost:8080/",
          "height": 58
        },
        "id": "MxTNRqIiZrrj",
        "outputId": "be10f8ec-297a-4073-bd42-790070f4eda0"
      },
      "execution_count": 116,
      "outputs": [
        {
          "output_type": "execute_result",
          "data": {
            "text/plain": [
              "⎡ 1  ⎤\n",
              "⎢    ⎥\n",
              "⎣-3.0⎦"
            ],
            "text/latex": "$\\displaystyle \\left[\\begin{matrix}1\\\\-3.0\\end{matrix}\\right]$"
          },
          "metadata": {},
          "execution_count": 116
        }
      ]
    },
    {
      "cell_type": "markdown",
      "source": [
        "**GIROS EN FUNCION DE LOS DESPLAZAMIENTOS**"
      ],
      "metadata": {
        "id": "-CKRv6zqmWS_"
      }
    },
    {
      "cell_type": "markdown",
      "source": [
        "Se utiliza la Ec 3:"
      ],
      "metadata": {
        "id": "EdlkN4M1kg-G"
      }
    },
    {
      "cell_type": "code",
      "source": [
        "#Giros en función de los desplazamientos.\n",
        "#Definir un vector que contiene los desplazamientos:\n",
        "if np.count_nonzero(M) == 1:\n",
        "    Uo1 = -(Koo**-1)*Kot*phi1 ;Uo1\n",
        "    u = Matrix([[Uo1]])\n",
        "else:\n",
        "    Uo1 = -(Koo**-1)*Kot*phi1 ;Uo1\n",
        "    Uo2 = -(Koo**-1)*Kot*phi2 ;Uo2\n",
        "    u = Matrix([Uo1]),Matrix([Uo2])\n",
        "\n",
        "u"
      ],
      "metadata": {
        "colab": {
          "base_uri": "https://localhost:8080/",
          "height": 58
        },
        "id": "kT4KSgfWmbDO",
        "outputId": "cccb4bf0-c2d6-4fb8-81c9-a7c00f6c88a1"
      },
      "execution_count": 117,
      "outputs": [
        {
          "output_type": "execute_result",
          "data": {
            "text/plain": [
              "⎛⎡ 1.0 ⎤  ⎡1.9091⎤⎞\n",
              "⎜⎢ ─── ⎥  ⎢──────⎥⎟\n",
              "⎜⎢  L  ⎥  ⎢  L   ⎥⎟\n",
              "⎜⎢     ⎥, ⎢      ⎥⎟\n",
              "⎜⎢-1.0 ⎥  ⎢3.5455⎥⎟\n",
              "⎜⎢─────⎥  ⎢──────⎥⎟\n",
              "⎝⎣  L  ⎦  ⎣  L   ⎦⎠"
            ],
            "text/latex": "$\\displaystyle \\left( \\left[\\begin{matrix}\\frac{1.0}{L}\\\\- \\frac{1.0}{L}\\end{matrix}\\right], \\  \\left[\\begin{matrix}\\frac{1.9091}{L}\\\\\\frac{3.5455}{L}\\end{matrix}\\right]\\right)$"
          },
          "metadata": {},
          "execution_count": 117
        }
      ]
    },
    {
      "cell_type": "markdown",
      "source": [
        "**MASA MODAL**"
      ],
      "metadata": {
        "id": "Ic9CeqeMKWKg"
      }
    },
    {
      "cell_type": "markdown",
      "source": [
        "Se utiliza la Ec 6:"
      ],
      "metadata": {
        "id": "AkggsgOPLF6g"
      }
    },
    {
      "cell_type": "code",
      "source": [
        "#Masa modal del modo 1\n",
        "M1 = Transpose(phi1) * Mtt * phi1 ;M1"
      ],
      "metadata": {
        "colab": {
          "base_uri": "https://localhost:8080/",
          "height": 38
        },
        "id": "F-rSPQtsKnws",
        "outputId": "c2cd2b1b-cc75-431e-9efb-3ca1cedd2ca5"
      },
      "execution_count": 118,
      "outputs": [
        {
          "output_type": "execute_result",
          "data": {
            "text/plain": [
              "[0.55556⋅L⋅ρ]"
            ],
            "text/latex": "$\\displaystyle \\left[\\begin{matrix}0.55556 L \\rho\\end{matrix}\\right]$"
          },
          "metadata": {},
          "execution_count": 118
        }
      ]
    },
    {
      "cell_type": "code",
      "source": [
        "#Masa modal del modo 2\n",
        "M2 = Transpose(phi2) * Mtt * phi2 ;M2"
      ],
      "metadata": {
        "colab": {
          "base_uri": "https://localhost:8080/",
          "height": 38
        },
        "outputId": "e8aa48d8-1631-4786-d6e0-b43e4a08cf1c",
        "id": "j0DmqBPumBd3"
      },
      "execution_count": 119,
      "outputs": [
        {
          "output_type": "execute_result",
          "data": {
            "text/plain": [
              "[5.0⋅L⋅ρ]"
            ],
            "text/latex": "$\\displaystyle \\left[\\begin{matrix}5.0 L \\rho\\end{matrix}\\right]$"
          },
          "metadata": {},
          "execution_count": 119
        }
      ]
    },
    {
      "cell_type": "markdown",
      "source": [
        "**RIGIDEZ MODAL**"
      ],
      "metadata": {
        "id": "FFbCz7koKdtf"
      }
    },
    {
      "cell_type": "markdown",
      "source": [
        "Se utilizara la Ec 7:"
      ],
      "metadata": {
        "id": "DnUCwxJ0LNwY"
      }
    },
    {
      "cell_type": "code",
      "source": [
        "#Rigidez modal asociada al modo 1\n",
        "K1 = Transpose(phi1) * Kcond * phi1 ;K1"
      ],
      "metadata": {
        "colab": {
          "base_uri": "https://localhost:8080/",
          "height": 38
        },
        "id": "Mg--og1IJkLu",
        "outputId": "b1a3cbbf-e136-49e4-914a-43d837071d4f"
      },
      "execution_count": 120,
      "outputs": [
        {
          "output_type": "execute_result",
          "data": {
            "text/plain": [
              "⎡13.333⋅EI⎤\n",
              "⎢─────────⎥\n",
              "⎢     3   ⎥\n",
              "⎣    L    ⎦"
            ],
            "text/latex": "$\\displaystyle \\left[\\begin{matrix}\\frac{13.333 EI}{L^{3}}\\end{matrix}\\right]$"
          },
          "metadata": {},
          "execution_count": 120
        }
      ]
    },
    {
      "cell_type": "code",
      "source": [
        "#Rigidez modal asociada al modo 2\n",
        "K2 = Transpose(phi2) * Kcond * phi2 ;K2"
      ],
      "metadata": {
        "colab": {
          "base_uri": "https://localhost:8080/",
          "height": 38
        },
        "id": "pyKYSqK3F2JP",
        "outputId": "126d6428-36a8-4ebe-dccd-0d5ae9058ad3"
      },
      "execution_count": 121,
      "outputs": [
        {
          "output_type": "execute_result",
          "data": {
            "text/plain": [
              "⎡10.909⋅EI⎤\n",
              "⎢─────────⎥\n",
              "⎢     3   ⎥\n",
              "⎣    L    ⎦"
            ],
            "text/latex": "$\\displaystyle \\left[\\begin{matrix}\\frac{10.909 EI}{L^{3}}\\end{matrix}\\right]$"
          },
          "metadata": {},
          "execution_count": 121
        }
      ]
    }
  ]
}